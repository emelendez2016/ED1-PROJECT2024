{
 "cells": [
  {
   "cell_type": "code",
   "execution_count": 25,
   "metadata": {},
   "outputs": [
    {
     "data": {
      "text/plain": [
       "' Sponsor : Ali Ibrahim \\n\\n    Team Members :  Estuardo Melendez,  Manuel Jimenez ---- \"\"\"\"input names\\n\\n'"
      ]
     },
     "execution_count": 25,
     "metadata": {},
     "output_type": "execute_result"
    }
   ],
   "source": [
    "#HARMFUL BRAIN ACTIVITY CLASSIFICATION PROJECT \n",
    "''' Sponsor : Ali Ibrahim \n",
    "\n",
    "    Team Members :  Estuardo Melendez,  Manuel Jimenez ---- \"\"\"\"input names\n",
    "\n",
    "'''"
   ]
  },
  {
   "cell_type": "code",
   "execution_count": null,
   "metadata": {},
   "outputs": [],
   "source": [
    "#Pre-processing of Data :  Estuardo & Manny \n",
    "\n",
    "# Import necessary libraries for data handling, signal processing, and visualization\n",
    "import pandas as pd\n",
    "import numpy as np\n",
    "import matplotlib.pyplot as plt\n",
    "import os\n",
    "from scipy.signal import butter, filtfilt, spectrogram, iirnotch\n",
    "from mne.preprocessing import ICA\n",
    "\n",
    "#\n",
    "## IF LIBRARIES ARE THROWING AN ERROR: \n",
    "## Open terminal and run: pip install 'name_of_library', e.g., pip install pandas \n",
    "\n",
    "# ATTENTION!!!!!! : Change the directory path to your dataset\n",
    "#Manny C:/Users/Master/Documents/Project Data/hms-harmful-brain-activity-classification/train_eegs\n",
    "#Estuardo /Users/estuardomelendez/Downloads/hms-harmful-brain-activity-classification/train_eegs\n",
    "#Kevin \"C:/Users/Kevin Tran/Documents/GitHub ED1/hms-harmful-brain-activity-classificationtrain_eegs/train_eegs\"\n",
    "\n",
    "# Directory containing the training EEG files (raw data)\n",
    "train_eegs_dir = \"C:/Users/Kevin Tran/Documents/GitHub ED1/hms-harmful-brain-activity-classificationtrain_eegs/train_eegs\"\n",
    "\n",
    "\n",
    "'''\n",
    "hms-harmful-brain-activity-classification---- Data composition: \n",
    "\n",
    "\n",
    "train_eegs = Contains time-domain data\n",
    "train_spectogram = Contains frequency-domain data\n",
    "'''\n",
    "\n",
    "# List all .parquet files in the specified directory\n",
    "all_files = [os.path.join(train_eegs_dir, f) for f in os.listdir(train_eegs_dir) if f.endswith(\".parquet\")]\n",
    "\n",
    "'''\n",
    "## files_to_process can be changed to any integer between 1-100 for demo purposes or \"ALL\" for all files to be processed\n",
    "   (processing all parquet files can take a long time)\n",
    "'''\n",
    "# Allows processing of either a subset of files ex (1-100) or all files in the directory\n",
    "files_to_process = \"ALL\" # Change to \"ALL\" for processing all files\n",
    "\n",
    "# which files to be processed \n",
    "if isinstance(files_to_process, int) and 1 <= files_to_process <= 100:\n",
    "    files_to_process_list = all_files[:files_to_process]\n",
    "elif files_to_process == \"ALL\":\n",
    "    files_to_process_list = all_files\n",
    "else:\n",
    "    raise ValueError(\"files_to_process must be an integer between 1 and 100 or 'ALL'.\")\n",
    "\n",
    "# EEG Channel-to-Description Mapping: Maps channel names to their corresponding brain regions\n",
    "channel_mapping = {\n",
    "    \"Fp1\": \"Frontal pole on the left hemisphere\",\n",
    "    \"Fp2\": \"Frontal pole on the right hemisphere\",\n",
    "    \"F3\": \"Frontal lobe on the left hemisphere\",\n",
    "    \"F4\": \"Frontal lobe on the right hemisphere\",\n",
    "    \"C3\": \"Central area on the left hemisphere\",\n",
    "    \"C4\": \"Central area on the right hemisphere\",\n",
    "    \"P3\": \"Parietal lobe on the left hemisphere\",\n",
    "    \"P4\": \"Parietal lobe on the right hemisphere\",\n",
    "    \"O1\": \"Occipital lobe on the left hemisphere\",\n",
    "    \"O2\": \"Occipital lobe on the right hemisphere\",\n",
    "    \"F7\": \"Anterior temporal lobe on the left hemisphere\",\n",
    "    \"F8\": \"Anterior temporal lobe on the right hemisphere\",\n",
    "    \"T3\": \"Mid-temporal lobe on the left hemisphere\",\n",
    "    \"T4\": \"Mid-temporal lobe on the right hemisphere\",\n",
    "    \"T5\": \"Posterior temporal lobe on the left hemisphere\",\n",
    "    \"T6\": \"Posterior temporal lobe on the right hemisphere\",\n",
    "    \"Fz\": \"Frontal midline\",\n",
    "    \"Cz\": \"Central midline\",\n",
    "    \"Pz\": \"Parietal midline\"\n",
    "}\n",
    "\n",
    "# STEP 1: Notch filter function\n",
    "def apply_notch_filter(signal, fs, freq=60.0, quality_factor=2.0):\n",
    "    \n",
    "    \"\"\"\n",
    "    Removes powerline noise at a specific frequency (default 60 Hz).\n",
    "    Args:\n",
    "        signal: The EEG signal (1D array).\n",
    "        fs: Sampling frequency (Hz).\n",
    "        freq: Frequency to remove (Hz, default = 60).\n",
    "        quality_factor: Quality factor of the notch filter (default = 2.0).\n",
    "    Returns:\n",
    "        Filtered signal with the specified frequency removed.\n",
    "    \"\"\"\n",
    "\n",
    "    b, a = iirnotch(w0=freq, Q=quality_factor, fs=fs)\n",
    "    return filtfilt(b, a, signal)\n",
    "\n",
    "# STEP 2: Bandpass Filter function\n",
    "def apply_bandpass_filter(signal, fs, lowcut=0.5, highcut=40.0, order=5):\n",
    "    \n",
    "    \"\"\"\n",
    "    Retains signal components within a specific frequency range (default: 0.5–40 Hz).\n",
    "    Args:\n",
    "        signal: The EEG signal (1D array).\n",
    "        fs: Sampling frequency (Hz).\n",
    "        lowcut: Lower frequency bound (Hz, default = 0.5).\n",
    "        highcut: Upper frequency bound (Hz, default = 40).\n",
    "        order: Filter order (default = 5).\n",
    "    Returns:\n",
    "        Bandpass-filtered signal.\n",
    "    \"\"\"\n",
    "\n",
    "    nyquist = 0.5 * fs # Nyquist frequency\n",
    "    low = lowcut / nyquist\n",
    "    high = highcut / nyquist\n",
    "    b, a = butter(order, [low, high], btype='band')\n",
    "    return filtfilt(b, a, signal)\n",
    "\n",
    "# STEP 3: Artifact Removal with ICA (Optional)\n",
    "def apply_ica(signal, fs, n_components=10):\n",
    "    \n",
    "    ica = ICA(n_components=n_components, random_state=42, max_iter='auto')\n",
    "    signal_df = pd.DataFrame(signal)  # Convert signal to DataFrame for ICA compatibility\n",
    "    ica.fit(signal_df)\n",
    "    cleaned_signal = ica.apply(signal_df)\n",
    "    return cleaned_signal.values  # Return cleaned signal as numpy array\n",
    "\n",
    "# STEP 4: Normalize Signal\n",
    "def normalize_signal(signal):\n",
    "   \n",
    "     return (signal - np.mean(signal)) / np.std(signal)\n",
    "\n",
    "# STEP 5: Spectrogram Plot with Descriptions\n",
    "def plot_spectrogram_with_description(signal, fs, channel_name, title_prefix=\"Spectrogram\"):\n",
    "    \n",
    "    #Look up the description for the channel\n",
    "    description = channel_mapping.get(channel_name, \"Unknown channel\")\n",
    "    \n",
    "    #Generate the spectrogram\n",
    "    f, t, Sxx = spectrogram(signal, fs=fs, nperseg=128)\n",
    "    plt.figure(figsize=(10, 6))\n",
    "    plt.pcolormesh(t, f, 10 * np.log10(Sxx), shading='gouraud')\n",
    "    plt.colorbar(label='Power (dB)')\n",
    "    \n",
    "    #Add a descriptive title\n",
    "    plt.title(f\"{title_prefix} ({channel_name} - {description})\")\n",
    "    plt.xlabel(\"Time (s)\")\n",
    "    plt.ylabel(\"Frequency (Hz)\")\n",
    "    plt.ylim(0, 100)  # Limit to 100 Hz for EEG signals\n",
    "    plt.show()\n",
    "\n",
    "# function for Time-domain Plot\n",
    "def plot_time_domain(signal, fs, channel_name, title_prefix=\"Signal in Time Domain\"):\n",
    "    \n",
    "    # Look up the description for the channel\n",
    "    description = channel_mapping.get(channel_name, \"Unknown channel\")\n",
    "    \n",
    "    time = np.arange(len(signal)) / fs\n",
    "    plt.figure(figsize=(10, 4))\n",
    "    plt.plot(time, signal)\n",
    "    plt.title(f\"{title_prefix} ({channel_name} - {description})\")\n",
    "    plt.xlabel(\"Time (s)\")\n",
    "    plt.ylabel(\"Amplitude\")\n",
    "    plt.grid(True)\n",
    "    plt.show()\n",
    "\n",
    "# Preprocess and visualize a single File:\n",
    "def process_single_file(file_path, fs=200):\n",
    "    \n",
    "    # Load data\n",
    "    data = pd.read_parquet(file_path)\n",
    "    print(f\"Processing file: {file_path}\")\n",
    "    print(data.head())\n",
    "\n",
    "    processed_data = {}\n",
    "    for column in data.columns:\n",
    "        raw_signal = data[column].values\n",
    "        \n",
    "        #Plot raw signal spectrogram\n",
    "        plot_spectrogram_with_description(raw_signal, fs, channel_name=column, title_prefix=\"Raw Spectrogram\")\n",
    "        plot_time_domain(raw_signal, fs, channel_name=column, title_prefix=\"Raw Signal\")\n",
    "        \n",
    "        #Apply notch filter and bandpass filter\n",
    "        notch_filtered_signal = apply_notch_filter(raw_signal, fs, freq=60.0)\n",
    "        bandpass_filtered_signal = apply_bandpass_filter(notch_filtered_signal, fs, lowcut=0.5, highcut=40.0)\n",
    "        \n",
    "        # Normalize the signal\n",
    "        normalized_signal = normalize_signal(bandpass_filtered_signal)\n",
    "        \n",
    "        # (Optional) Apply ICA for artifact removal\n",
    "        # cleaned_signal = apply_ica(normalized_signal, fs)  # Uncomment if ICA is needed\n",
    "        \n",
    "        #Plot processed signal spectrogram and time-domain signal\n",
    "        plot_spectrogram_with_description(normalized_signal, fs, channel_name=column, title_prefix=\"Processed Spectrogram\")\n",
    "        plot_time_domain(normalized_signal, fs, channel_name=column, title_prefix=\"Processed Signal\")\n",
    "        \n",
    "        # Store processed data\n",
    "        processed_data[column] = normalized_signal\n",
    "\n",
    "    # Convert processed data back to DataFrame\n",
    "    processed_df = pd.DataFrame(processed_data)\n",
    "    return processed_df\n",
    "\n",
    "#Batch Process Files\n",
    "def batch_process_files(file_list, output_dir=None, fs=200):\n",
    "    \n",
    "    for file_path in file_list:\n",
    "        processed_df = process_single_file(file_path, fs=fs)\n",
    "        \n",
    "        # Optionally save the processed data\n",
    "        if output_dir:\n",
    "            os.makedirs(output_dir, exist_ok=True)\n",
    "            output_file = os.path.join(output_dir, os.path.basename(file_path))\n",
    "            processed_df.to_parquet(output_file)\n",
    "            print(f\"Saved processed file to: {output_file}\")\n",
    "\n",
    "''' \n",
    "ATTENTION: CHANGE OUTPUT DIRECTORY F  output_dir  TO THE FILEPATH OF THE FOLDER WHERE YOU WANT TO SAVE THE PRE-PROCESSED EEGS!!!\n",
    "'''\n",
    "# Output Directory for Processed Files\n",
    "#estuardo /Users/estuardomelendez/Desktop/processed_eegs\n",
    "#manny /Users/Master/Documents/Project Data/processed_eegs\n",
    "output_dir = \"C:/Users/Kevin Tran/Documents/Project Data/processed_eegs\"  # CHANGE TO YOUR OWN DIRECTORY \n",
    "\n",
    "# Run Batch Processing with Sampling Frequency of 200 --- Can be changed according to professors instructions:\n",
    "\n",
    "batch_process_files(files_to_process_list, output_dir=output_dir, fs=200)\n",
    "\n"
   ]
  },
  {
   "cell_type": "code",
   "execution_count": null,
   "metadata": {},
   "outputs": [],
   "source": [
    "#Preprocessing Step with Parallel Processing: Kevin             Allows for quick execution of processing all 17300 files\n",
    "\n",
    "\n",
    "import pandas as pd\n",
    "import numpy as np\n",
    "import os\n",
    "from scipy.signal import butter, filtfilt, iirnotch\n",
    "from concurrent.futures import ThreadPoolExecutor\n",
    "from tqdm import tqdm\n",
    "\n",
    "# 📌 Define directories\n",
    "raw_data_dir = r\"C:\\Users\\Kevin Tran\\Documents\\GitHub ED1\\hms-harmful-brain-activity-classificationtrain_eegs\\train_eegs\"\n",
    "processed_data_dir = r\"C:\\Users\\Kevin Tran\\Documents\\Project Data\\processed_eegs\"\n",
    "os.makedirs(processed_data_dir, exist_ok=True)  # Ensure processed folder exists\n",
    "\n",
    "# 📌 Verify if the EEG folder exists\n",
    "if not os.path.exists(raw_data_dir):\n",
    "    raise FileNotFoundError(f\"🚨 ERROR: The directory {raw_data_dir} does not exist. Please check the path.\")\n",
    "\n",
    "# 📌 List all files to process\n",
    "all_files = [os.path.join(raw_data_dir, f) for f in os.listdir(raw_data_dir) if f.endswith(\".parquet\")]\n",
    "\n",
    "# 📌 Check if there are files to process\n",
    "if len(all_files) == 0:\n",
    "    raise FileNotFoundError(f\"🚨 ERROR: No .parquet files found in {raw_data_dir}. Please check the folder contents.\")\n",
    "\n",
    "print(f\"✅ Found {len(all_files)} .parquet files in {raw_data_dir}. Ready to process.\\n\")\n",
    "\n",
    "# 📌 Define EEG Preprocessing Functions\n",
    "def apply_notch_filter(signal, fs=200, freq=60.0, quality_factor=30):\n",
    "    \"\"\"Apply a notch filter to remove 60Hz noise.\"\"\"\n",
    "    b, a = iirnotch(w0=freq, Q=quality_factor, fs=fs)\n",
    "    return filtfilt(b, a, signal)\n",
    "\n",
    "def apply_bandpass_filter(signal, fs=200, lowcut=0.5, highcut=40.0, order=5):\n",
    "    \"\"\"Apply a bandpass filter to keep frequencies between 0.5Hz and 40Hz.\"\"\"\n",
    "    nyquist = 0.5 * fs\n",
    "    low, high = lowcut / nyquist, highcut / nyquist\n",
    "    b, a = butter(order, [low, high], btype='band')\n",
    "    return filtfilt(b, a, signal)\n",
    "\n",
    "def normalize_signal(signal):\n",
    "    \"\"\"Normalize EEG signal to have zero mean and unit variance.\"\"\"\n",
    "    return (signal - np.mean(signal)) / np.std(signal)\n",
    "\n",
    "# 📌 Function to preprocess a single EEG file\n",
    "def process_single_file(file_path):\n",
    "    try:\n",
    "        # Load EEG Data\n",
    "        data = pd.read_parquet(file_path)\n",
    "\n",
    "        # Preprocess each EEG channel\n",
    "        processed_data = {}\n",
    "        for channel in data.columns:\n",
    "            signal = data[channel].values\n",
    "            signal = apply_notch_filter(signal)  # Remove powerline noise\n",
    "            signal = apply_bandpass_filter(signal)  # Keep only relevant frequencies\n",
    "            signal = normalize_signal(signal)  # Normalize the signal\n",
    "            processed_data[channel] = signal\n",
    "        \n",
    "        # Save the processed data\n",
    "        processed_df = pd.DataFrame(processed_data)\n",
    "        output_file = os.path.join(processed_data_dir, os.path.basename(file_path))\n",
    "        processed_df.to_parquet(output_file)\n",
    "        return f\"✅ Success: {os.path.basename(file_path)}\"\n",
    "    \n",
    "    except Exception as e:\n",
    "        return f\"❌ Failed: {os.path.basename(file_path)} | Error: {e}\"\n",
    "\n",
    "# 📌 Threaded Batch Processing\n",
    "def batch_process_files_threading(file_list, num_workers=os.cpu_count()//4):\n",
    "    batch_size = 100  # Process files in batches of 100\n",
    "    for i in range(0, len(file_list), batch_size):\n",
    "        batch = file_list[i:i + batch_size]\n",
    "        print(f\"🚀 Processing Batch {i//batch_size+1}/{len(file_list)//batch_size+1} ({len(batch)} files)...\")\n",
    "        with ThreadPoolExecutor(max_workers=num_workers) as executor:\n",
    "            results = list(tqdm(executor.map(process_single_file, batch), total=len(batch), desc=f\"Batch {i//batch_size+1}\"))\n",
    "\n",
    "        # Summary of results for the current batch\n",
    "        success = [res for res in results if res.startswith(\"✅\")]\n",
    "        failed = [res for res in results if res.startswith(\"❌\")]\n",
    "        print(f\"✔️ Batch Summary: {len(success)} Success, {len(failed)} Failed\\n\")\n",
    "        if failed:\n",
    "            print(f\"❌ Failed Files: {'; '.join(failed)}\\n\")\n",
    "\n",
    "# 📌 Run Preprocessing\n",
    "if __name__ == \"__main__\":\n",
    "    print(f\"Starting threaded processing for {len(all_files)} files...\\n\")\n",
    "    batch_process_files_threading(all_files)\n",
    "    print(\"✅ All EEG files have been processed and saved.\\n\")\n"
   ]
  },
  {
   "cell_type": "code",
   "execution_count": 5,
   "metadata": {},
   "outputs": [
    {
     "name": "stdout",
     "output_type": "stream",
     "text": [
      "Extracting features from: C:\\Users\\Kevin Tran\\Documents\\Project Data\\processed_eegs\\1000913311.parquet\n",
      "Extracting features from: C:\\Users\\Kevin Tran\\Documents\\Project Data\\processed_eegs\\1001369401.parquet\n",
      "Extracting features from: C:\\Users\\Kevin Tran\\Documents\\Project Data\\processed_eegs\\1001487592.parquet\n",
      "Extracting features from: C:\\Users\\Kevin Tran\\Documents\\Project Data\\processed_eegs\\1001717358.parquet\n",
      "Extracting features from: C:\\Users\\Kevin Tran\\Documents\\Project Data\\processed_eegs\\1002136740.parquet\n",
      "Extracting features from: C:\\Users\\Kevin Tran\\Documents\\Project Data\\processed_eegs\\1002142157.parquet\n",
      "Extracting features from: C:\\Users\\Kevin Tran\\Documents\\Project Data\\processed_eegs\\1002197945.parquet\n",
      "Extracting features from: C:\\Users\\Kevin Tran\\Documents\\Project Data\\processed_eegs\\1002379034.parquet\n",
      "Extracting features from: C:\\Users\\Kevin Tran\\Documents\\Project Data\\processed_eegs\\1002576868.parquet\n",
      "Extracting features from: C:\\Users\\Kevin Tran\\Documents\\Project Data\\processed_eegs\\100261680.parquet\n",
      "Extracting features from: C:\\Users\\Kevin Tran\\Documents\\Project Data\\processed_eegs\\1002858110.parquet\n",
      "Extracting features from: C:\\Users\\Kevin Tran\\Documents\\Project Data\\processed_eegs\\1003011202.parquet\n",
      "Extracting features from: C:\\Users\\Kevin Tran\\Documents\\Project Data\\processed_eegs\\1003163681.parquet\n",
      "Extracting features from: C:\\Users\\Kevin Tran\\Documents\\Project Data\\processed_eegs\\1003330515.parquet\n",
      "Extracting features from: C:\\Users\\Kevin Tran\\Documents\\Project Data\\processed_eegs\\1003353736.parquet\n",
      "Extracting features from: C:\\Users\\Kevin Tran\\Documents\\Project Data\\processed_eegs\\1003458521.parquet\n",
      "Extracting features from: C:\\Users\\Kevin Tran\\Documents\\Project Data\\processed_eegs\\1003517587.parquet\n",
      "Extracting features from: C:\\Users\\Kevin Tran\\Documents\\Project Data\\processed_eegs\\1003529080.parquet\n",
      "Extracting features from: C:\\Users\\Kevin Tran\\Documents\\Project Data\\processed_eegs\\1003675786.parquet\n",
      "Extracting features from: C:\\Users\\Kevin Tran\\Documents\\Project Data\\processed_eegs\\1003814407.parquet\n",
      "Extracting features from: C:\\Users\\Kevin Tran\\Documents\\Project Data\\processed_eegs\\1004019218.parquet\n",
      "Extracting features from: C:\\Users\\Kevin Tran\\Documents\\Project Data\\processed_eegs\\1004156847.parquet\n",
      "Extracting features from: C:\\Users\\Kevin Tran\\Documents\\Project Data\\processed_eegs\\1004534549.parquet\n",
      "Extracting features from: C:\\Users\\Kevin Tran\\Documents\\Project Data\\processed_eegs\\1004626343.parquet\n",
      "Extracting features from: C:\\Users\\Kevin Tran\\Documents\\Project Data\\processed_eegs\\1005166455.parquet\n",
      "Extracting features from: C:\\Users\\Kevin Tran\\Documents\\Project Data\\processed_eegs\\1005173045.parquet\n",
      "Extracting features from: C:\\Users\\Kevin Tran\\Documents\\Project Data\\processed_eegs\\1005200526.parquet\n",
      "Extracting features from: C:\\Users\\Kevin Tran\\Documents\\Project Data\\processed_eegs\\1005420143.parquet\n",
      "Extracting features from: C:\\Users\\Kevin Tran\\Documents\\Project Data\\processed_eegs\\1005941287.parquet\n",
      "Extracting features from: C:\\Users\\Kevin Tran\\Documents\\Project Data\\processed_eegs\\1006509151.parquet\n",
      "Extracting features from: C:\\Users\\Kevin Tran\\Documents\\Project Data\\processed_eegs\\1006575126.parquet\n",
      "Extracting features from: C:\\Users\\Kevin Tran\\Documents\\Project Data\\processed_eegs\\1007356722.parquet\n",
      "Extracting features from: C:\\Users\\Kevin Tran\\Documents\\Project Data\\processed_eegs\\1007506185.parquet\n",
      "Extracting features from: C:\\Users\\Kevin Tran\\Documents\\Project Data\\processed_eegs\\1007580543.parquet\n",
      "Extracting features from: C:\\Users\\Kevin Tran\\Documents\\Project Data\\processed_eegs\\1008031281.parquet\n",
      "Extracting features from: C:\\Users\\Kevin Tran\\Documents\\Project Data\\processed_eegs\\1008263956.parquet\n",
      "Extracting features from: C:\\Users\\Kevin Tran\\Documents\\Project Data\\processed_eegs\\1008331981.parquet\n",
      "Extracting features from: C:\\Users\\Kevin Tran\\Documents\\Project Data\\processed_eegs\\1008335975.parquet\n",
      "Extracting features from: C:\\Users\\Kevin Tran\\Documents\\Project Data\\processed_eegs\\1008426936.parquet\n",
      "Extracting features from: C:\\Users\\Kevin Tran\\Documents\\Project Data\\processed_eegs\\1008456640.parquet\n",
      "Extracting features from: C:\\Users\\Kevin Tran\\Documents\\Project Data\\processed_eegs\\100865211.parquet\n",
      "Extracting features from: C:\\Users\\Kevin Tran\\Documents\\Project Data\\processed_eegs\\1008747430.parquet\n",
      "Extracting features from: C:\\Users\\Kevin Tran\\Documents\\Project Data\\processed_eegs\\1009006544.parquet\n",
      "Extracting features from: C:\\Users\\Kevin Tran\\Documents\\Project Data\\processed_eegs\\1009128037.parquet\n",
      "Extracting features from: C:\\Users\\Kevin Tran\\Documents\\Project Data\\processed_eegs\\1009215281.parquet\n",
      "Extracting features from: C:\\Users\\Kevin Tran\\Documents\\Project Data\\processed_eegs\\100983721.parquet\n",
      "Extracting features from: C:\\Users\\Kevin Tran\\Documents\\Project Data\\processed_eegs\\1009851105.parquet\n",
      "Extracting features from: C:\\Users\\Kevin Tran\\Documents\\Project Data\\processed_eegs\\1010177503.parquet\n",
      "Extracting features from: C:\\Users\\Kevin Tran\\Documents\\Project Data\\processed_eegs\\1010304596.parquet\n",
      "Extracting features from: C:\\Users\\Kevin Tran\\Documents\\Project Data\\processed_eegs\\1010410816.parquet\n",
      "Extracting features from: C:\\Users\\Kevin Tran\\Documents\\Project Data\\processed_eegs\\1010452159.parquet\n",
      "Extracting features from: C:\\Users\\Kevin Tran\\Documents\\Project Data\\processed_eegs\\1010566708.parquet\n",
      "Extracting features from: C:\\Users\\Kevin Tran\\Documents\\Project Data\\processed_eegs\\1010760130.parquet\n",
      "Extracting features from: C:\\Users\\Kevin Tran\\Documents\\Project Data\\processed_eegs\\1010795734.parquet\n",
      "Extracting features from: C:\\Users\\Kevin Tran\\Documents\\Project Data\\processed_eegs\\101080295.parquet\n",
      "Extracting features from: C:\\Users\\Kevin Tran\\Documents\\Project Data\\processed_eegs\\1010986046.parquet\n",
      "Extracting features from: C:\\Users\\Kevin Tran\\Documents\\Project Data\\processed_eegs\\1011074181.parquet\n",
      "Extracting features from: C:\\Users\\Kevin Tran\\Documents\\Project Data\\processed_eegs\\1011179387.parquet\n",
      "Extracting features from: C:\\Users\\Kevin Tran\\Documents\\Project Data\\processed_eegs\\101122689.parquet\n",
      "Extracting features from: C:\\Users\\Kevin Tran\\Documents\\Project Data\\processed_eegs\\1011349601.parquet\n",
      "Extracting features from: C:\\Users\\Kevin Tran\\Documents\\Project Data\\processed_eegs\\1011778070.parquet\n",
      "Extracting features from: C:\\Users\\Kevin Tran\\Documents\\Project Data\\processed_eegs\\101195762.parquet\n",
      "Extracting features from: C:\\Users\\Kevin Tran\\Documents\\Project Data\\processed_eegs\\1012577360.parquet\n",
      "Extracting features from: C:\\Users\\Kevin Tran\\Documents\\Project Data\\processed_eegs\\1012632670.parquet\n",
      "Extracting features from: C:\\Users\\Kevin Tran\\Documents\\Project Data\\processed_eegs\\1013100659.parquet\n",
      "Extracting features from: C:\\Users\\Kevin Tran\\Documents\\Project Data\\processed_eegs\\1013655517.parquet\n",
      "Extracting features from: C:\\Users\\Kevin Tran\\Documents\\Project Data\\processed_eegs\\101366422.parquet\n",
      "Extracting features from: C:\\Users\\Kevin Tran\\Documents\\Project Data\\processed_eegs\\1013853735.parquet\n",
      "Extracting features from: C:\\Users\\Kevin Tran\\Documents\\Project Data\\processed_eegs\\1014084064.parquet\n",
      "Extracting features from: C:\\Users\\Kevin Tran\\Documents\\Project Data\\processed_eegs\\1014203300.parquet\n",
      "Extracting features from: C:\\Users\\Kevin Tran\\Documents\\Project Data\\processed_eegs\\1014814310.parquet\n",
      "Extracting features from: C:\\Users\\Kevin Tran\\Documents\\Project Data\\processed_eegs\\1014985354.parquet\n",
      "Extracting features from: C:\\Users\\Kevin Tran\\Documents\\Project Data\\processed_eegs\\1015063566.parquet\n",
      "Extracting features from: C:\\Users\\Kevin Tran\\Documents\\Project Data\\processed_eegs\\1015244684.parquet\n",
      "Extracting features from: C:\\Users\\Kevin Tran\\Documents\\Project Data\\processed_eegs\\1015395189.parquet\n",
      "Extracting features from: C:\\Users\\Kevin Tran\\Documents\\Project Data\\processed_eegs\\1015520380.parquet\n",
      "Extracting features from: C:\\Users\\Kevin Tran\\Documents\\Project Data\\processed_eegs\\1015533435.parquet\n",
      "Extracting features from: C:\\Users\\Kevin Tran\\Documents\\Project Data\\processed_eegs\\101565666.parquet\n",
      "Extracting features from: C:\\Users\\Kevin Tran\\Documents\\Project Data\\processed_eegs\\1015861404.parquet\n",
      "Extracting features from: C:\\Users\\Kevin Tran\\Documents\\Project Data\\processed_eegs\\1016152689.parquet\n",
      "Extracting features from: C:\\Users\\Kevin Tran\\Documents\\Project Data\\processed_eegs\\101619731.parquet\n",
      "Extracting features from: C:\\Users\\Kevin Tran\\Documents\\Project Data\\processed_eegs\\1016253909.parquet\n",
      "Extracting features from: C:\\Users\\Kevin Tran\\Documents\\Project Data\\processed_eegs\\1016412282.parquet\n",
      "Extracting features from: C:\\Users\\Kevin Tran\\Documents\\Project Data\\processed_eegs\\1016461238.parquet\n",
      "Extracting features from: C:\\Users\\Kevin Tran\\Documents\\Project Data\\processed_eegs\\1017383120.parquet\n",
      "Extracting features from: C:\\Users\\Kevin Tran\\Documents\\Project Data\\processed_eegs\\1017569404.parquet\n",
      "Extracting features from: C:\\Users\\Kevin Tran\\Documents\\Project Data\\processed_eegs\\1017659750.parquet\n",
      "Extracting features from: C:\\Users\\Kevin Tran\\Documents\\Project Data\\processed_eegs\\1017746075.parquet\n",
      "Extracting features from: C:\\Users\\Kevin Tran\\Documents\\Project Data\\processed_eegs\\1018200965.parquet\n",
      "Extracting features from: C:\\Users\\Kevin Tran\\Documents\\Project Data\\processed_eegs\\1018435561.parquet\n",
      "Extracting features from: C:\\Users\\Kevin Tran\\Documents\\Project Data\\processed_eegs\\1018864376.parquet\n",
      "Extracting features from: C:\\Users\\Kevin Tran\\Documents\\Project Data\\processed_eegs\\1018922951.parquet\n",
      "Extracting features from: C:\\Users\\Kevin Tran\\Documents\\Project Data\\processed_eegs\\1019088306.parquet\n",
      "Extracting features from: C:\\Users\\Kevin Tran\\Documents\\Project Data\\processed_eegs\\1019268007.parquet\n",
      "Extracting features from: C:\\Users\\Kevin Tran\\Documents\\Project Data\\processed_eegs\\1019308987.parquet\n",
      "Extracting features from: C:\\Users\\Kevin Tran\\Documents\\Project Data\\processed_eegs\\1019311223.parquet\n",
      "Extracting features from: C:\\Users\\Kevin Tran\\Documents\\Project Data\\processed_eegs\\1019408895.parquet\n",
      "Extracting features from: C:\\Users\\Kevin Tran\\Documents\\Project Data\\processed_eegs\\1019419868.parquet\n",
      "Extracting features from: C:\\Users\\Kevin Tran\\Documents\\Project Data\\processed_eegs\\1020397784.parquet\n",
      "Extracting features from: C:\\Users\\Kevin Tran\\Documents\\Project Data\\processed_eegs\\1020552314.parquet\n",
      "Extracting features from: C:\\Users\\Kevin Tran\\Documents\\Project Data\\processed_eegs\\1020554306.parquet\n",
      "Extracting features from: C:\\Users\\Kevin Tran\\Documents\\Project Data\\processed_eegs\\102057647.parquet\n",
      "Extracting features from: C:\\Users\\Kevin Tran\\Documents\\Project Data\\processed_eegs\\1021052833.parquet\n",
      "Extracting features from: C:\\Users\\Kevin Tran\\Documents\\Project Data\\processed_eegs\\1021185090.parquet\n",
      "Extracting features from: C:\\Users\\Kevin Tran\\Documents\\Project Data\\processed_eegs\\1021439110.parquet\n",
      "Extracting features from: C:\\Users\\Kevin Tran\\Documents\\Project Data\\processed_eegs\\1021701043.parquet\n",
      "Extracting features from: C:\\Users\\Kevin Tran\\Documents\\Project Data\\processed_eegs\\1022751153.parquet\n",
      "Extracting features from: C:\\Users\\Kevin Tran\\Documents\\Project Data\\processed_eegs\\1022761360.parquet\n",
      "Extracting features from: C:\\Users\\Kevin Tran\\Documents\\Project Data\\processed_eegs\\1022769212.parquet\n",
      "Extracting features from: C:\\Users\\Kevin Tran\\Documents\\Project Data\\processed_eegs\\1023132955.parquet\n",
      "Extracting features from: C:\\Users\\Kevin Tran\\Documents\\Project Data\\processed_eegs\\1023846417.parquet\n",
      "Extracting features from: C:\\Users\\Kevin Tran\\Documents\\Project Data\\processed_eegs\\1024142789.parquet\n",
      "Extracting features from: C:\\Users\\Kevin Tran\\Documents\\Project Data\\processed_eegs\\1024159259.parquet\n",
      "Extracting features from: C:\\Users\\Kevin Tran\\Documents\\Project Data\\processed_eegs\\1024530160.parquet\n",
      "Extracting features from: C:\\Users\\Kevin Tran\\Documents\\Project Data\\processed_eegs\\10249311.parquet\n",
      "Extracting features from: C:\\Users\\Kevin Tran\\Documents\\Project Data\\processed_eegs\\1025599643.parquet\n",
      "Extracting features from: C:\\Users\\Kevin Tran\\Documents\\Project Data\\processed_eegs\\1025655784.parquet\n",
      "Extracting features from: C:\\Users\\Kevin Tran\\Documents\\Project Data\\processed_eegs\\1026086500.parquet\n",
      "Extracting features from: C:\\Users\\Kevin Tran\\Documents\\Project Data\\processed_eegs\\1026359022.parquet\n",
      "Extracting features from: C:\\Users\\Kevin Tran\\Documents\\Project Data\\processed_eegs\\1026473133.parquet\n",
      "Extracting features from: C:\\Users\\Kevin Tran\\Documents\\Project Data\\processed_eegs\\1026567660.parquet\n",
      "Extracting features from: C:\\Users\\Kevin Tran\\Documents\\Project Data\\processed_eegs\\1026607406.parquet\n",
      "Extracting features from: C:\\Users\\Kevin Tran\\Documents\\Project Data\\processed_eegs\\1026895611.parquet\n",
      "Extracting features from: C:\\Users\\Kevin Tran\\Documents\\Project Data\\processed_eegs\\1027153093.parquet\n",
      "Extracting features from: C:\\Users\\Kevin Tran\\Documents\\Project Data\\processed_eegs\\1027353006.parquet\n",
      "Extracting features from: C:\\Users\\Kevin Tran\\Documents\\Project Data\\processed_eegs\\1027653863.parquet\n",
      "Extracting features from: C:\\Users\\Kevin Tran\\Documents\\Project Data\\processed_eegs\\1028067738.parquet\n",
      "Extracting features from: C:\\Users\\Kevin Tran\\Documents\\Project Data\\processed_eegs\\1028245680.parquet\n",
      "Extracting features from: C:\\Users\\Kevin Tran\\Documents\\Project Data\\processed_eegs\\1028528611.parquet\n",
      "Extracting features from: C:\\Users\\Kevin Tran\\Documents\\Project Data\\processed_eegs\\1028978272.parquet\n",
      "Extracting features from: C:\\Users\\Kevin Tran\\Documents\\Project Data\\processed_eegs\\1029122980.parquet\n",
      "Extracting features from: C:\\Users\\Kevin Tran\\Documents\\Project Data\\processed_eegs\\1029773755.parquet\n",
      "Extracting features from: C:\\Users\\Kevin Tran\\Documents\\Project Data\\processed_eegs\\1029863597.parquet\n",
      "Extracting features from: C:\\Users\\Kevin Tran\\Documents\\Project Data\\processed_eegs\\1029876643.parquet\n",
      "Extracting features from: C:\\Users\\Kevin Tran\\Documents\\Project Data\\processed_eegs\\1029966334.parquet\n",
      "Extracting features from: C:\\Users\\Kevin Tran\\Documents\\Project Data\\processed_eegs\\1030044632.parquet\n",
      "Extracting features from: C:\\Users\\Kevin Tran\\Documents\\Project Data\\processed_eegs\\1030270485.parquet\n",
      "Extracting features from: C:\\Users\\Kevin Tran\\Documents\\Project Data\\processed_eegs\\1030375965.parquet\n",
      "Extracting features from: C:\\Users\\Kevin Tran\\Documents\\Project Data\\processed_eegs\\1030387714.parquet\n",
      "Extracting features from: C:\\Users\\Kevin Tran\\Documents\\Project Data\\processed_eegs\\1030480798.parquet\n",
      "Extracting features from: C:\\Users\\Kevin Tran\\Documents\\Project Data\\processed_eegs\\1030673804.parquet\n",
      "Extracting features from: C:\\Users\\Kevin Tran\\Documents\\Project Data\\processed_eegs\\103069834.parquet\n",
      "Extracting features from: C:\\Users\\Kevin Tran\\Documents\\Project Data\\processed_eegs\\1031253126.parquet\n",
      "Extracting features from: C:\\Users\\Kevin Tran\\Documents\\Project Data\\processed_eegs\\1031266155.parquet\n",
      "Extracting features from: C:\\Users\\Kevin Tran\\Documents\\Project Data\\processed_eegs\\1031430408.parquet\n",
      "Extracting features from: C:\\Users\\Kevin Tran\\Documents\\Project Data\\processed_eegs\\1031588198.parquet\n",
      "Extracting features from: C:\\Users\\Kevin Tran\\Documents\\Project Data\\processed_eegs\\1031788039.parquet\n",
      "Extracting features from: C:\\Users\\Kevin Tran\\Documents\\Project Data\\processed_eegs\\1032095383.parquet\n",
      "Extracting features from: C:\\Users\\Kevin Tran\\Documents\\Project Data\\processed_eegs\\1032472598.parquet\n",
      "Extracting features from: C:\\Users\\Kevin Tran\\Documents\\Project Data\\processed_eegs\\1032644496.parquet\n",
      "Extracting features from: C:\\Users\\Kevin Tran\\Documents\\Project Data\\processed_eegs\\1032945224.parquet\n",
      "Extracting features from: C:\\Users\\Kevin Tran\\Documents\\Project Data\\processed_eegs\\1033152642.parquet\n",
      "Extracting features from: C:\\Users\\Kevin Tran\\Documents\\Project Data\\processed_eegs\\1033352235.parquet\n",
      "Extracting features from: C:\\Users\\Kevin Tran\\Documents\\Project Data\\processed_eegs\\1033402741.parquet\n",
      "Extracting features from: C:\\Users\\Kevin Tran\\Documents\\Project Data\\processed_eegs\\1033477529.parquet\n",
      "Extracting features from: C:\\Users\\Kevin Tran\\Documents\\Project Data\\processed_eegs\\1033487223.parquet\n",
      "Extracting features from: C:\\Users\\Kevin Tran\\Documents\\Project Data\\processed_eegs\\1033678548.parquet\n",
      "Extracting features from: C:\\Users\\Kevin Tran\\Documents\\Project Data\\processed_eegs\\1033688929.parquet\n",
      "Extracting features from: C:\\Users\\Kevin Tran\\Documents\\Project Data\\processed_eegs\\1033711051.parquet\n",
      "Extracting features from: C:\\Users\\Kevin Tran\\Documents\\Project Data\\processed_eegs\\103375107.parquet\n",
      "Extracting features from: C:\\Users\\Kevin Tran\\Documents\\Project Data\\processed_eegs\\1033944434.parquet\n",
      "Extracting features from: C:\\Users\\Kevin Tran\\Documents\\Project Data\\processed_eegs\\1034153614.parquet\n",
      "Extracting features from: C:\\Users\\Kevin Tran\\Documents\\Project Data\\processed_eegs\\1034222828.parquet\n",
      "Extracting features from: C:\\Users\\Kevin Tran\\Documents\\Project Data\\processed_eegs\\10343849.parquet\n",
      "Extracting features from: C:\\Users\\Kevin Tran\\Documents\\Project Data\\processed_eegs\\1035494544.parquet\n",
      "Extracting features from: C:\\Users\\Kevin Tran\\Documents\\Project Data\\processed_eegs\\1035710827.parquet\n",
      "Extracting features from: C:\\Users\\Kevin Tran\\Documents\\Project Data\\processed_eegs\\1035875156.parquet\n",
      "Extracting features from: C:\\Users\\Kevin Tran\\Documents\\Project Data\\processed_eegs\\1036203710.parquet\n",
      "Extracting features from: C:\\Users\\Kevin Tran\\Documents\\Project Data\\processed_eegs\\1036339625.parquet\n",
      "Extracting features from: C:\\Users\\Kevin Tran\\Documents\\Project Data\\processed_eegs\\1036506711.parquet\n",
      "Extracting features from: C:\\Users\\Kevin Tran\\Documents\\Project Data\\processed_eegs\\1036581668.parquet\n",
      "Extracting features from: C:\\Users\\Kevin Tran\\Documents\\Project Data\\processed_eegs\\1036619208.parquet\n",
      "Extracting features from: C:\\Users\\Kevin Tran\\Documents\\Project Data\\processed_eegs\\1036922700.parquet\n",
      "Extracting features from: C:\\Users\\Kevin Tran\\Documents\\Project Data\\processed_eegs\\1037053695.parquet\n",
      "Extracting features from: C:\\Users\\Kevin Tran\\Documents\\Project Data\\processed_eegs\\1037432925.parquet\n",
      "Extracting features from: C:\\Users\\Kevin Tran\\Documents\\Project Data\\processed_eegs\\1037555924.parquet\n",
      "Extracting features from: C:\\Users\\Kevin Tran\\Documents\\Project Data\\processed_eegs\\1037773381.parquet\n",
      "Extracting features from: C:\\Users\\Kevin Tran\\Documents\\Project Data\\processed_eegs\\1038108573.parquet\n",
      "Extracting features from: C:\\Users\\Kevin Tran\\Documents\\Project Data\\processed_eegs\\1038151191.parquet\n",
      "Extracting features from: C:\\Users\\Kevin Tran\\Documents\\Project Data\\processed_eegs\\1038522231.parquet\n",
      "Extracting features from: C:\\Users\\Kevin Tran\\Documents\\Project Data\\processed_eegs\\10386542.parquet\n",
      "Extracting features from: C:\\Users\\Kevin Tran\\Documents\\Project Data\\processed_eegs\\1038675800.parquet\n",
      "Extracting features from: C:\\Users\\Kevin Tran\\Documents\\Project Data\\processed_eegs\\1038740363.parquet\n",
      "Extracting features from: C:\\Users\\Kevin Tran\\Documents\\Project Data\\processed_eegs\\1039058822.parquet\n",
      "Extracting features from: C:\\Users\\Kevin Tran\\Documents\\Project Data\\processed_eegs\\103921849.parquet\n",
      "Extracting features from: C:\\Users\\Kevin Tran\\Documents\\Project Data\\processed_eegs\\1039229136.parquet\n",
      "Extracting features from: C:\\Users\\Kevin Tran\\Documents\\Project Data\\processed_eegs\\1039503382.parquet\n",
      "Extracting features from: C:\\Users\\Kevin Tran\\Documents\\Project Data\\processed_eegs\\1039933132.parquet\n",
      "Extracting features from: C:\\Users\\Kevin Tran\\Documents\\Project Data\\processed_eegs\\1039968552.parquet\n",
      "Extracting features from: C:\\Users\\Kevin Tran\\Documents\\Project Data\\processed_eegs\\1039994266.parquet\n",
      "Extracting features from: C:\\Users\\Kevin Tran\\Documents\\Project Data\\processed_eegs\\1040654873.parquet\n",
      "Extracting features from: C:\\Users\\Kevin Tran\\Documents\\Project Data\\processed_eegs\\1040792873.parquet\n",
      "Extracting features from: C:\\Users\\Kevin Tran\\Documents\\Project Data\\processed_eegs\\1041025912.parquet\n",
      "Extracting features from: C:\\Users\\Kevin Tran\\Documents\\Project Data\\processed_eegs\\1041252567.parquet\n",
      "Extracting features from: C:\\Users\\Kevin Tran\\Documents\\Project Data\\processed_eegs\\104130425.parquet\n",
      "Extracting features from: C:\\Users\\Kevin Tran\\Documents\\Project Data\\processed_eegs\\104136958.parquet\n",
      "Extracting features from: C:\\Users\\Kevin Tran\\Documents\\Project Data\\processed_eegs\\1041497679.parquet\n",
      "Extracting features from: C:\\Users\\Kevin Tran\\Documents\\Project Data\\processed_eegs\\1041541339.parquet\n",
      "Extracting features from: C:\\Users\\Kevin Tran\\Documents\\Project Data\\processed_eegs\\1042517720.parquet\n",
      "Extracting features from: C:\\Users\\Kevin Tran\\Documents\\Project Data\\processed_eegs\\1042732873.parquet\n",
      "Extracting features from: C:\\Users\\Kevin Tran\\Documents\\Project Data\\processed_eegs\\1042819650.parquet\n",
      "Extracting features from: C:\\Users\\Kevin Tran\\Documents\\Project Data\\processed_eegs\\1043004381.parquet\n",
      "Extracting features from: C:\\Users\\Kevin Tran\\Documents\\Project Data\\processed_eegs\\1043874234.parquet\n",
      "Extracting features from: C:\\Users\\Kevin Tran\\Documents\\Project Data\\processed_eegs\\1044076067.parquet\n",
      "Extracting features from: C:\\Users\\Kevin Tran\\Documents\\Project Data\\processed_eegs\\1044649692.parquet\n",
      "Extracting features from: C:\\Users\\Kevin Tran\\Documents\\Project Data\\processed_eegs\\1044863512.parquet\n",
      "Extracting features from: C:\\Users\\Kevin Tran\\Documents\\Project Data\\processed_eegs\\1044932137.parquet\n",
      "Extracting features from: C:\\Users\\Kevin Tran\\Documents\\Project Data\\processed_eegs\\1045429553.parquet\n",
      "Extracting features from: C:\\Users\\Kevin Tran\\Documents\\Project Data\\processed_eegs\\1045723955.parquet\n",
      "Extracting features from: C:\\Users\\Kevin Tran\\Documents\\Project Data\\processed_eegs\\1045793518.parquet\n",
      "Extracting features from: C:\\Users\\Kevin Tran\\Documents\\Project Data\\processed_eegs\\1045895032.parquet\n",
      "Extracting features from: C:\\Users\\Kevin Tran\\Documents\\Project Data\\processed_eegs\\1046303268.parquet\n",
      "Extracting features from: C:\\Users\\Kevin Tran\\Documents\\Project Data\\processed_eegs\\1046614618.parquet\n",
      "Extracting features from: C:\\Users\\Kevin Tran\\Documents\\Project Data\\processed_eegs\\10466156.parquet\n",
      "Extracting features from: C:\\Users\\Kevin Tran\\Documents\\Project Data\\processed_eegs\\1046635662.parquet\n",
      "Extracting features from: C:\\Users\\Kevin Tran\\Documents\\Project Data\\processed_eegs\\1046792525.parquet\n",
      "Extracting features from: C:\\Users\\Kevin Tran\\Documents\\Project Data\\processed_eegs\\1046955522.parquet\n",
      "Extracting features from: C:\\Users\\Kevin Tran\\Documents\\Project Data\\processed_eegs\\1047041162.parquet\n",
      "Extracting features from: C:\\Users\\Kevin Tran\\Documents\\Project Data\\processed_eegs\\1047344237.parquet\n",
      "Extracting features from: C:\\Users\\Kevin Tran\\Documents\\Project Data\\processed_eegs\\1047471605.parquet\n",
      "Extracting features from: C:\\Users\\Kevin Tran\\Documents\\Project Data\\processed_eegs\\1047576492.parquet\n",
      "Extracting features from: C:\\Users\\Kevin Tran\\Documents\\Project Data\\processed_eegs\\1047741956.parquet\n",
      "Extracting features from: C:\\Users\\Kevin Tran\\Documents\\Project Data\\processed_eegs\\104817853.parquet\n",
      "Extracting features from: C:\\Users\\Kevin Tran\\Documents\\Project Data\\processed_eegs\\1048681252.parquet\n",
      "Extracting features from: C:\\Users\\Kevin Tran\\Documents\\Project Data\\processed_eegs\\1048893097.parquet\n",
      "Extracting features from: C:\\Users\\Kevin Tran\\Documents\\Project Data\\processed_eegs\\1049314824.parquet\n",
      "Extracting features from: C:\\Users\\Kevin Tran\\Documents\\Project Data\\processed_eegs\\1049329959.parquet\n",
      "Extracting features from: C:\\Users\\Kevin Tran\\Documents\\Project Data\\processed_eegs\\1049419949.parquet\n",
      "Extracting features from: C:\\Users\\Kevin Tran\\Documents\\Project Data\\processed_eegs\\104950672.parquet\n",
      "Extracting features from: C:\\Users\\Kevin Tran\\Documents\\Project Data\\processed_eegs\\1049785745.parquet\n",
      "Extracting features from: C:\\Users\\Kevin Tran\\Documents\\Project Data\\processed_eegs\\1049822368.parquet\n",
      "Extracting features from: C:\\Users\\Kevin Tran\\Documents\\Project Data\\processed_eegs\\1050317502.parquet\n",
      "Extracting features from: C:\\Users\\Kevin Tran\\Documents\\Project Data\\processed_eegs\\1050422172.parquet\n",
      "Extracting features from: C:\\Users\\Kevin Tran\\Documents\\Project Data\\processed_eegs\\1050474295.parquet\n",
      "Extracting features from: C:\\Users\\Kevin Tran\\Documents\\Project Data\\processed_eegs\\1050794646.parquet\n",
      "Extracting features from: C:\\Users\\Kevin Tran\\Documents\\Project Data\\processed_eegs\\1050927780.parquet\n",
      "Extracting features from: C:\\Users\\Kevin Tran\\Documents\\Project Data\\processed_eegs\\1050997411.parquet\n",
      "Extracting features from: C:\\Users\\Kevin Tran\\Documents\\Project Data\\processed_eegs\\1051209118.parquet\n",
      "Extracting features from: C:\\Users\\Kevin Tran\\Documents\\Project Data\\processed_eegs\\1051718046.parquet\n",
      "Extracting features from: C:\\Users\\Kevin Tran\\Documents\\Project Data\\processed_eegs\\1052025587.parquet\n",
      "Extracting features from: C:\\Users\\Kevin Tran\\Documents\\Project Data\\processed_eegs\\1052075017.parquet\n",
      "Extracting features from: C:\\Users\\Kevin Tran\\Documents\\Project Data\\processed_eegs\\1052137713.parquet\n",
      "Extracting features from: C:\\Users\\Kevin Tran\\Documents\\Project Data\\processed_eegs\\1052181360.parquet\n",
      "Extracting features from: C:\\Users\\Kevin Tran\\Documents\\Project Data\\processed_eegs\\1052525377.parquet\n",
      "Extracting features from: C:\\Users\\Kevin Tran\\Documents\\Project Data\\processed_eegs\\1052555553.parquet\n",
      "Extracting features from: C:\\Users\\Kevin Tran\\Documents\\Project Data\\processed_eegs\\1052595853.parquet\n",
      "Extracting features from: C:\\Users\\Kevin Tran\\Documents\\Project Data\\processed_eegs\\1052788311.parquet\n",
      "Extracting features from: C:\\Users\\Kevin Tran\\Documents\\Project Data\\processed_eegs\\1052897805.parquet\n",
      "Extracting features from: C:\\Users\\Kevin Tran\\Documents\\Project Data\\processed_eegs\\1053473655.parquet\n",
      "Extracting features from: C:\\Users\\Kevin Tran\\Documents\\Project Data\\processed_eegs\\1053848474.parquet\n",
      "Extracting features from: C:\\Users\\Kevin Tran\\Documents\\Project Data\\processed_eegs\\105417608.parquet\n",
      "Extracting features from: C:\\Users\\Kevin Tran\\Documents\\Project Data\\processed_eegs\\1054182773.parquet\n",
      "Extracting features from: C:\\Users\\Kevin Tran\\Documents\\Project Data\\processed_eegs\\1054252441.parquet\n",
      "Extracting features from: C:\\Users\\Kevin Tran\\Documents\\Project Data\\processed_eegs\\1054776749.parquet\n",
      "Extracting features from: C:\\Users\\Kevin Tran\\Documents\\Project Data\\processed_eegs\\1054815914.parquet\n",
      "Extracting features from: C:\\Users\\Kevin Tran\\Documents\\Project Data\\processed_eegs\\1054846702.parquet\n",
      "Extracting features from: C:\\Users\\Kevin Tran\\Documents\\Project Data\\processed_eegs\\1054942570.parquet\n",
      "Extracting features from: C:\\Users\\Kevin Tran\\Documents\\Project Data\\processed_eegs\\1055172672.parquet\n",
      "Extracting features from: C:\\Users\\Kevin Tran\\Documents\\Project Data\\processed_eegs\\1055532574.parquet\n",
      "Extracting features from: C:\\Users\\Kevin Tran\\Documents\\Project Data\\processed_eegs\\1055553016.parquet\n",
      "Extracting features from: C:\\Users\\Kevin Tran\\Documents\\Project Data\\processed_eegs\\1056078703.parquet\n",
      "Extracting features from: C:\\Users\\Kevin Tran\\Documents\\Project Data\\processed_eegs\\1056283163.parquet\n",
      "Extracting features from: C:\\Users\\Kevin Tran\\Documents\\Project Data\\processed_eegs\\1057127271.parquet\n",
      "Extracting features from: C:\\Users\\Kevin Tran\\Documents\\Project Data\\processed_eegs\\1057446731.parquet\n",
      "Extracting features from: C:\\Users\\Kevin Tran\\Documents\\Project Data\\processed_eegs\\1057623030.parquet\n",
      "Extracting features from: C:\\Users\\Kevin Tran\\Documents\\Project Data\\processed_eegs\\1057661588.parquet\n",
      "Extracting features from: C:\\Users\\Kevin Tran\\Documents\\Project Data\\processed_eegs\\1057856283.parquet\n",
      "Extracting features from: C:\\Users\\Kevin Tran\\Documents\\Project Data\\processed_eegs\\1057892054.parquet\n",
      "Extracting features from: C:\\Users\\Kevin Tran\\Documents\\Project Data\\processed_eegs\\1057959045.parquet\n",
      "Extracting features from: C:\\Users\\Kevin Tran\\Documents\\Project Data\\processed_eegs\\1058037294.parquet\n",
      "Extracting features from: C:\\Users\\Kevin Tran\\Documents\\Project Data\\processed_eegs\\1058058150.parquet\n",
      "Extracting features from: C:\\Users\\Kevin Tran\\Documents\\Project Data\\processed_eegs\\1058173302.parquet\n",
      "Extracting features from: C:\\Users\\Kevin Tran\\Documents\\Project Data\\processed_eegs\\1058503230.parquet\n",
      "Extracting features from: C:\\Users\\Kevin Tran\\Documents\\Project Data\\processed_eegs\\1058522598.parquet\n",
      "Extracting features from: C:\\Users\\Kevin Tran\\Documents\\Project Data\\processed_eegs\\1058584796.parquet\n",
      "Extracting features from: C:\\Users\\Kevin Tran\\Documents\\Project Data\\processed_eegs\\1059079814.parquet\n",
      "Extracting features from: C:\\Users\\Kevin Tran\\Documents\\Project Data\\processed_eegs\\1059080911.parquet\n",
      "Extracting features from: C:\\Users\\Kevin Tran\\Documents\\Project Data\\processed_eegs\\1059149892.parquet\n",
      "Extracting features from: C:\\Users\\Kevin Tran\\Documents\\Project Data\\processed_eegs\\1059944827.parquet\n",
      "Extracting features from: C:\\Users\\Kevin Tran\\Documents\\Project Data\\processed_eegs\\1060241087.parquet\n",
      "Extracting features from: C:\\Users\\Kevin Tran\\Documents\\Project Data\\processed_eegs\\1060315464.parquet\n",
      "Extracting features from: C:\\Users\\Kevin Tran\\Documents\\Project Data\\processed_eegs\\1060486426.parquet\n",
      "Extracting features from: C:\\Users\\Kevin Tran\\Documents\\Project Data\\processed_eegs\\106068696.parquet\n",
      "Extracting features from: C:\\Users\\Kevin Tran\\Documents\\Project Data\\processed_eegs\\1061139600.parquet\n",
      "Extracting features from: C:\\Users\\Kevin Tran\\Documents\\Project Data\\processed_eegs\\106121624.parquet\n",
      "Extracting features from: C:\\Users\\Kevin Tran\\Documents\\Project Data\\processed_eegs\\106141507.parquet\n",
      "Extracting features from: C:\\Users\\Kevin Tran\\Documents\\Project Data\\processed_eegs\\106160943.parquet\n",
      "Extracting features from: C:\\Users\\Kevin Tran\\Documents\\Project Data\\processed_eegs\\10617205.parquet\n",
      "Extracting features from: C:\\Users\\Kevin Tran\\Documents\\Project Data\\processed_eegs\\1062096035.parquet\n",
      "Extracting features from: C:\\Users\\Kevin Tran\\Documents\\Project Data\\processed_eegs\\1062215420.parquet\n",
      "Extracting features from: C:\\Users\\Kevin Tran\\Documents\\Project Data\\processed_eegs\\1062759050.parquet\n",
      "Extracting features from: C:\\Users\\Kevin Tran\\Documents\\Project Data\\processed_eegs\\1064261721.parquet\n",
      "Extracting features from: C:\\Users\\Kevin Tran\\Documents\\Project Data\\processed_eegs\\1064295003.parquet\n",
      "Extracting features from: C:\\Users\\Kevin Tran\\Documents\\Project Data\\processed_eegs\\1064331306.parquet\n",
      "Extracting features from: C:\\Users\\Kevin Tran\\Documents\\Project Data\\processed_eegs\\1064439359.parquet\n",
      "Extracting features from: C:\\Users\\Kevin Tran\\Documents\\Project Data\\processed_eegs\\106456230.parquet\n",
      "Extracting features from: C:\\Users\\Kevin Tran\\Documents\\Project Data\\processed_eegs\\1064756905.parquet\n",
      "Extracting features from: C:\\Users\\Kevin Tran\\Documents\\Project Data\\processed_eegs\\1065023048.parquet\n",
      "Extracting features from: C:\\Users\\Kevin Tran\\Documents\\Project Data\\processed_eegs\\1065039525.parquet\n",
      "Extracting features from: C:\\Users\\Kevin Tran\\Documents\\Project Data\\processed_eegs\\1065173994.parquet\n",
      "Extracting features from: C:\\Users\\Kevin Tran\\Documents\\Project Data\\processed_eegs\\1065281847.parquet\n",
      "Extracting features from: C:\\Users\\Kevin Tran\\Documents\\Project Data\\processed_eegs\\1065375820.parquet\n",
      "Extracting features from: C:\\Users\\Kevin Tran\\Documents\\Project Data\\processed_eegs\\1065431763.parquet\n",
      "Extracting features from: C:\\Users\\Kevin Tran\\Documents\\Project Data\\processed_eegs\\1065775016.parquet\n",
      "Extracting features from: C:\\Users\\Kevin Tran\\Documents\\Project Data\\processed_eegs\\1066355107.parquet\n",
      "Extracting features from: C:\\Users\\Kevin Tran\\Documents\\Project Data\\processed_eegs\\1066511099.parquet\n",
      "Extracting features from: C:\\Users\\Kevin Tran\\Documents\\Project Data\\processed_eegs\\1066845975.parquet\n",
      "Extracting features from: C:\\Users\\Kevin Tran\\Documents\\Project Data\\processed_eegs\\1066942251.parquet\n",
      "Extracting features from: C:\\Users\\Kevin Tran\\Documents\\Project Data\\processed_eegs\\1067056536.parquet\n",
      "Extracting features from: C:\\Users\\Kevin Tran\\Documents\\Project Data\\processed_eegs\\106747872.parquet\n",
      "Extracting features from: C:\\Users\\Kevin Tran\\Documents\\Project Data\\processed_eegs\\1067973358.parquet\n",
      "Extracting features from: C:\\Users\\Kevin Tran\\Documents\\Project Data\\processed_eegs\\1068199303.parquet\n",
      "Extracting features from: C:\\Users\\Kevin Tran\\Documents\\Project Data\\processed_eegs\\1068594966.parquet\n",
      "Extracting features from: C:\\Users\\Kevin Tran\\Documents\\Project Data\\processed_eegs\\10687514.parquet\n",
      "Extracting features from: C:\\Users\\Kevin Tran\\Documents\\Project Data\\processed_eegs\\1068977348.parquet\n",
      "Extracting features from: C:\\Users\\Kevin Tran\\Documents\\Project Data\\processed_eegs\\1069529026.parquet\n",
      "Extracting features from: C:\\Users\\Kevin Tran\\Documents\\Project Data\\processed_eegs\\1069548217.parquet\n",
      "Extracting features from: C:\\Users\\Kevin Tran\\Documents\\Project Data\\processed_eegs\\1069700335.parquet\n",
      "Extracting features from: C:\\Users\\Kevin Tran\\Documents\\Project Data\\processed_eegs\\1069815064.parquet\n",
      "Extracting features from: C:\\Users\\Kevin Tran\\Documents\\Project Data\\processed_eegs\\1070713177.parquet\n",
      "Extracting features from: C:\\Users\\Kevin Tran\\Documents\\Project Data\\processed_eegs\\1070944390.parquet\n",
      "Extracting features from: C:\\Users\\Kevin Tran\\Documents\\Project Data\\processed_eegs\\1070965297.parquet\n",
      "Extracting features from: C:\\Users\\Kevin Tran\\Documents\\Project Data\\processed_eegs\\1071324276.parquet\n",
      "Extracting features from: C:\\Users\\Kevin Tran\\Documents\\Project Data\\processed_eegs\\1071587473.parquet\n",
      "Extracting features from: C:\\Users\\Kevin Tran\\Documents\\Project Data\\processed_eegs\\1071616064.parquet\n",
      "Extracting features from: C:\\Users\\Kevin Tran\\Documents\\Project Data\\processed_eegs\\1071831200.parquet\n",
      "Extracting features from: C:\\Users\\Kevin Tran\\Documents\\Project Data\\processed_eegs\\1071869394.parquet\n",
      "Extracting features from: C:\\Users\\Kevin Tran\\Documents\\Project Data\\processed_eegs\\1071881837.parquet\n",
      "Extracting features from: C:\\Users\\Kevin Tran\\Documents\\Project Data\\processed_eegs\\1072078183.parquet\n",
      "Extracting features from: C:\\Users\\Kevin Tran\\Documents\\Project Data\\processed_eegs\\1072232739.parquet\n",
      "Extracting features from: C:\\Users\\Kevin Tran\\Documents\\Project Data\\processed_eegs\\1072523798.parquet\n",
      "Extracting features from: C:\\Users\\Kevin Tran\\Documents\\Project Data\\processed_eegs\\1072707945.parquet\n",
      "Extracting features from: C:\\Users\\Kevin Tran\\Documents\\Project Data\\processed_eegs\\1072808361.parquet\n",
      "Extracting features from: C:\\Users\\Kevin Tran\\Documents\\Project Data\\processed_eegs\\1073299938.parquet\n",
      "Extracting features from: C:\\Users\\Kevin Tran\\Documents\\Project Data\\processed_eegs\\1073419985.parquet\n",
      "Extracting features from: C:\\Users\\Kevin Tran\\Documents\\Project Data\\processed_eegs\\107362020.parquet\n",
      "Extracting features from: C:\\Users\\Kevin Tran\\Documents\\Project Data\\processed_eegs\\1073656815.parquet\n",
      "Extracting features from: C:\\Users\\Kevin Tran\\Documents\\Project Data\\processed_eegs\\1073878025.parquet\n",
      "Extracting features from: C:\\Users\\Kevin Tran\\Documents\\Project Data\\processed_eegs\\1073960406.parquet\n",
      "Extracting features from: C:\\Users\\Kevin Tran\\Documents\\Project Data\\processed_eegs\\1074584901.parquet\n",
      "Extracting features from: C:\\Users\\Kevin Tran\\Documents\\Project Data\\processed_eegs\\1075088596.parquet\n",
      "Extracting features from: C:\\Users\\Kevin Tran\\Documents\\Project Data\\processed_eegs\\1075247364.parquet\n",
      "Extracting features from: C:\\Users\\Kevin Tran\\Documents\\Project Data\\processed_eegs\\1075442225.parquet\n",
      "Extracting features from: C:\\Users\\Kevin Tran\\Documents\\Project Data\\processed_eegs\\1075672255.parquet\n",
      "Extracting features from: C:\\Users\\Kevin Tran\\Documents\\Project Data\\processed_eegs\\1075725552.parquet\n",
      "Extracting features from: C:\\Users\\Kevin Tran\\Documents\\Project Data\\processed_eegs\\1075963156.parquet\n",
      "Extracting features from: C:\\Users\\Kevin Tran\\Documents\\Project Data\\processed_eegs\\1076057868.parquet\n",
      "Extracting features from: C:\\Users\\Kevin Tran\\Documents\\Project Data\\processed_eegs\\1076260800.parquet\n",
      "Extracting features from: C:\\Users\\Kevin Tran\\Documents\\Project Data\\processed_eegs\\1076316607.parquet\n",
      "Extracting features from: C:\\Users\\Kevin Tran\\Documents\\Project Data\\processed_eegs\\1076434509.parquet\n",
      "Extracting features from: C:\\Users\\Kevin Tran\\Documents\\Project Data\\processed_eegs\\1076641674.parquet\n",
      "Extracting features from: C:\\Users\\Kevin Tran\\Documents\\Project Data\\processed_eegs\\107701457.parquet\n",
      "Extracting features from: C:\\Users\\Kevin Tran\\Documents\\Project Data\\processed_eegs\\1077418506.parquet\n",
      "Extracting features from: C:\\Users\\Kevin Tran\\Documents\\Project Data\\processed_eegs\\1077972767.parquet\n",
      "Extracting features from: C:\\Users\\Kevin Tran\\Documents\\Project Data\\processed_eegs\\1078232939.parquet\n",
      "Extracting features from: C:\\Users\\Kevin Tran\\Documents\\Project Data\\processed_eegs\\1078429832.parquet\n",
      "Extracting features from: C:\\Users\\Kevin Tran\\Documents\\Project Data\\processed_eegs\\1079201033.parquet\n",
      "Extracting features from: C:\\Users\\Kevin Tran\\Documents\\Project Data\\processed_eegs\\1079450443.parquet\n",
      "Extracting features from: C:\\Users\\Kevin Tran\\Documents\\Project Data\\processed_eegs\\1079646978.parquet\n",
      "Extracting features from: C:\\Users\\Kevin Tran\\Documents\\Project Data\\processed_eegs\\1079662656.parquet\n",
      "Extracting features from: C:\\Users\\Kevin Tran\\Documents\\Project Data\\processed_eegs\\1080450640.parquet\n",
      "Extracting features from: C:\\Users\\Kevin Tran\\Documents\\Project Data\\processed_eegs\\1080752861.parquet\n",
      "Extracting features from: C:\\Users\\Kevin Tran\\Documents\\Project Data\\processed_eegs\\1080879993.parquet\n",
      "Extracting features from: C:\\Users\\Kevin Tran\\Documents\\Project Data\\processed_eegs\\1081012860.parquet\n",
      "Extracting features from: C:\\Users\\Kevin Tran\\Documents\\Project Data\\processed_eegs\\1081228840.parquet\n",
      "Extracting features from: C:\\Users\\Kevin Tran\\Documents\\Project Data\\processed_eegs\\1081437630.parquet\n",
      "Extracting features from: C:\\Users\\Kevin Tran\\Documents\\Project Data\\processed_eegs\\1081492682.parquet\n",
      "Extracting features from: C:\\Users\\Kevin Tran\\Documents\\Project Data\\processed_eegs\\1081585784.parquet\n",
      "Extracting features from: C:\\Users\\Kevin Tran\\Documents\\Project Data\\processed_eegs\\1081824509.parquet\n",
      "Extracting features from: C:\\Users\\Kevin Tran\\Documents\\Project Data\\processed_eegs\\1082211003.parquet\n",
      "Extracting features from: C:\\Users\\Kevin Tran\\Documents\\Project Data\\processed_eegs\\1082987034.parquet\n",
      "Extracting features from: C:\\Users\\Kevin Tran\\Documents\\Project Data\\processed_eegs\\1083405365.parquet\n",
      "Extracting features from: C:\\Users\\Kevin Tran\\Documents\\Project Data\\processed_eegs\\1083464967.parquet\n",
      "Extracting features from: C:\\Users\\Kevin Tran\\Documents\\Project Data\\processed_eegs\\108347476.parquet\n",
      "Extracting features from: C:\\Users\\Kevin Tran\\Documents\\Project Data\\processed_eegs\\1083753893.parquet\n",
      "Extracting features from: C:\\Users\\Kevin Tran\\Documents\\Project Data\\processed_eegs\\1084922224.parquet\n",
      "Extracting features from: C:\\Users\\Kevin Tran\\Documents\\Project Data\\processed_eegs\\1085206902.parquet\n",
      "Extracting features from: C:\\Users\\Kevin Tran\\Documents\\Project Data\\processed_eegs\\1085276876.parquet\n",
      "Extracting features from: C:\\Users\\Kevin Tran\\Documents\\Project Data\\processed_eegs\\1085571772.parquet\n",
      "Extracting features from: C:\\Users\\Kevin Tran\\Documents\\Project Data\\processed_eegs\\1085623032.parquet\n",
      "Extracting features from: C:\\Users\\Kevin Tran\\Documents\\Project Data\\processed_eegs\\1085664125.parquet\n",
      "Extracting features from: C:\\Users\\Kevin Tran\\Documents\\Project Data\\processed_eegs\\1085670072.parquet\n",
      "Extracting features from: C:\\Users\\Kevin Tran\\Documents\\Project Data\\processed_eegs\\1085698914.parquet\n",
      "Extracting features from: C:\\Users\\Kevin Tran\\Documents\\Project Data\\processed_eegs\\1085833294.parquet\n",
      "Extracting features from: C:\\Users\\Kevin Tran\\Documents\\Project Data\\processed_eegs\\10859011.parquet\n",
      "Extracting features from: C:\\Users\\Kevin Tran\\Documents\\Project Data\\processed_eegs\\1086250795.parquet\n",
      "Extracting features from: C:\\Users\\Kevin Tran\\Documents\\Project Data\\processed_eegs\\1086780865.parquet\n",
      "Extracting features from: C:\\Users\\Kevin Tran\\Documents\\Project Data\\processed_eegs\\1086941408.parquet\n",
      "Extracting features from: C:\\Users\\Kevin Tran\\Documents\\Project Data\\processed_eegs\\1087184899.parquet\n",
      "Extracting features from: C:\\Users\\Kevin Tran\\Documents\\Project Data\\processed_eegs\\1087457964.parquet\n",
      "Extracting features from: C:\\Users\\Kevin Tran\\Documents\\Project Data\\processed_eegs\\1087788519.parquet\n",
      "Extracting features from: C:\\Users\\Kevin Tran\\Documents\\Project Data\\processed_eegs\\1087866811.parquet\n",
      "Extracting features from: C:\\Users\\Kevin Tran\\Documents\\Project Data\\processed_eegs\\108795029.parquet\n",
      "Extracting features from: C:\\Users\\Kevin Tran\\Documents\\Project Data\\processed_eegs\\1088119333.parquet\n",
      "Extracting features from: C:\\Users\\Kevin Tran\\Documents\\Project Data\\processed_eegs\\108824720.parquet\n",
      "Extracting features from: C:\\Users\\Kevin Tran\\Documents\\Project Data\\processed_eegs\\1088509296.parquet\n",
      "Extracting features from: C:\\Users\\Kevin Tran\\Documents\\Project Data\\processed_eegs\\1088537475.parquet\n",
      "Extracting features from: C:\\Users\\Kevin Tran\\Documents\\Project Data\\processed_eegs\\1088554081.parquet\n",
      "Extracting features from: C:\\Users\\Kevin Tran\\Documents\\Project Data\\processed_eegs\\1088716964.parquet\n",
      "Extracting features from: C:\\Users\\Kevin Tran\\Documents\\Project Data\\processed_eegs\\1089097453.parquet\n",
      "Extracting features from: C:\\Users\\Kevin Tran\\Documents\\Project Data\\processed_eegs\\1089780080.parquet\n",
      "Extracting features from: C:\\Users\\Kevin Tran\\Documents\\Project Data\\processed_eegs\\1090151176.parquet\n"
     ]
    },
    {
     "ename": "KeyboardInterrupt",
     "evalue": "",
     "output_type": "error",
     "traceback": [
      "\u001b[1;31m---------------------------------------------------------------------------\u001b[0m",
      "\u001b[1;31mKeyboardInterrupt\u001b[0m                         Traceback (most recent call last)",
      "Cell \u001b[1;32mIn[5], line 101\u001b[0m\n\u001b[0;32m     99\u001b[0m \u001b[38;5;28;01mfor\u001b[39;00m file_path \u001b[38;5;129;01min\u001b[39;00m processed_files:\n\u001b[0;32m    100\u001b[0m     \u001b[38;5;28mprint\u001b[39m(\u001b[38;5;124mf\u001b[39m\u001b[38;5;124m\"\u001b[39m\u001b[38;5;124mExtracting features from: \u001b[39m\u001b[38;5;132;01m{\u001b[39;00mfile_path\u001b[38;5;132;01m}\u001b[39;00m\u001b[38;5;124m\"\u001b[39m)\n\u001b[1;32m--> 101\u001b[0m     file_features \u001b[38;5;241m=\u001b[39m \u001b[43mextract_features_from_file\u001b[49m\u001b[43m(\u001b[49m\u001b[43mfile_path\u001b[49m\u001b[43m,\u001b[49m\u001b[43m \u001b[49m\u001b[43mfs\u001b[49m\u001b[43m,\u001b[49m\u001b[43m \u001b[49m\u001b[43mwindow_size_samples\u001b[49m\u001b[43m)\u001b[49m\n\u001b[0;32m    102\u001b[0m     combined_features\u001b[38;5;241m.\u001b[39mappend(file_features)\n\u001b[0;32m    104\u001b[0m \u001b[38;5;66;03m# Combine features from all files into a single DataFrame\u001b[39;00m\n",
      "Cell \u001b[1;32mIn[5], line 83\u001b[0m, in \u001b[0;36mextract_features_from_file\u001b[1;34m(file_path, fs, window_size_samples)\u001b[0m\n\u001b[0;32m     81\u001b[0m \u001b[38;5;28;01mfor\u001b[39;00m i, window \u001b[38;5;129;01min\u001b[39;00m \u001b[38;5;28menumerate\u001b[39m(windows):\n\u001b[0;32m     82\u001b[0m     time_features \u001b[38;5;241m=\u001b[39m extract_time_features(window)\n\u001b[1;32m---> 83\u001b[0m     frequency_features \u001b[38;5;241m=\u001b[39m \u001b[43mextract_frequency_features\u001b[49m\u001b[43m(\u001b[49m\u001b[43mwindow\u001b[49m\u001b[43m,\u001b[49m\u001b[43m \u001b[49m\u001b[43mfs\u001b[49m\u001b[43m)\u001b[49m\n\u001b[0;32m     84\u001b[0m     combined_features \u001b[38;5;241m=\u001b[39m {\n\u001b[0;32m     85\u001b[0m         \u001b[38;5;124m\"\u001b[39m\u001b[38;5;124mfile\u001b[39m\u001b[38;5;124m\"\u001b[39m: os\u001b[38;5;241m.\u001b[39mpath\u001b[38;5;241m.\u001b[39mbasename(file_path),\n\u001b[0;32m     86\u001b[0m         \u001b[38;5;124m\"\u001b[39m\u001b[38;5;124mchannel\u001b[39m\u001b[38;5;124m\"\u001b[39m: channel,\n\u001b[1;32m   (...)\u001b[0m\n\u001b[0;32m     89\u001b[0m         \u001b[38;5;241m*\u001b[39m\u001b[38;5;241m*\u001b[39mfrequency_features\n\u001b[0;32m     90\u001b[0m     }\n\u001b[0;32m     91\u001b[0m     all_features\u001b[38;5;241m.\u001b[39mappend(combined_features)\n",
      "Cell \u001b[1;32mIn[5], line 55\u001b[0m, in \u001b[0;36mextract_frequency_features\u001b[1;34m(signal, fs)\u001b[0m\n\u001b[0;32m     53\u001b[0m \u001b[38;5;28;01mdef\u001b[39;00m \u001b[38;5;21mextract_frequency_features\u001b[39m(signal, fs):\n\u001b[1;32m---> 55\u001b[0m     freqs, psd \u001b[38;5;241m=\u001b[39m \u001b[43mwelch\u001b[49m\u001b[43m(\u001b[49m\u001b[43msignal\u001b[49m\u001b[43m,\u001b[49m\u001b[43m \u001b[49m\u001b[43mfs\u001b[49m\u001b[38;5;241;43m=\u001b[39;49m\u001b[43mfs\u001b[49m\u001b[43m,\u001b[49m\u001b[43m \u001b[49m\u001b[43mnperseg\u001b[49m\u001b[38;5;241;43m=\u001b[39;49m\u001b[38;5;241;43m256\u001b[39;49m\u001b[43m)\u001b[49m \u001b[38;5;66;03m#Compute PSD using Welch's method\u001b[39;00m\n\u001b[0;32m     56\u001b[0m     band_powers \u001b[38;5;241m=\u001b[39m {\n\u001b[0;32m     57\u001b[0m         \u001b[38;5;124m\"\u001b[39m\u001b[38;5;124mdelta_power\u001b[39m\u001b[38;5;124m\"\u001b[39m: np\u001b[38;5;241m.\u001b[39msum(psd[(freqs \u001b[38;5;241m>\u001b[39m\u001b[38;5;241m=\u001b[39m \u001b[38;5;241m0.5\u001b[39m) \u001b[38;5;241m&\u001b[39m (freqs \u001b[38;5;241m<\u001b[39m \u001b[38;5;241m4\u001b[39m)]),\n\u001b[0;32m     58\u001b[0m         \u001b[38;5;124m\"\u001b[39m\u001b[38;5;124mtheta_power\u001b[39m\u001b[38;5;124m\"\u001b[39m: np\u001b[38;5;241m.\u001b[39msum(psd[(freqs \u001b[38;5;241m>\u001b[39m\u001b[38;5;241m=\u001b[39m \u001b[38;5;241m4\u001b[39m) \u001b[38;5;241m&\u001b[39m (freqs \u001b[38;5;241m<\u001b[39m \u001b[38;5;241m8\u001b[39m)]),\n\u001b[1;32m   (...)\u001b[0m\n\u001b[0;32m     62\u001b[0m         \u001b[38;5;124m\"\u001b[39m\u001b[38;5;124mspectral_entropy\u001b[39m\u001b[38;5;124m\"\u001b[39m: \u001b[38;5;241m-\u001b[39mnp\u001b[38;5;241m.\u001b[39msum(psd \u001b[38;5;241m*\u001b[39m np\u001b[38;5;241m.\u001b[39mlog(psd \u001b[38;5;241m+\u001b[39m \u001b[38;5;241m1e-10\u001b[39m)) \u001b[38;5;66;03m## Avoid log(0) with small offset\u001b[39;00m\n\u001b[0;32m     63\u001b[0m     }\n\u001b[0;32m     64\u001b[0m     \u001b[38;5;28;01mreturn\u001b[39;00m band_powers\n",
      "File \u001b[1;32mc:\\Users\\Kevin Tran\\AppData\\Local\\Programs\\Python\\Python310\\lib\\site-packages\\scipy\\signal\\_spectral_py.py:462\u001b[0m, in \u001b[0;36mwelch\u001b[1;34m(x, fs, window, nperseg, noverlap, nfft, detrend, return_onesided, scaling, axis, average)\u001b[0m\n\u001b[0;32m    300\u001b[0m \u001b[38;5;28;01mdef\u001b[39;00m \u001b[38;5;21mwelch\u001b[39m(x, fs\u001b[38;5;241m=\u001b[39m\u001b[38;5;241m1.0\u001b[39m, window\u001b[38;5;241m=\u001b[39m\u001b[38;5;124m'\u001b[39m\u001b[38;5;124mhann\u001b[39m\u001b[38;5;124m'\u001b[39m, nperseg\u001b[38;5;241m=\u001b[39m\u001b[38;5;28;01mNone\u001b[39;00m, noverlap\u001b[38;5;241m=\u001b[39m\u001b[38;5;28;01mNone\u001b[39;00m, nfft\u001b[38;5;241m=\u001b[39m\u001b[38;5;28;01mNone\u001b[39;00m,\n\u001b[0;32m    301\u001b[0m           detrend\u001b[38;5;241m=\u001b[39m\u001b[38;5;124m'\u001b[39m\u001b[38;5;124mconstant\u001b[39m\u001b[38;5;124m'\u001b[39m, return_onesided\u001b[38;5;241m=\u001b[39m\u001b[38;5;28;01mTrue\u001b[39;00m, scaling\u001b[38;5;241m=\u001b[39m\u001b[38;5;124m'\u001b[39m\u001b[38;5;124mdensity\u001b[39m\u001b[38;5;124m'\u001b[39m,\n\u001b[0;32m    302\u001b[0m           axis\u001b[38;5;241m=\u001b[39m\u001b[38;5;241m-\u001b[39m\u001b[38;5;241m1\u001b[39m, average\u001b[38;5;241m=\u001b[39m\u001b[38;5;124m'\u001b[39m\u001b[38;5;124mmean\u001b[39m\u001b[38;5;124m'\u001b[39m):\n\u001b[0;32m    303\u001b[0m \u001b[38;5;250m    \u001b[39m\u001b[38;5;124mr\u001b[39m\u001b[38;5;124;03m\"\"\"\u001b[39;00m\n\u001b[0;32m    304\u001b[0m \u001b[38;5;124;03m    Estimate power spectral density using Welch's method.\u001b[39;00m\n\u001b[0;32m    305\u001b[0m \n\u001b[1;32m   (...)\u001b[0m\n\u001b[0;32m    460\u001b[0m \n\u001b[0;32m    461\u001b[0m \u001b[38;5;124;03m    \"\"\"\u001b[39;00m\n\u001b[1;32m--> 462\u001b[0m     freqs, Pxx \u001b[38;5;241m=\u001b[39m \u001b[43mcsd\u001b[49m\u001b[43m(\u001b[49m\u001b[43mx\u001b[49m\u001b[43m,\u001b[49m\u001b[43m \u001b[49m\u001b[43mx\u001b[49m\u001b[43m,\u001b[49m\u001b[43m \u001b[49m\u001b[43mfs\u001b[49m\u001b[38;5;241;43m=\u001b[39;49m\u001b[43mfs\u001b[49m\u001b[43m,\u001b[49m\u001b[43m \u001b[49m\u001b[43mwindow\u001b[49m\u001b[38;5;241;43m=\u001b[39;49m\u001b[43mwindow\u001b[49m\u001b[43m,\u001b[49m\u001b[43m \u001b[49m\u001b[43mnperseg\u001b[49m\u001b[38;5;241;43m=\u001b[39;49m\u001b[43mnperseg\u001b[49m\u001b[43m,\u001b[49m\n\u001b[0;32m    463\u001b[0m \u001b[43m                     \u001b[49m\u001b[43mnoverlap\u001b[49m\u001b[38;5;241;43m=\u001b[39;49m\u001b[43mnoverlap\u001b[49m\u001b[43m,\u001b[49m\u001b[43m \u001b[49m\u001b[43mnfft\u001b[49m\u001b[38;5;241;43m=\u001b[39;49m\u001b[43mnfft\u001b[49m\u001b[43m,\u001b[49m\u001b[43m \u001b[49m\u001b[43mdetrend\u001b[49m\u001b[38;5;241;43m=\u001b[39;49m\u001b[43mdetrend\u001b[49m\u001b[43m,\u001b[49m\n\u001b[0;32m    464\u001b[0m \u001b[43m                     \u001b[49m\u001b[43mreturn_onesided\u001b[49m\u001b[38;5;241;43m=\u001b[39;49m\u001b[43mreturn_onesided\u001b[49m\u001b[43m,\u001b[49m\u001b[43m \u001b[49m\u001b[43mscaling\u001b[49m\u001b[38;5;241;43m=\u001b[39;49m\u001b[43mscaling\u001b[49m\u001b[43m,\u001b[49m\n\u001b[0;32m    465\u001b[0m \u001b[43m                     \u001b[49m\u001b[43maxis\u001b[49m\u001b[38;5;241;43m=\u001b[39;49m\u001b[43maxis\u001b[49m\u001b[43m,\u001b[49m\u001b[43m \u001b[49m\u001b[43maverage\u001b[49m\u001b[38;5;241;43m=\u001b[39;49m\u001b[43maverage\u001b[49m\u001b[43m)\u001b[49m\n\u001b[0;32m    467\u001b[0m     \u001b[38;5;28;01mreturn\u001b[39;00m freqs, Pxx\u001b[38;5;241m.\u001b[39mreal\n",
      "File \u001b[1;32mc:\\Users\\Kevin Tran\\AppData\\Local\\Programs\\Python\\Python310\\lib\\site-packages\\scipy\\signal\\_spectral_py.py:600\u001b[0m, in \u001b[0;36mcsd\u001b[1;34m(x, y, fs, window, nperseg, noverlap, nfft, detrend, return_onesided, scaling, axis, average)\u001b[0m\n\u001b[0;32m    470\u001b[0m \u001b[38;5;28;01mdef\u001b[39;00m \u001b[38;5;21mcsd\u001b[39m(x, y, fs\u001b[38;5;241m=\u001b[39m\u001b[38;5;241m1.0\u001b[39m, window\u001b[38;5;241m=\u001b[39m\u001b[38;5;124m'\u001b[39m\u001b[38;5;124mhann\u001b[39m\u001b[38;5;124m'\u001b[39m, nperseg\u001b[38;5;241m=\u001b[39m\u001b[38;5;28;01mNone\u001b[39;00m, noverlap\u001b[38;5;241m=\u001b[39m\u001b[38;5;28;01mNone\u001b[39;00m, nfft\u001b[38;5;241m=\u001b[39m\u001b[38;5;28;01mNone\u001b[39;00m,\n\u001b[0;32m    471\u001b[0m         detrend\u001b[38;5;241m=\u001b[39m\u001b[38;5;124m'\u001b[39m\u001b[38;5;124mconstant\u001b[39m\u001b[38;5;124m'\u001b[39m, return_onesided\u001b[38;5;241m=\u001b[39m\u001b[38;5;28;01mTrue\u001b[39;00m, scaling\u001b[38;5;241m=\u001b[39m\u001b[38;5;124m'\u001b[39m\u001b[38;5;124mdensity\u001b[39m\u001b[38;5;124m'\u001b[39m,\n\u001b[0;32m    472\u001b[0m         axis\u001b[38;5;241m=\u001b[39m\u001b[38;5;241m-\u001b[39m\u001b[38;5;241m1\u001b[39m, average\u001b[38;5;241m=\u001b[39m\u001b[38;5;124m'\u001b[39m\u001b[38;5;124mmean\u001b[39m\u001b[38;5;124m'\u001b[39m):\n\u001b[0;32m    473\u001b[0m \u001b[38;5;250m    \u001b[39m\u001b[38;5;124mr\u001b[39m\u001b[38;5;124;03m\"\"\"\u001b[39;00m\n\u001b[0;32m    474\u001b[0m \u001b[38;5;124;03m    Estimate the cross power spectral density, Pxy, using Welch's method.\u001b[39;00m\n\u001b[0;32m    475\u001b[0m \n\u001b[1;32m   (...)\u001b[0m\n\u001b[0;32m    598\u001b[0m \n\u001b[0;32m    599\u001b[0m \u001b[38;5;124;03m    \"\"\"\u001b[39;00m\n\u001b[1;32m--> 600\u001b[0m     freqs, _, Pxy \u001b[38;5;241m=\u001b[39m \u001b[43m_spectral_helper\u001b[49m\u001b[43m(\u001b[49m\u001b[43mx\u001b[49m\u001b[43m,\u001b[49m\u001b[43m \u001b[49m\u001b[43my\u001b[49m\u001b[43m,\u001b[49m\u001b[43m \u001b[49m\u001b[43mfs\u001b[49m\u001b[43m,\u001b[49m\u001b[43m \u001b[49m\u001b[43mwindow\u001b[49m\u001b[43m,\u001b[49m\u001b[43m \u001b[49m\u001b[43mnperseg\u001b[49m\u001b[43m,\u001b[49m\u001b[43m \u001b[49m\u001b[43mnoverlap\u001b[49m\u001b[43m,\u001b[49m\n\u001b[0;32m    601\u001b[0m \u001b[43m                                     \u001b[49m\u001b[43mnfft\u001b[49m\u001b[43m,\u001b[49m\u001b[43m \u001b[49m\u001b[43mdetrend\u001b[49m\u001b[43m,\u001b[49m\u001b[43m \u001b[49m\u001b[43mreturn_onesided\u001b[49m\u001b[43m,\u001b[49m\u001b[43m \u001b[49m\u001b[43mscaling\u001b[49m\u001b[43m,\u001b[49m\n\u001b[0;32m    602\u001b[0m \u001b[43m                                     \u001b[49m\u001b[43maxis\u001b[49m\u001b[43m,\u001b[49m\u001b[43m \u001b[49m\u001b[43mmode\u001b[49m\u001b[38;5;241;43m=\u001b[39;49m\u001b[38;5;124;43m'\u001b[39;49m\u001b[38;5;124;43mpsd\u001b[39;49m\u001b[38;5;124;43m'\u001b[39;49m\u001b[43m)\u001b[49m\n\u001b[0;32m    604\u001b[0m     \u001b[38;5;66;03m# Average over windows.\u001b[39;00m\n\u001b[0;32m    605\u001b[0m     \u001b[38;5;28;01mif\u001b[39;00m \u001b[38;5;28mlen\u001b[39m(Pxy\u001b[38;5;241m.\u001b[39mshape) \u001b[38;5;241m>\u001b[39m\u001b[38;5;241m=\u001b[39m \u001b[38;5;241m2\u001b[39m \u001b[38;5;129;01mand\u001b[39;00m Pxy\u001b[38;5;241m.\u001b[39msize \u001b[38;5;241m>\u001b[39m \u001b[38;5;241m0\u001b[39m:\n",
      "File \u001b[1;32mc:\\Users\\Kevin Tran\\AppData\\Local\\Programs\\Python\\Python310\\lib\\site-packages\\scipy\\signal\\_spectral_py.py:1928\u001b[0m, in \u001b[0;36m_spectral_helper\u001b[1;34m(x, y, fs, window, nperseg, noverlap, nfft, detrend, return_onesided, scaling, axis, mode, boundary, padded)\u001b[0m\n\u001b[0;32m   1925\u001b[0m     freqs \u001b[38;5;241m=\u001b[39m sp_fft\u001b[38;5;241m.\u001b[39mrfftfreq(nfft, \u001b[38;5;241m1\u001b[39m\u001b[38;5;241m/\u001b[39mfs)\n\u001b[0;32m   1927\u001b[0m \u001b[38;5;66;03m# Perform the windowed FFTs\u001b[39;00m\n\u001b[1;32m-> 1928\u001b[0m result \u001b[38;5;241m=\u001b[39m \u001b[43m_fft_helper\u001b[49m\u001b[43m(\u001b[49m\u001b[43mx\u001b[49m\u001b[43m,\u001b[49m\u001b[43m \u001b[49m\u001b[43mwin\u001b[49m\u001b[43m,\u001b[49m\u001b[43m \u001b[49m\u001b[43mdetrend_func\u001b[49m\u001b[43m,\u001b[49m\u001b[43m \u001b[49m\u001b[43mnperseg\u001b[49m\u001b[43m,\u001b[49m\u001b[43m \u001b[49m\u001b[43mnoverlap\u001b[49m\u001b[43m,\u001b[49m\u001b[43m \u001b[49m\u001b[43mnfft\u001b[49m\u001b[43m,\u001b[49m\u001b[43m \u001b[49m\u001b[43msides\u001b[49m\u001b[43m)\u001b[49m\n\u001b[0;32m   1930\u001b[0m \u001b[38;5;28;01mif\u001b[39;00m \u001b[38;5;129;01mnot\u001b[39;00m same_data:\n\u001b[0;32m   1931\u001b[0m     \u001b[38;5;66;03m# All the same operations on the y data\u001b[39;00m\n\u001b[0;32m   1932\u001b[0m     result_y \u001b[38;5;241m=\u001b[39m _fft_helper(y, win, detrend_func, nperseg, noverlap, nfft,\n\u001b[0;32m   1933\u001b[0m                            sides)\n",
      "File \u001b[1;32mc:\\Users\\Kevin Tran\\AppData\\Local\\Programs\\Python\\Python310\\lib\\site-packages\\scipy\\signal\\_spectral_py.py:2001\u001b[0m, in \u001b[0;36m_fft_helper\u001b[1;34m(x, win, detrend_func, nperseg, noverlap, nfft, sides)\u001b[0m\n\u001b[0;32m   1998\u001b[0m     result \u001b[38;5;241m=\u001b[39m result[\u001b[38;5;241m.\u001b[39m\u001b[38;5;241m.\u001b[39m\u001b[38;5;241m.\u001b[39m, \u001b[38;5;241m0\u001b[39m::step, :]\n\u001b[0;32m   2000\u001b[0m \u001b[38;5;66;03m# Detrend each data segment individually\u001b[39;00m\n\u001b[1;32m-> 2001\u001b[0m result \u001b[38;5;241m=\u001b[39m \u001b[43mdetrend_func\u001b[49m\u001b[43m(\u001b[49m\u001b[43mresult\u001b[49m\u001b[43m)\u001b[49m\n\u001b[0;32m   2003\u001b[0m \u001b[38;5;66;03m# Apply window by multiplication\u001b[39;00m\n\u001b[0;32m   2004\u001b[0m result \u001b[38;5;241m=\u001b[39m win \u001b[38;5;241m*\u001b[39m result\n",
      "File \u001b[1;32mc:\\Users\\Kevin Tran\\AppData\\Local\\Programs\\Python\\Python310\\lib\\site-packages\\scipy\\signal\\_spectral_py.py:1882\u001b[0m, in \u001b[0;36m_spectral_helper.<locals>.detrend_func\u001b[1;34m(d)\u001b[0m\n\u001b[0;32m   1881\u001b[0m \u001b[38;5;28;01mdef\u001b[39;00m \u001b[38;5;21mdetrend_func\u001b[39m(d):\n\u001b[1;32m-> 1882\u001b[0m     \u001b[38;5;28;01mreturn\u001b[39;00m \u001b[43m_signaltools\u001b[49m\u001b[38;5;241;43m.\u001b[39;49m\u001b[43mdetrend\u001b[49m\u001b[43m(\u001b[49m\u001b[43md\u001b[49m\u001b[43m,\u001b[49m\u001b[43m \u001b[49m\u001b[38;5;28;43mtype\u001b[39;49m\u001b[38;5;241;43m=\u001b[39;49m\u001b[43mdetrend\u001b[49m\u001b[43m,\u001b[49m\u001b[43m \u001b[49m\u001b[43maxis\u001b[49m\u001b[38;5;241;43m=\u001b[39;49m\u001b[38;5;241;43m-\u001b[39;49m\u001b[38;5;241;43m1\u001b[39;49m\u001b[43m)\u001b[49m\n",
      "\u001b[1;31mKeyboardInterrupt\u001b[0m: "
     ]
    }
   ],
   "source": [
    "#FEATURE EXTRACTION: Estuardo & Manny \n",
    "'''\n",
    "Preliminary implementation for feature extraction, We divided the parquet eeg file into 2 second intervals\n",
    "and extracted time domain features such as :[mean, variance, skewness, kurtosis, rms, delta power, theta power ,alpha power, beta power & gamma]\n",
    "\n",
    "Me & Manny are still waiting on our Sposors feedback, you will find a eeg_features file which I recommend you open with the RAINBOW CSV extension\n",
    "for visual studio.\n",
    "\n",
    "#Remember to change file paths to your own dataset directory and comment out the previos one\n",
    "\n",
    "'''\n",
    "\n",
    "import pandas as pd\n",
    "import numpy as np\n",
    "from scipy.stats import skew, kurtosis\n",
    "from scipy.signal import welch\n",
    "import os\n",
    "\n",
    "# CHANGE DIRECTORY TO YOU PROCESSED EEGS!!!!!\n",
    "#Estuardo \"/Users/estuardomelendez/Desktop/processed_eegs\"\n",
    "#Manny \"C:/Users/Master/Documents/GitHub/ED1-PROJECT2024/processed_eegs\" \n",
    "processed_eegs_dir = r\"C:\\Users\\Kevin Tran\\Documents\\Project Data\\processed_eegs\"\n",
    "\n",
    "processed_files = [os.path.join(processed_eegs_dir, f) for f in os.listdir(processed_eegs_dir) if f.endswith(\".parquet\")]\n",
    "\n",
    "\n",
    "# Sampling frequency (Hz) and window size (in seconds)\n",
    "fs = 200  # Sampling frequency (200 samples per second)\n",
    "window_size_seconds = 2  # Duration of each window in seconds\n",
    "window_size_samples = fs * window_size_seconds  # Convert window size to samples\n",
    "\n",
    "#Function to split data into windows\n",
    "def split_into_windows(signal, window_size):\n",
    "    \n",
    "    num_windows = len(signal) // window_size # Calculate number of complete windows\n",
    "    windows = [signal[i * window_size:(i + 1) * window_size] for i in range(num_windows)]\n",
    "    return windows\n",
    "\n",
    "#Function to extract time-domain features\n",
    "def extract_time_features(signal):\n",
    "    \n",
    "    features = {\n",
    "        \"mean\": np.mean(signal),\n",
    "        \"variance\": np.var(signal),\n",
    "        \"skewness\": skew(signal),\n",
    "        \"kurtosis\": kurtosis(signal),\n",
    "        \"rms\": np.sqrt(np.mean(signal**2)),\n",
    "        \"zero_crossing_rate\": np.sum(np.diff(np.sign(signal)) != 0) / len(signal)\n",
    "    }\n",
    "    return features\n",
    "\n",
    "#function to extract frequency-domain features\n",
    "def extract_frequency_features(signal, fs):\n",
    "    \n",
    "    freqs, psd = welch(signal, fs=fs, nperseg=256) #Compute PSD using Welch's method\n",
    "    band_powers = {\n",
    "        \"delta_power\": np.sum(psd[(freqs >= 0.5) & (freqs < 4)]),\n",
    "        \"theta_power\": np.sum(psd[(freqs >= 4) & (freqs < 8)]),\n",
    "        \"alpha_power\": np.sum(psd[(freqs >= 8) & (freqs < 13)]),\n",
    "        \"beta_power\": np.sum(psd[(freqs >= 13) & (freqs < 30)]),\n",
    "        \"gamma_power\": np.sum(psd[(freqs >= 30) & (freqs < 50)]),\n",
    "        \"spectral_entropy\": -np.sum(psd * np.log(psd + 1e-10)) ## Avoid log(0) with small offset\n",
    "    }\n",
    "    return band_powers\n",
    "\n",
    "#function to extract features from a single EEG file\n",
    "def extract_features_from_file(file_path, fs, window_size_samples):\n",
    "   \n",
    "    # Load processed EEG data\n",
    "    data = pd.read_parquet(file_path)\n",
    "    \n",
    "    # Extract features for each channel\n",
    "    all_features = []\n",
    "    for channel in data.columns:\n",
    "        signal = data[channel].values\n",
    "        \n",
    "        # Split the signal into windows\n",
    "        windows = split_into_windows(signal, window_size_samples)\n",
    "        \n",
    "        # Extract features from each window\n",
    "        for i, window in enumerate(windows):\n",
    "            time_features = extract_time_features(window)\n",
    "            frequency_features = extract_frequency_features(window, fs)\n",
    "            combined_features = {\n",
    "                \"file\": os.path.basename(file_path),\n",
    "                \"channel\": channel,\n",
    "                \"window\": i,\n",
    "                **time_features,\n",
    "                **frequency_features\n",
    "            }\n",
    "            all_features.append(combined_features)\n",
    "    \n",
    "    # Return DataFrame with properly named columns\n",
    "    return pd.DataFrame(all_features)\n",
    "\n",
    "# Process all files and combine features by extracting features from all files in the directory\n",
    "combined_features = []\n",
    "\n",
    "for file_path in processed_files:\n",
    "    print(f\"Extracting features from: {file_path}\")\n",
    "    file_features = extract_features_from_file(file_path, fs, window_size_samples)\n",
    "    combined_features.append(file_features)\n",
    "\n",
    "# Combine features from all files into a single DataFrame\n",
    "all_features_df = pd.concat(combined_features, ignore_index=True)\n",
    "\n",
    "# Save extracted features to a CSV file for later use\n",
    "#Estuardo \"/Users/estuardomelendez/Desktop/eeg_features.csv\"\n",
    "#Manny /Users/Master/Documents/GitHub/ED1-PROJECT2024/eeg_features.csv\n",
    "output_feature_file = \"C:/Users/Kevin Tran/Documents/Project Data/feature extractions/eeg_features.csv\"\n",
    "all_features_df.to_csv(output_feature_file, index=False)\n",
    "\n",
    "# Preview the extracted features\n",
    "print(f\"Features saved to: {output_feature_file}\")\n",
    "print(\"\\nPreview of Extracted Features:\")\n",
    "print(all_features_df.head())\n",
    "\n",
    "\n",
    "\n"
   ]
  },
  {
   "cell_type": "code",
   "execution_count": 8,
   "metadata": {},
   "outputs": [
    {
     "name": "stdout",
     "output_type": "stream",
     "text": [
      "Starting feature extraction for 17300 processed EEG files...\n",
      "\n",
      "🚀 Processing Batch 1/174 (100 files)...\n"
     ]
    },
    {
     "name": "stderr",
     "output_type": "stream",
     "text": [
      "Batch 1: 100%|██████████| 100/100 [01:29<00:00,  1.12it/s]\n"
     ]
    },
    {
     "name": "stdout",
     "output_type": "stream",
     "text": [
      "🚀 Processing Batch 2/174 (100 files)...\n"
     ]
    },
    {
     "name": "stderr",
     "output_type": "stream",
     "text": [
      "Batch 2: 100%|██████████| 100/100 [01:20<00:00,  1.24it/s]\n"
     ]
    },
    {
     "name": "stdout",
     "output_type": "stream",
     "text": [
      "🚀 Processing Batch 3/174 (100 files)...\n"
     ]
    },
    {
     "name": "stderr",
     "output_type": "stream",
     "text": [
      "Batch 3: 100%|██████████| 100/100 [01:32<00:00,  1.08it/s]\n"
     ]
    },
    {
     "name": "stdout",
     "output_type": "stream",
     "text": [
      "🚀 Processing Batch 4/174 (100 files)...\n"
     ]
    },
    {
     "name": "stderr",
     "output_type": "stream",
     "text": [
      "Batch 4: 100%|██████████| 100/100 [01:14<00:00,  1.34it/s]\n"
     ]
    },
    {
     "name": "stdout",
     "output_type": "stream",
     "text": [
      "🚀 Processing Batch 5/174 (100 files)...\n"
     ]
    },
    {
     "name": "stderr",
     "output_type": "stream",
     "text": [
      "Batch 5: 100%|██████████| 100/100 [01:15<00:00,  1.32it/s]\n"
     ]
    },
    {
     "name": "stdout",
     "output_type": "stream",
     "text": [
      "🚀 Processing Batch 6/174 (100 files)...\n"
     ]
    },
    {
     "name": "stderr",
     "output_type": "stream",
     "text": [
      "Batch 6: 100%|██████████| 100/100 [01:37<00:00,  1.03it/s]\n"
     ]
    },
    {
     "name": "stdout",
     "output_type": "stream",
     "text": [
      "🚀 Processing Batch 7/174 (100 files)...\n"
     ]
    },
    {
     "name": "stderr",
     "output_type": "stream",
     "text": [
      "Batch 7: 100%|██████████| 100/100 [01:18<00:00,  1.27it/s]\n"
     ]
    },
    {
     "name": "stdout",
     "output_type": "stream",
     "text": [
      "🚀 Processing Batch 8/174 (100 files)...\n"
     ]
    },
    {
     "name": "stderr",
     "output_type": "stream",
     "text": [
      "Batch 8: 100%|██████████| 100/100 [01:13<00:00,  1.36it/s]\n"
     ]
    },
    {
     "name": "stdout",
     "output_type": "stream",
     "text": [
      "🚀 Processing Batch 9/174 (100 files)...\n"
     ]
    },
    {
     "name": "stderr",
     "output_type": "stream",
     "text": [
      "Batch 9: 100%|██████████| 100/100 [01:12<00:00,  1.37it/s]\n"
     ]
    },
    {
     "name": "stdout",
     "output_type": "stream",
     "text": [
      "🚀 Processing Batch 10/174 (100 files)...\n"
     ]
    },
    {
     "name": "stderr",
     "output_type": "stream",
     "text": [
      "Batch 10: 100%|██████████| 100/100 [01:19<00:00,  1.25it/s]\n"
     ]
    },
    {
     "name": "stdout",
     "output_type": "stream",
     "text": [
      "🚀 Processing Batch 11/174 (100 files)...\n"
     ]
    },
    {
     "name": "stderr",
     "output_type": "stream",
     "text": [
      "Batch 11: 100%|██████████| 100/100 [01:19<00:00,  1.25it/s]\n"
     ]
    },
    {
     "name": "stdout",
     "output_type": "stream",
     "text": [
      "🚀 Processing Batch 12/174 (100 files)...\n"
     ]
    },
    {
     "name": "stderr",
     "output_type": "stream",
     "text": [
      "Batch 12: 100%|██████████| 100/100 [01:12<00:00,  1.38it/s]\n"
     ]
    },
    {
     "name": "stdout",
     "output_type": "stream",
     "text": [
      "🚀 Processing Batch 13/174 (100 files)...\n"
     ]
    },
    {
     "name": "stderr",
     "output_type": "stream",
     "text": [
      "Batch 13: 100%|██████████| 100/100 [01:14<00:00,  1.34it/s]\n"
     ]
    },
    {
     "name": "stdout",
     "output_type": "stream",
     "text": [
      "🚀 Processing Batch 14/174 (100 files)...\n"
     ]
    },
    {
     "name": "stderr",
     "output_type": "stream",
     "text": [
      "Batch 14: 100%|██████████| 100/100 [01:16<00:00,  1.32it/s]\n"
     ]
    },
    {
     "name": "stdout",
     "output_type": "stream",
     "text": [
      "🚀 Processing Batch 15/174 (100 files)...\n"
     ]
    },
    {
     "name": "stderr",
     "output_type": "stream",
     "text": [
      "Batch 15: 100%|██████████| 100/100 [01:21<00:00,  1.23it/s]\n"
     ]
    },
    {
     "name": "stdout",
     "output_type": "stream",
     "text": [
      "🚀 Processing Batch 16/174 (100 files)...\n"
     ]
    },
    {
     "name": "stderr",
     "output_type": "stream",
     "text": [
      "Batch 16: 100%|██████████| 100/100 [01:17<00:00,  1.28it/s]\n"
     ]
    },
    {
     "name": "stdout",
     "output_type": "stream",
     "text": [
      "🚀 Processing Batch 17/174 (100 files)...\n"
     ]
    },
    {
     "name": "stderr",
     "output_type": "stream",
     "text": [
      "Batch 17: 100%|██████████| 100/100 [01:21<00:00,  1.23it/s]\n"
     ]
    },
    {
     "name": "stdout",
     "output_type": "stream",
     "text": [
      "🚀 Processing Batch 18/174 (100 files)...\n"
     ]
    },
    {
     "name": "stderr",
     "output_type": "stream",
     "text": [
      "Batch 18: 100%|██████████| 100/100 [01:18<00:00,  1.28it/s]\n"
     ]
    },
    {
     "name": "stdout",
     "output_type": "stream",
     "text": [
      "🚀 Processing Batch 19/174 (100 files)...\n"
     ]
    },
    {
     "name": "stderr",
     "output_type": "stream",
     "text": [
      "Batch 19: 100%|██████████| 100/100 [01:35<00:00,  1.05it/s]\n"
     ]
    },
    {
     "name": "stdout",
     "output_type": "stream",
     "text": [
      "🚀 Processing Batch 20/174 (100 files)...\n"
     ]
    },
    {
     "name": "stderr",
     "output_type": "stream",
     "text": [
      "Batch 20: 100%|██████████| 100/100 [01:10<00:00,  1.41it/s]\n"
     ]
    },
    {
     "name": "stdout",
     "output_type": "stream",
     "text": [
      "🚀 Processing Batch 21/174 (100 files)...\n"
     ]
    },
    {
     "name": "stderr",
     "output_type": "stream",
     "text": [
      "Batch 21: 100%|██████████| 100/100 [01:30<00:00,  1.10it/s]\n"
     ]
    },
    {
     "name": "stdout",
     "output_type": "stream",
     "text": [
      "🚀 Processing Batch 22/174 (100 files)...\n"
     ]
    },
    {
     "name": "stderr",
     "output_type": "stream",
     "text": [
      "Batch 22: 100%|██████████| 100/100 [01:38<00:00,  1.01it/s]\n"
     ]
    },
    {
     "name": "stdout",
     "output_type": "stream",
     "text": [
      "🚀 Processing Batch 23/174 (100 files)...\n"
     ]
    },
    {
     "name": "stderr",
     "output_type": "stream",
     "text": [
      "Batch 23: 100%|██████████| 100/100 [01:13<00:00,  1.36it/s]\n"
     ]
    },
    {
     "name": "stdout",
     "output_type": "stream",
     "text": [
      "🚀 Processing Batch 24/174 (100 files)...\n"
     ]
    },
    {
     "name": "stderr",
     "output_type": "stream",
     "text": [
      "Batch 24: 100%|██████████| 100/100 [01:11<00:00,  1.40it/s]\n"
     ]
    },
    {
     "name": "stdout",
     "output_type": "stream",
     "text": [
      "🚀 Processing Batch 25/174 (100 files)...\n"
     ]
    },
    {
     "name": "stderr",
     "output_type": "stream",
     "text": [
      "Batch 25: 100%|██████████| 100/100 [01:11<00:00,  1.39it/s]\n"
     ]
    },
    {
     "name": "stdout",
     "output_type": "stream",
     "text": [
      "🚀 Processing Batch 26/174 (100 files)...\n"
     ]
    },
    {
     "name": "stderr",
     "output_type": "stream",
     "text": [
      "Batch 26: 100%|██████████| 100/100 [01:17<00:00,  1.30it/s]\n"
     ]
    },
    {
     "name": "stdout",
     "output_type": "stream",
     "text": [
      "🚀 Processing Batch 27/174 (100 files)...\n"
     ]
    },
    {
     "name": "stderr",
     "output_type": "stream",
     "text": [
      "Batch 27: 100%|██████████| 100/100 [01:14<00:00,  1.34it/s]\n"
     ]
    },
    {
     "name": "stdout",
     "output_type": "stream",
     "text": [
      "🚀 Processing Batch 28/174 (100 files)...\n"
     ]
    },
    {
     "name": "stderr",
     "output_type": "stream",
     "text": [
      "Batch 28: 100%|██████████| 100/100 [01:25<00:00,  1.17it/s]\n"
     ]
    },
    {
     "name": "stdout",
     "output_type": "stream",
     "text": [
      "🚀 Processing Batch 29/174 (100 files)...\n"
     ]
    },
    {
     "name": "stderr",
     "output_type": "stream",
     "text": [
      "Batch 29: 100%|██████████| 100/100 [01:07<00:00,  1.47it/s]\n"
     ]
    },
    {
     "name": "stdout",
     "output_type": "stream",
     "text": [
      "🚀 Processing Batch 30/174 (100 files)...\n"
     ]
    },
    {
     "name": "stderr",
     "output_type": "stream",
     "text": [
      "Batch 30: 100%|██████████| 100/100 [01:43<00:00,  1.04s/it]\n"
     ]
    },
    {
     "name": "stdout",
     "output_type": "stream",
     "text": [
      "🚀 Processing Batch 31/174 (100 files)...\n"
     ]
    },
    {
     "name": "stderr",
     "output_type": "stream",
     "text": [
      "Batch 31: 100%|██████████| 100/100 [01:21<00:00,  1.22it/s]\n"
     ]
    },
    {
     "name": "stdout",
     "output_type": "stream",
     "text": [
      "🚀 Processing Batch 32/174 (100 files)...\n"
     ]
    },
    {
     "name": "stderr",
     "output_type": "stream",
     "text": [
      "Batch 32: 100%|██████████| 100/100 [01:07<00:00,  1.48it/s]\n"
     ]
    },
    {
     "name": "stdout",
     "output_type": "stream",
     "text": [
      "🚀 Processing Batch 33/174 (100 files)...\n"
     ]
    },
    {
     "name": "stderr",
     "output_type": "stream",
     "text": [
      "Batch 33: 100%|██████████| 100/100 [01:25<00:00,  1.17it/s]\n"
     ]
    },
    {
     "name": "stdout",
     "output_type": "stream",
     "text": [
      "🚀 Processing Batch 34/174 (100 files)...\n"
     ]
    },
    {
     "name": "stderr",
     "output_type": "stream",
     "text": [
      "Batch 34: 100%|██████████| 100/100 [01:15<00:00,  1.33it/s]\n"
     ]
    },
    {
     "name": "stdout",
     "output_type": "stream",
     "text": [
      "🚀 Processing Batch 35/174 (100 files)...\n"
     ]
    },
    {
     "name": "stderr",
     "output_type": "stream",
     "text": [
      "Batch 35: 100%|██████████| 100/100 [01:13<00:00,  1.36it/s]\n"
     ]
    },
    {
     "name": "stdout",
     "output_type": "stream",
     "text": [
      "🚀 Processing Batch 36/174 (100 files)...\n"
     ]
    },
    {
     "name": "stderr",
     "output_type": "stream",
     "text": [
      "Batch 36: 100%|██████████| 100/100 [01:18<00:00,  1.27it/s]\n"
     ]
    },
    {
     "name": "stdout",
     "output_type": "stream",
     "text": [
      "🚀 Processing Batch 37/174 (100 files)...\n"
     ]
    },
    {
     "name": "stderr",
     "output_type": "stream",
     "text": [
      "Batch 37: 100%|██████████| 100/100 [01:14<00:00,  1.34it/s]\n"
     ]
    },
    {
     "name": "stdout",
     "output_type": "stream",
     "text": [
      "🚀 Processing Batch 38/174 (100 files)...\n"
     ]
    },
    {
     "name": "stderr",
     "output_type": "stream",
     "text": [
      "Batch 38: 100%|██████████| 100/100 [01:12<00:00,  1.37it/s]\n"
     ]
    },
    {
     "name": "stdout",
     "output_type": "stream",
     "text": [
      "🚀 Processing Batch 39/174 (100 files)...\n"
     ]
    },
    {
     "name": "stderr",
     "output_type": "stream",
     "text": [
      "Batch 39: 100%|██████████| 100/100 [01:13<00:00,  1.35it/s]\n"
     ]
    },
    {
     "name": "stdout",
     "output_type": "stream",
     "text": [
      "🚀 Processing Batch 40/174 (100 files)...\n"
     ]
    },
    {
     "name": "stderr",
     "output_type": "stream",
     "text": [
      "Batch 40: 100%|██████████| 100/100 [01:34<00:00,  1.06it/s]\n"
     ]
    },
    {
     "name": "stdout",
     "output_type": "stream",
     "text": [
      "🚀 Processing Batch 41/174 (100 files)...\n"
     ]
    },
    {
     "name": "stderr",
     "output_type": "stream",
     "text": [
      "Batch 41: 100%|██████████| 100/100 [01:16<00:00,  1.30it/s]\n"
     ]
    },
    {
     "name": "stdout",
     "output_type": "stream",
     "text": [
      "🚀 Processing Batch 42/174 (100 files)...\n"
     ]
    },
    {
     "name": "stderr",
     "output_type": "stream",
     "text": [
      "Batch 42: 100%|██████████| 100/100 [01:24<00:00,  1.18it/s]\n"
     ]
    },
    {
     "name": "stdout",
     "output_type": "stream",
     "text": [
      "🚀 Processing Batch 43/174 (100 files)...\n"
     ]
    },
    {
     "name": "stderr",
     "output_type": "stream",
     "text": [
      "Batch 43: 100%|██████████| 100/100 [01:04<00:00,  1.55it/s]\n"
     ]
    },
    {
     "name": "stdout",
     "output_type": "stream",
     "text": [
      "🚀 Processing Batch 44/174 (100 files)...\n"
     ]
    },
    {
     "name": "stderr",
     "output_type": "stream",
     "text": [
      "Batch 44: 100%|██████████| 100/100 [01:17<00:00,  1.29it/s]\n"
     ]
    },
    {
     "name": "stdout",
     "output_type": "stream",
     "text": [
      "🚀 Processing Batch 45/174 (100 files)...\n"
     ]
    },
    {
     "name": "stderr",
     "output_type": "stream",
     "text": [
      "Batch 45: 100%|██████████| 100/100 [01:15<00:00,  1.33it/s]\n"
     ]
    },
    {
     "name": "stdout",
     "output_type": "stream",
     "text": [
      "🚀 Processing Batch 46/174 (100 files)...\n"
     ]
    },
    {
     "name": "stderr",
     "output_type": "stream",
     "text": [
      "Batch 46: 100%|██████████| 100/100 [01:13<00:00,  1.36it/s]\n"
     ]
    },
    {
     "name": "stdout",
     "output_type": "stream",
     "text": [
      "🚀 Processing Batch 47/174 (100 files)...\n"
     ]
    },
    {
     "name": "stderr",
     "output_type": "stream",
     "text": [
      "Batch 47: 100%|██████████| 100/100 [01:15<00:00,  1.33it/s]\n"
     ]
    },
    {
     "name": "stdout",
     "output_type": "stream",
     "text": [
      "🚀 Processing Batch 48/174 (100 files)...\n"
     ]
    },
    {
     "name": "stderr",
     "output_type": "stream",
     "text": [
      "Batch 48: 100%|██████████| 100/100 [01:20<00:00,  1.25it/s]\n"
     ]
    },
    {
     "name": "stdout",
     "output_type": "stream",
     "text": [
      "🚀 Processing Batch 49/174 (100 files)...\n"
     ]
    },
    {
     "name": "stderr",
     "output_type": "stream",
     "text": [
      "Batch 49: 100%|██████████| 100/100 [01:10<00:00,  1.41it/s]\n"
     ]
    },
    {
     "name": "stdout",
     "output_type": "stream",
     "text": [
      "🚀 Processing Batch 50/174 (100 files)...\n"
     ]
    },
    {
     "name": "stderr",
     "output_type": "stream",
     "text": [
      "Batch 50: 100%|██████████| 100/100 [01:24<00:00,  1.18it/s]\n"
     ]
    },
    {
     "name": "stdout",
     "output_type": "stream",
     "text": [
      "🚀 Processing Batch 51/174 (100 files)...\n"
     ]
    },
    {
     "name": "stderr",
     "output_type": "stream",
     "text": [
      "Batch 51: 100%|██████████| 100/100 [01:09<00:00,  1.45it/s]\n"
     ]
    },
    {
     "name": "stdout",
     "output_type": "stream",
     "text": [
      "🚀 Processing Batch 52/174 (100 files)...\n"
     ]
    },
    {
     "name": "stderr",
     "output_type": "stream",
     "text": [
      "Batch 52: 100%|██████████| 100/100 [01:08<00:00,  1.46it/s]\n"
     ]
    },
    {
     "name": "stdout",
     "output_type": "stream",
     "text": [
      "🚀 Processing Batch 53/174 (100 files)...\n"
     ]
    },
    {
     "name": "stderr",
     "output_type": "stream",
     "text": [
      "Batch 53: 100%|██████████| 100/100 [01:24<00:00,  1.18it/s]\n"
     ]
    },
    {
     "name": "stdout",
     "output_type": "stream",
     "text": [
      "🚀 Processing Batch 54/174 (100 files)...\n"
     ]
    },
    {
     "name": "stderr",
     "output_type": "stream",
     "text": [
      "Batch 54: 100%|██████████| 100/100 [01:11<00:00,  1.39it/s]\n"
     ]
    },
    {
     "name": "stdout",
     "output_type": "stream",
     "text": [
      "🚀 Processing Batch 55/174 (100 files)...\n"
     ]
    },
    {
     "name": "stderr",
     "output_type": "stream",
     "text": [
      "Batch 55: 100%|██████████| 100/100 [01:22<00:00,  1.21it/s]\n"
     ]
    },
    {
     "name": "stdout",
     "output_type": "stream",
     "text": [
      "🚀 Processing Batch 56/174 (100 files)...\n"
     ]
    },
    {
     "name": "stderr",
     "output_type": "stream",
     "text": [
      "Batch 56: 100%|██████████| 100/100 [01:13<00:00,  1.36it/s]\n"
     ]
    },
    {
     "name": "stdout",
     "output_type": "stream",
     "text": [
      "🚀 Processing Batch 57/174 (100 files)...\n"
     ]
    },
    {
     "name": "stderr",
     "output_type": "stream",
     "text": [
      "Batch 57: 100%|██████████| 100/100 [01:40<00:00,  1.01s/it]\n"
     ]
    },
    {
     "name": "stdout",
     "output_type": "stream",
     "text": [
      "🚀 Processing Batch 58/174 (100 files)...\n"
     ]
    },
    {
     "name": "stderr",
     "output_type": "stream",
     "text": [
      "Batch 58: 100%|██████████| 100/100 [01:06<00:00,  1.51it/s]\n"
     ]
    },
    {
     "name": "stdout",
     "output_type": "stream",
     "text": [
      "🚀 Processing Batch 59/174 (100 files)...\n"
     ]
    },
    {
     "name": "stderr",
     "output_type": "stream",
     "text": [
      "Batch 59: 100%|██████████| 100/100 [01:18<00:00,  1.27it/s]\n"
     ]
    },
    {
     "name": "stdout",
     "output_type": "stream",
     "text": [
      "🚀 Processing Batch 60/174 (100 files)...\n"
     ]
    },
    {
     "name": "stderr",
     "output_type": "stream",
     "text": [
      "Batch 60: 100%|██████████| 100/100 [01:04<00:00,  1.55it/s]\n"
     ]
    },
    {
     "name": "stdout",
     "output_type": "stream",
     "text": [
      "🚀 Processing Batch 61/174 (100 files)...\n"
     ]
    },
    {
     "name": "stderr",
     "output_type": "stream",
     "text": [
      "Batch 61: 100%|██████████| 100/100 [01:13<00:00,  1.37it/s]\n"
     ]
    },
    {
     "name": "stdout",
     "output_type": "stream",
     "text": [
      "🚀 Processing Batch 62/174 (100 files)...\n"
     ]
    },
    {
     "name": "stderr",
     "output_type": "stream",
     "text": [
      "Batch 62: 100%|██████████| 100/100 [01:12<00:00,  1.39it/s]\n"
     ]
    },
    {
     "name": "stdout",
     "output_type": "stream",
     "text": [
      "🚀 Processing Batch 63/174 (100 files)...\n"
     ]
    },
    {
     "name": "stderr",
     "output_type": "stream",
     "text": [
      "Batch 63: 100%|██████████| 100/100 [01:14<00:00,  1.34it/s]\n"
     ]
    },
    {
     "name": "stdout",
     "output_type": "stream",
     "text": [
      "🚀 Processing Batch 64/174 (100 files)...\n"
     ]
    },
    {
     "name": "stderr",
     "output_type": "stream",
     "text": [
      "Batch 64: 100%|██████████| 100/100 [01:11<00:00,  1.39it/s]\n"
     ]
    },
    {
     "name": "stdout",
     "output_type": "stream",
     "text": [
      "🚀 Processing Batch 65/174 (100 files)...\n"
     ]
    },
    {
     "name": "stderr",
     "output_type": "stream",
     "text": [
      "Batch 65: 100%|██████████| 100/100 [01:34<00:00,  1.06it/s]\n"
     ]
    },
    {
     "name": "stdout",
     "output_type": "stream",
     "text": [
      "🚀 Processing Batch 66/174 (100 files)...\n"
     ]
    },
    {
     "name": "stderr",
     "output_type": "stream",
     "text": [
      "Batch 66: 100%|██████████| 100/100 [01:09<00:00,  1.43it/s]\n"
     ]
    },
    {
     "name": "stdout",
     "output_type": "stream",
     "text": [
      "🚀 Processing Batch 67/174 (100 files)...\n"
     ]
    },
    {
     "name": "stderr",
     "output_type": "stream",
     "text": [
      "Batch 67: 100%|██████████| 100/100 [01:12<00:00,  1.39it/s]\n"
     ]
    },
    {
     "name": "stdout",
     "output_type": "stream",
     "text": [
      "🚀 Processing Batch 68/174 (100 files)...\n"
     ]
    },
    {
     "name": "stderr",
     "output_type": "stream",
     "text": [
      "Batch 68: 100%|██████████| 100/100 [01:10<00:00,  1.41it/s]\n"
     ]
    },
    {
     "name": "stdout",
     "output_type": "stream",
     "text": [
      "🚀 Processing Batch 69/174 (100 files)...\n"
     ]
    },
    {
     "name": "stderr",
     "output_type": "stream",
     "text": [
      "Batch 69: 100%|██████████| 100/100 [01:18<00:00,  1.27it/s]\n"
     ]
    },
    {
     "name": "stdout",
     "output_type": "stream",
     "text": [
      "🚀 Processing Batch 70/174 (100 files)...\n"
     ]
    },
    {
     "name": "stderr",
     "output_type": "stream",
     "text": [
      "Batch 70: 100%|██████████| 100/100 [01:14<00:00,  1.33it/s]\n"
     ]
    },
    {
     "name": "stdout",
     "output_type": "stream",
     "text": [
      "🚀 Processing Batch 71/174 (100 files)...\n"
     ]
    },
    {
     "name": "stderr",
     "output_type": "stream",
     "text": [
      "Batch 71: 100%|██████████| 100/100 [01:09<00:00,  1.45it/s]\n"
     ]
    },
    {
     "name": "stdout",
     "output_type": "stream",
     "text": [
      "🚀 Processing Batch 72/174 (100 files)...\n"
     ]
    },
    {
     "name": "stderr",
     "output_type": "stream",
     "text": [
      "Batch 72: 100%|██████████| 100/100 [01:06<00:00,  1.51it/s]\n"
     ]
    },
    {
     "name": "stdout",
     "output_type": "stream",
     "text": [
      "🚀 Processing Batch 73/174 (100 files)...\n"
     ]
    },
    {
     "name": "stderr",
     "output_type": "stream",
     "text": [
      "Batch 73: 100%|██████████| 100/100 [01:10<00:00,  1.43it/s]\n"
     ]
    },
    {
     "name": "stdout",
     "output_type": "stream",
     "text": [
      "🚀 Processing Batch 74/174 (100 files)...\n"
     ]
    },
    {
     "name": "stderr",
     "output_type": "stream",
     "text": [
      "Batch 74: 100%|██████████| 100/100 [01:13<00:00,  1.36it/s]\n"
     ]
    },
    {
     "name": "stdout",
     "output_type": "stream",
     "text": [
      "🚀 Processing Batch 75/174 (100 files)...\n"
     ]
    },
    {
     "name": "stderr",
     "output_type": "stream",
     "text": [
      "Batch 75: 100%|██████████| 100/100 [01:18<00:00,  1.27it/s]\n"
     ]
    },
    {
     "name": "stdout",
     "output_type": "stream",
     "text": [
      "🚀 Processing Batch 76/174 (100 files)...\n"
     ]
    },
    {
     "name": "stderr",
     "output_type": "stream",
     "text": [
      "Batch 76: 100%|██████████| 100/100 [01:08<00:00,  1.46it/s]\n"
     ]
    },
    {
     "name": "stdout",
     "output_type": "stream",
     "text": [
      "🚀 Processing Batch 77/174 (100 files)...\n"
     ]
    },
    {
     "name": "stderr",
     "output_type": "stream",
     "text": [
      "Batch 77: 100%|██████████| 100/100 [01:17<00:00,  1.29it/s]\n"
     ]
    },
    {
     "name": "stdout",
     "output_type": "stream",
     "text": [
      "🚀 Processing Batch 78/174 (100 files)...\n"
     ]
    },
    {
     "name": "stderr",
     "output_type": "stream",
     "text": [
      "Batch 78: 100%|██████████| 100/100 [01:11<00:00,  1.40it/s]\n"
     ]
    },
    {
     "name": "stdout",
     "output_type": "stream",
     "text": [
      "🚀 Processing Batch 79/174 (100 files)...\n"
     ]
    },
    {
     "name": "stderr",
     "output_type": "stream",
     "text": [
      "Batch 79: 100%|██████████| 100/100 [01:14<00:00,  1.35it/s]\n"
     ]
    },
    {
     "name": "stdout",
     "output_type": "stream",
     "text": [
      "🚀 Processing Batch 80/174 (100 files)...\n"
     ]
    },
    {
     "name": "stderr",
     "output_type": "stream",
     "text": [
      "Batch 80: 100%|██████████| 100/100 [01:12<00:00,  1.37it/s]\n"
     ]
    },
    {
     "name": "stdout",
     "output_type": "stream",
     "text": [
      "🚀 Processing Batch 81/174 (100 files)...\n"
     ]
    },
    {
     "name": "stderr",
     "output_type": "stream",
     "text": [
      "Batch 81: 100%|██████████| 100/100 [01:13<00:00,  1.35it/s]\n"
     ]
    },
    {
     "name": "stdout",
     "output_type": "stream",
     "text": [
      "🚀 Processing Batch 82/174 (100 files)...\n"
     ]
    },
    {
     "name": "stderr",
     "output_type": "stream",
     "text": [
      "Batch 82: 100%|██████████| 100/100 [01:08<00:00,  1.46it/s]\n"
     ]
    },
    {
     "name": "stdout",
     "output_type": "stream",
     "text": [
      "🚀 Processing Batch 83/174 (100 files)...\n"
     ]
    },
    {
     "name": "stderr",
     "output_type": "stream",
     "text": [
      "Batch 83: 100%|██████████| 100/100 [01:10<00:00,  1.42it/s]\n"
     ]
    },
    {
     "name": "stdout",
     "output_type": "stream",
     "text": [
      "🚀 Processing Batch 84/174 (100 files)...\n"
     ]
    },
    {
     "name": "stderr",
     "output_type": "stream",
     "text": [
      "Batch 84:  49%|████▉     | 49/100 [00:40<00:56,  1.10s/it]C:\\Users\\Kevin Tran\\AppData\\Local\\Temp\\ipykernel_10848\\3894915797.py:33: RuntimeWarning: Precision loss occurred in moment calculation due to catastrophic cancellation. This occurs when the data are nearly identical. Results may be unreliable.\n",
      "  \"skewness\": skew(signal),\n",
      "C:\\Users\\Kevin Tran\\AppData\\Local\\Temp\\ipykernel_10848\\3894915797.py:34: RuntimeWarning: Precision loss occurred in moment calculation due to catastrophic cancellation. This occurs when the data are nearly identical. Results may be unreliable.\n",
      "  \"kurtosis\": kurtosis(signal),\n",
      "Batch 84: 100%|██████████| 100/100 [01:39<00:00,  1.01it/s]\n"
     ]
    },
    {
     "name": "stdout",
     "output_type": "stream",
     "text": [
      "🚀 Processing Batch 85/174 (100 files)...\n"
     ]
    },
    {
     "name": "stderr",
     "output_type": "stream",
     "text": [
      "Batch 85: 100%|██████████| 100/100 [01:12<00:00,  1.37it/s]\n"
     ]
    },
    {
     "name": "stdout",
     "output_type": "stream",
     "text": [
      "🚀 Processing Batch 86/174 (100 files)...\n"
     ]
    },
    {
     "name": "stderr",
     "output_type": "stream",
     "text": [
      "Batch 86: 100%|██████████| 100/100 [01:17<00:00,  1.29it/s]\n"
     ]
    },
    {
     "name": "stdout",
     "output_type": "stream",
     "text": [
      "🚀 Processing Batch 87/174 (100 files)...\n"
     ]
    },
    {
     "name": "stderr",
     "output_type": "stream",
     "text": [
      "Batch 87: 100%|██████████| 100/100 [01:09<00:00,  1.43it/s]\n"
     ]
    },
    {
     "name": "stdout",
     "output_type": "stream",
     "text": [
      "🚀 Processing Batch 88/174 (100 files)...\n"
     ]
    },
    {
     "name": "stderr",
     "output_type": "stream",
     "text": [
      "Batch 88: 100%|██████████| 100/100 [01:08<00:00,  1.45it/s]\n"
     ]
    },
    {
     "name": "stdout",
     "output_type": "stream",
     "text": [
      "🚀 Processing Batch 89/174 (100 files)...\n"
     ]
    },
    {
     "name": "stderr",
     "output_type": "stream",
     "text": [
      "Batch 89: 100%|██████████| 100/100 [01:29<00:00,  1.12it/s]\n"
     ]
    },
    {
     "name": "stdout",
     "output_type": "stream",
     "text": [
      "🚀 Processing Batch 90/174 (100 files)...\n"
     ]
    },
    {
     "name": "stderr",
     "output_type": "stream",
     "text": [
      "Batch 90: 100%|██████████| 100/100 [01:15<00:00,  1.33it/s]\n"
     ]
    },
    {
     "name": "stdout",
     "output_type": "stream",
     "text": [
      "🚀 Processing Batch 91/174 (100 files)...\n"
     ]
    },
    {
     "name": "stderr",
     "output_type": "stream",
     "text": [
      "Batch 91: 100%|██████████| 100/100 [01:08<00:00,  1.46it/s]\n"
     ]
    },
    {
     "name": "stdout",
     "output_type": "stream",
     "text": [
      "🚀 Processing Batch 92/174 (100 files)...\n"
     ]
    },
    {
     "name": "stderr",
     "output_type": "stream",
     "text": [
      "Batch 92: 100%|██████████| 100/100 [01:05<00:00,  1.52it/s]\n"
     ]
    },
    {
     "name": "stdout",
     "output_type": "stream",
     "text": [
      "🚀 Processing Batch 93/174 (100 files)...\n"
     ]
    },
    {
     "name": "stderr",
     "output_type": "stream",
     "text": [
      "Batch 93: 100%|██████████| 100/100 [01:06<00:00,  1.49it/s]\n"
     ]
    },
    {
     "name": "stdout",
     "output_type": "stream",
     "text": [
      "🚀 Processing Batch 94/174 (100 files)...\n"
     ]
    },
    {
     "name": "stderr",
     "output_type": "stream",
     "text": [
      "Batch 94: 100%|██████████| 100/100 [01:12<00:00,  1.37it/s]\n"
     ]
    },
    {
     "name": "stdout",
     "output_type": "stream",
     "text": [
      "🚀 Processing Batch 95/174 (100 files)...\n"
     ]
    },
    {
     "name": "stderr",
     "output_type": "stream",
     "text": [
      "Batch 95: 100%|██████████| 100/100 [01:16<00:00,  1.31it/s]\n"
     ]
    },
    {
     "name": "stdout",
     "output_type": "stream",
     "text": [
      "🚀 Processing Batch 96/174 (100 files)...\n"
     ]
    },
    {
     "name": "stderr",
     "output_type": "stream",
     "text": [
      "Batch 96: 100%|██████████| 100/100 [01:19<00:00,  1.26it/s]\n"
     ]
    },
    {
     "name": "stdout",
     "output_type": "stream",
     "text": [
      "🚀 Processing Batch 97/174 (100 files)...\n"
     ]
    },
    {
     "name": "stderr",
     "output_type": "stream",
     "text": [
      "Batch 97: 100%|██████████| 100/100 [01:13<00:00,  1.36it/s]\n"
     ]
    },
    {
     "name": "stdout",
     "output_type": "stream",
     "text": [
      "🚀 Processing Batch 98/174 (100 files)...\n"
     ]
    },
    {
     "name": "stderr",
     "output_type": "stream",
     "text": [
      "Batch 98: 100%|██████████| 100/100 [01:13<00:00,  1.36it/s]\n"
     ]
    },
    {
     "name": "stdout",
     "output_type": "stream",
     "text": [
      "🚀 Processing Batch 99/174 (100 files)...\n"
     ]
    },
    {
     "name": "stderr",
     "output_type": "stream",
     "text": [
      "Batch 99: 100%|██████████| 100/100 [01:11<00:00,  1.39it/s]\n"
     ]
    },
    {
     "name": "stdout",
     "output_type": "stream",
     "text": [
      "🚀 Processing Batch 100/174 (100 files)...\n"
     ]
    },
    {
     "name": "stderr",
     "output_type": "stream",
     "text": [
      "Batch 100: 100%|██████████| 100/100 [01:13<00:00,  1.37it/s]\n"
     ]
    },
    {
     "name": "stdout",
     "output_type": "stream",
     "text": [
      "🚀 Processing Batch 101/174 (100 files)...\n"
     ]
    },
    {
     "name": "stderr",
     "output_type": "stream",
     "text": [
      "Batch 101: 100%|██████████| 100/100 [01:24<00:00,  1.18it/s]\n"
     ]
    },
    {
     "name": "stdout",
     "output_type": "stream",
     "text": [
      "🚀 Processing Batch 102/174 (100 files)...\n"
     ]
    },
    {
     "name": "stderr",
     "output_type": "stream",
     "text": [
      "Batch 102: 100%|██████████| 100/100 [01:11<00:00,  1.40it/s]\n"
     ]
    },
    {
     "name": "stdout",
     "output_type": "stream",
     "text": [
      "🚀 Processing Batch 103/174 (100 files)...\n"
     ]
    },
    {
     "name": "stderr",
     "output_type": "stream",
     "text": [
      "Batch 103: 100%|██████████| 100/100 [01:19<00:00,  1.26it/s]\n"
     ]
    },
    {
     "name": "stdout",
     "output_type": "stream",
     "text": [
      "🚀 Processing Batch 104/174 (100 files)...\n"
     ]
    },
    {
     "name": "stderr",
     "output_type": "stream",
     "text": [
      "Batch 104: 100%|██████████| 100/100 [01:12<00:00,  1.38it/s]\n"
     ]
    },
    {
     "name": "stdout",
     "output_type": "stream",
     "text": [
      "🚀 Processing Batch 105/174 (100 files)...\n"
     ]
    },
    {
     "name": "stderr",
     "output_type": "stream",
     "text": [
      "Batch 105: 100%|██████████| 100/100 [01:18<00:00,  1.28it/s]\n"
     ]
    },
    {
     "name": "stdout",
     "output_type": "stream",
     "text": [
      "🚀 Processing Batch 106/174 (100 files)...\n"
     ]
    },
    {
     "name": "stderr",
     "output_type": "stream",
     "text": [
      "Batch 106: 100%|██████████| 100/100 [01:13<00:00,  1.35it/s]\n"
     ]
    },
    {
     "name": "stdout",
     "output_type": "stream",
     "text": [
      "🚀 Processing Batch 107/174 (100 files)...\n"
     ]
    },
    {
     "name": "stderr",
     "output_type": "stream",
     "text": [
      "Batch 107: 100%|██████████| 100/100 [01:16<00:00,  1.31it/s]\n"
     ]
    },
    {
     "name": "stdout",
     "output_type": "stream",
     "text": [
      "🚀 Processing Batch 108/174 (100 files)...\n"
     ]
    },
    {
     "name": "stderr",
     "output_type": "stream",
     "text": [
      "Batch 108: 100%|██████████| 100/100 [01:14<00:00,  1.35it/s]\n"
     ]
    },
    {
     "name": "stdout",
     "output_type": "stream",
     "text": [
      "🚀 Processing Batch 109/174 (100 files)...\n"
     ]
    },
    {
     "name": "stderr",
     "output_type": "stream",
     "text": [
      "Batch 109: 100%|██████████| 100/100 [01:06<00:00,  1.51it/s]\n"
     ]
    },
    {
     "name": "stdout",
     "output_type": "stream",
     "text": [
      "🚀 Processing Batch 110/174 (100 files)...\n"
     ]
    },
    {
     "name": "stderr",
     "output_type": "stream",
     "text": [
      "Batch 110: 100%|██████████| 100/100 [01:11<00:00,  1.39it/s]\n"
     ]
    },
    {
     "name": "stdout",
     "output_type": "stream",
     "text": [
      "🚀 Processing Batch 111/174 (100 files)...\n"
     ]
    },
    {
     "name": "stderr",
     "output_type": "stream",
     "text": [
      "Batch 111: 100%|██████████| 100/100 [01:17<00:00,  1.29it/s]\n"
     ]
    },
    {
     "name": "stdout",
     "output_type": "stream",
     "text": [
      "🚀 Processing Batch 112/174 (100 files)...\n"
     ]
    },
    {
     "name": "stderr",
     "output_type": "stream",
     "text": [
      "Batch 112: 100%|██████████| 100/100 [01:12<00:00,  1.37it/s]\n"
     ]
    },
    {
     "name": "stdout",
     "output_type": "stream",
     "text": [
      "🚀 Processing Batch 113/174 (100 files)...\n"
     ]
    },
    {
     "name": "stderr",
     "output_type": "stream",
     "text": [
      "Batch 113: 100%|██████████| 100/100 [01:19<00:00,  1.25it/s]\n"
     ]
    },
    {
     "name": "stdout",
     "output_type": "stream",
     "text": [
      "🚀 Processing Batch 114/174 (100 files)...\n"
     ]
    },
    {
     "name": "stderr",
     "output_type": "stream",
     "text": [
      "Batch 114: 100%|██████████| 100/100 [01:11<00:00,  1.40it/s]\n"
     ]
    },
    {
     "name": "stdout",
     "output_type": "stream",
     "text": [
      "🚀 Processing Batch 115/174 (100 files)...\n"
     ]
    },
    {
     "name": "stderr",
     "output_type": "stream",
     "text": [
      "Batch 115: 100%|██████████| 100/100 [01:15<00:00,  1.33it/s]\n"
     ]
    },
    {
     "name": "stdout",
     "output_type": "stream",
     "text": [
      "🚀 Processing Batch 116/174 (100 files)...\n"
     ]
    },
    {
     "name": "stderr",
     "output_type": "stream",
     "text": [
      "Batch 116: 100%|██████████| 100/100 [01:17<00:00,  1.29it/s]\n"
     ]
    },
    {
     "name": "stdout",
     "output_type": "stream",
     "text": [
      "🚀 Processing Batch 117/174 (100 files)...\n"
     ]
    },
    {
     "name": "stderr",
     "output_type": "stream",
     "text": [
      "Batch 117: 100%|██████████| 100/100 [01:08<00:00,  1.46it/s]\n"
     ]
    },
    {
     "name": "stdout",
     "output_type": "stream",
     "text": [
      "🚀 Processing Batch 118/174 (100 files)...\n"
     ]
    },
    {
     "name": "stderr",
     "output_type": "stream",
     "text": [
      "Batch 118: 100%|██████████| 100/100 [01:15<00:00,  1.33it/s]\n"
     ]
    },
    {
     "name": "stdout",
     "output_type": "stream",
     "text": [
      "🚀 Processing Batch 119/174 (100 files)...\n"
     ]
    },
    {
     "name": "stderr",
     "output_type": "stream",
     "text": [
      "Batch 119: 100%|██████████| 100/100 [01:09<00:00,  1.44it/s]\n"
     ]
    },
    {
     "name": "stdout",
     "output_type": "stream",
     "text": [
      "🚀 Processing Batch 120/174 (100 files)...\n"
     ]
    },
    {
     "name": "stderr",
     "output_type": "stream",
     "text": [
      "Batch 120: 100%|██████████| 100/100 [01:17<00:00,  1.28it/s]\n"
     ]
    },
    {
     "name": "stdout",
     "output_type": "stream",
     "text": [
      "🚀 Processing Batch 121/174 (100 files)...\n"
     ]
    },
    {
     "name": "stderr",
     "output_type": "stream",
     "text": [
      "Batch 121: 100%|██████████| 100/100 [01:29<00:00,  1.12it/s]\n"
     ]
    },
    {
     "name": "stdout",
     "output_type": "stream",
     "text": [
      "🚀 Processing Batch 122/174 (100 files)...\n"
     ]
    },
    {
     "name": "stderr",
     "output_type": "stream",
     "text": [
      "Batch 122: 100%|██████████| 100/100 [01:21<00:00,  1.22it/s]\n"
     ]
    },
    {
     "name": "stdout",
     "output_type": "stream",
     "text": [
      "🚀 Processing Batch 123/174 (100 files)...\n"
     ]
    },
    {
     "name": "stderr",
     "output_type": "stream",
     "text": [
      "Batch 123: 100%|██████████| 100/100 [01:26<00:00,  1.15it/s]\n"
     ]
    },
    {
     "name": "stdout",
     "output_type": "stream",
     "text": [
      "🚀 Processing Batch 124/174 (100 files)...\n"
     ]
    },
    {
     "name": "stderr",
     "output_type": "stream",
     "text": [
      "Batch 124: 100%|██████████| 100/100 [01:08<00:00,  1.46it/s]\n"
     ]
    },
    {
     "name": "stdout",
     "output_type": "stream",
     "text": [
      "🚀 Processing Batch 125/174 (100 files)...\n"
     ]
    },
    {
     "name": "stderr",
     "output_type": "stream",
     "text": [
      "Batch 125: 100%|██████████| 100/100 [01:13<00:00,  1.37it/s]\n"
     ]
    },
    {
     "name": "stdout",
     "output_type": "stream",
     "text": [
      "🚀 Processing Batch 126/174 (100 files)...\n"
     ]
    },
    {
     "name": "stderr",
     "output_type": "stream",
     "text": [
      "Batch 126: 100%|██████████| 100/100 [01:10<00:00,  1.43it/s]\n"
     ]
    },
    {
     "name": "stdout",
     "output_type": "stream",
     "text": [
      "🚀 Processing Batch 127/174 (100 files)...\n"
     ]
    },
    {
     "name": "stderr",
     "output_type": "stream",
     "text": [
      "Batch 127: 100%|██████████| 100/100 [01:10<00:00,  1.42it/s]\n"
     ]
    },
    {
     "name": "stdout",
     "output_type": "stream",
     "text": [
      "🚀 Processing Batch 128/174 (100 files)...\n"
     ]
    },
    {
     "name": "stderr",
     "output_type": "stream",
     "text": [
      "Batch 128: 100%|██████████| 100/100 [01:08<00:00,  1.46it/s]\n"
     ]
    },
    {
     "name": "stdout",
     "output_type": "stream",
     "text": [
      "🚀 Processing Batch 129/174 (100 files)...\n"
     ]
    },
    {
     "name": "stderr",
     "output_type": "stream",
     "text": [
      "Batch 129: 100%|██████████| 100/100 [01:02<00:00,  1.59it/s]\n"
     ]
    },
    {
     "name": "stdout",
     "output_type": "stream",
     "text": [
      "🚀 Processing Batch 130/174 (100 files)...\n"
     ]
    },
    {
     "name": "stderr",
     "output_type": "stream",
     "text": [
      "Batch 130: 100%|██████████| 100/100 [01:10<00:00,  1.42it/s]\n"
     ]
    },
    {
     "name": "stdout",
     "output_type": "stream",
     "text": [
      "🚀 Processing Batch 131/174 (100 files)...\n"
     ]
    },
    {
     "name": "stderr",
     "output_type": "stream",
     "text": [
      "Batch 131: 100%|██████████| 100/100 [01:08<00:00,  1.46it/s]\n"
     ]
    },
    {
     "name": "stdout",
     "output_type": "stream",
     "text": [
      "🚀 Processing Batch 132/174 (100 files)...\n"
     ]
    },
    {
     "name": "stderr",
     "output_type": "stream",
     "text": [
      "Batch 132: 100%|██████████| 100/100 [01:12<00:00,  1.38it/s]\n"
     ]
    },
    {
     "name": "stdout",
     "output_type": "stream",
     "text": [
      "🚀 Processing Batch 133/174 (100 files)...\n"
     ]
    },
    {
     "name": "stderr",
     "output_type": "stream",
     "text": [
      "Batch 133: 100%|██████████| 100/100 [01:13<00:00,  1.36it/s]\n"
     ]
    },
    {
     "name": "stdout",
     "output_type": "stream",
     "text": [
      "🚀 Processing Batch 134/174 (100 files)...\n"
     ]
    },
    {
     "name": "stderr",
     "output_type": "stream",
     "text": [
      "Batch 134: 100%|██████████| 100/100 [01:04<00:00,  1.55it/s]\n"
     ]
    },
    {
     "name": "stdout",
     "output_type": "stream",
     "text": [
      "🚀 Processing Batch 135/174 (100 files)...\n"
     ]
    },
    {
     "name": "stderr",
     "output_type": "stream",
     "text": [
      "Batch 135: 100%|██████████| 100/100 [01:18<00:00,  1.27it/s]\n"
     ]
    },
    {
     "name": "stdout",
     "output_type": "stream",
     "text": [
      "🚀 Processing Batch 136/174 (100 files)...\n"
     ]
    },
    {
     "name": "stderr",
     "output_type": "stream",
     "text": [
      "Batch 136: 100%|██████████| 100/100 [01:15<00:00,  1.33it/s]\n"
     ]
    },
    {
     "name": "stdout",
     "output_type": "stream",
     "text": [
      "🚀 Processing Batch 137/174 (100 files)...\n"
     ]
    },
    {
     "name": "stderr",
     "output_type": "stream",
     "text": [
      "Batch 137: 100%|██████████| 100/100 [01:21<00:00,  1.23it/s]\n"
     ]
    },
    {
     "name": "stdout",
     "output_type": "stream",
     "text": [
      "🚀 Processing Batch 138/174 (100 files)...\n"
     ]
    },
    {
     "name": "stderr",
     "output_type": "stream",
     "text": [
      "Batch 138: 100%|██████████| 100/100 [01:21<00:00,  1.23it/s]\n"
     ]
    },
    {
     "name": "stdout",
     "output_type": "stream",
     "text": [
      "🚀 Processing Batch 139/174 (100 files)...\n"
     ]
    },
    {
     "name": "stderr",
     "output_type": "stream",
     "text": [
      "Batch 139: 100%|██████████| 100/100 [01:15<00:00,  1.32it/s]\n"
     ]
    },
    {
     "name": "stdout",
     "output_type": "stream",
     "text": [
      "🚀 Processing Batch 140/174 (100 files)...\n"
     ]
    },
    {
     "name": "stderr",
     "output_type": "stream",
     "text": [
      "Batch 140: 100%|██████████| 100/100 [01:07<00:00,  1.48it/s]\n"
     ]
    },
    {
     "name": "stdout",
     "output_type": "stream",
     "text": [
      "🚀 Processing Batch 141/174 (100 files)...\n"
     ]
    },
    {
     "name": "stderr",
     "output_type": "stream",
     "text": [
      "Batch 141: 100%|██████████| 100/100 [01:19<00:00,  1.25it/s]\n"
     ]
    },
    {
     "name": "stdout",
     "output_type": "stream",
     "text": [
      "🚀 Processing Batch 142/174 (100 files)...\n"
     ]
    },
    {
     "name": "stderr",
     "output_type": "stream",
     "text": [
      "Batch 142: 100%|██████████| 100/100 [01:13<00:00,  1.36it/s]\n"
     ]
    },
    {
     "name": "stdout",
     "output_type": "stream",
     "text": [
      "🚀 Processing Batch 143/174 (100 files)...\n"
     ]
    },
    {
     "name": "stderr",
     "output_type": "stream",
     "text": [
      "Batch 143: 100%|██████████| 100/100 [01:13<00:00,  1.35it/s]\n"
     ]
    },
    {
     "name": "stdout",
     "output_type": "stream",
     "text": [
      "🚀 Processing Batch 144/174 (100 files)...\n"
     ]
    },
    {
     "name": "stderr",
     "output_type": "stream",
     "text": [
      "Batch 144: 100%|██████████| 100/100 [01:17<00:00,  1.29it/s]\n"
     ]
    },
    {
     "name": "stdout",
     "output_type": "stream",
     "text": [
      "🚀 Processing Batch 145/174 (100 files)...\n"
     ]
    },
    {
     "name": "stderr",
     "output_type": "stream",
     "text": [
      "Batch 145: 100%|██████████| 100/100 [01:26<00:00,  1.15it/s]\n"
     ]
    },
    {
     "name": "stdout",
     "output_type": "stream",
     "text": [
      "🚀 Processing Batch 146/174 (100 files)...\n"
     ]
    },
    {
     "name": "stderr",
     "output_type": "stream",
     "text": [
      "Batch 146: 100%|██████████| 100/100 [01:09<00:00,  1.44it/s]\n"
     ]
    },
    {
     "name": "stdout",
     "output_type": "stream",
     "text": [
      "🚀 Processing Batch 147/174 (100 files)...\n"
     ]
    },
    {
     "name": "stderr",
     "output_type": "stream",
     "text": [
      "Batch 147: 100%|██████████| 100/100 [01:08<00:00,  1.46it/s]\n"
     ]
    },
    {
     "name": "stdout",
     "output_type": "stream",
     "text": [
      "🚀 Processing Batch 148/174 (100 files)...\n"
     ]
    },
    {
     "name": "stderr",
     "output_type": "stream",
     "text": [
      "Batch 148: 100%|██████████| 100/100 [01:10<00:00,  1.43it/s]\n"
     ]
    },
    {
     "name": "stdout",
     "output_type": "stream",
     "text": [
      "🚀 Processing Batch 149/174 (100 files)...\n"
     ]
    },
    {
     "name": "stderr",
     "output_type": "stream",
     "text": [
      "Batch 149: 100%|██████████| 100/100 [01:16<00:00,  1.30it/s]\n"
     ]
    },
    {
     "name": "stdout",
     "output_type": "stream",
     "text": [
      "🚀 Processing Batch 150/174 (100 files)...\n"
     ]
    },
    {
     "name": "stderr",
     "output_type": "stream",
     "text": [
      "Batch 150: 100%|██████████| 100/100 [01:17<00:00,  1.29it/s]\n"
     ]
    },
    {
     "name": "stdout",
     "output_type": "stream",
     "text": [
      "🚀 Processing Batch 151/174 (100 files)...\n"
     ]
    },
    {
     "name": "stderr",
     "output_type": "stream",
     "text": [
      "Batch 151: 100%|██████████| 100/100 [01:15<00:00,  1.33it/s]\n"
     ]
    },
    {
     "name": "stdout",
     "output_type": "stream",
     "text": [
      "🚀 Processing Batch 152/174 (100 files)...\n"
     ]
    },
    {
     "name": "stderr",
     "output_type": "stream",
     "text": [
      "Batch 152: 100%|██████████| 100/100 [01:32<00:00,  1.08it/s]\n"
     ]
    },
    {
     "name": "stdout",
     "output_type": "stream",
     "text": [
      "🚀 Processing Batch 153/174 (100 files)...\n"
     ]
    },
    {
     "name": "stderr",
     "output_type": "stream",
     "text": [
      "Batch 153: 100%|██████████| 100/100 [01:20<00:00,  1.24it/s]\n"
     ]
    },
    {
     "name": "stdout",
     "output_type": "stream",
     "text": [
      "🚀 Processing Batch 154/174 (100 files)...\n"
     ]
    },
    {
     "name": "stderr",
     "output_type": "stream",
     "text": [
      "Batch 154: 100%|██████████| 100/100 [01:21<00:00,  1.23it/s]\n"
     ]
    },
    {
     "name": "stdout",
     "output_type": "stream",
     "text": [
      "🚀 Processing Batch 155/174 (100 files)...\n"
     ]
    },
    {
     "name": "stderr",
     "output_type": "stream",
     "text": [
      "Batch 155: 100%|██████████| 100/100 [01:25<00:00,  1.17it/s]\n"
     ]
    },
    {
     "name": "stdout",
     "output_type": "stream",
     "text": [
      "🚀 Processing Batch 156/174 (100 files)...\n"
     ]
    },
    {
     "name": "stderr",
     "output_type": "stream",
     "text": [
      "Batch 156: 100%|██████████| 100/100 [01:15<00:00,  1.32it/s]\n"
     ]
    },
    {
     "name": "stdout",
     "output_type": "stream",
     "text": [
      "🚀 Processing Batch 157/174 (100 files)...\n"
     ]
    },
    {
     "name": "stderr",
     "output_type": "stream",
     "text": [
      "Batch 157: 100%|██████████| 100/100 [01:15<00:00,  1.32it/s]\n"
     ]
    },
    {
     "name": "stdout",
     "output_type": "stream",
     "text": [
      "🚀 Processing Batch 158/174 (100 files)...\n"
     ]
    },
    {
     "name": "stderr",
     "output_type": "stream",
     "text": [
      "Batch 158: 100%|██████████| 100/100 [01:13<00:00,  1.37it/s]\n"
     ]
    },
    {
     "name": "stdout",
     "output_type": "stream",
     "text": [
      "🚀 Processing Batch 159/174 (100 files)...\n"
     ]
    },
    {
     "name": "stderr",
     "output_type": "stream",
     "text": [
      "Batch 159: 100%|██████████| 100/100 [01:07<00:00,  1.49it/s]\n"
     ]
    },
    {
     "name": "stdout",
     "output_type": "stream",
     "text": [
      "🚀 Processing Batch 160/174 (100 files)...\n"
     ]
    },
    {
     "name": "stderr",
     "output_type": "stream",
     "text": [
      "Batch 160: 100%|██████████| 100/100 [01:34<00:00,  1.05it/s]\n"
     ]
    },
    {
     "name": "stdout",
     "output_type": "stream",
     "text": [
      "🚀 Processing Batch 161/174 (100 files)...\n"
     ]
    },
    {
     "name": "stderr",
     "output_type": "stream",
     "text": [
      "Batch 161: 100%|██████████| 100/100 [01:24<00:00,  1.19it/s]\n"
     ]
    },
    {
     "name": "stdout",
     "output_type": "stream",
     "text": [
      "🚀 Processing Batch 162/174 (100 files)...\n"
     ]
    },
    {
     "name": "stderr",
     "output_type": "stream",
     "text": [
      "Batch 162: 100%|██████████| 100/100 [01:23<00:00,  1.19it/s]\n"
     ]
    },
    {
     "name": "stdout",
     "output_type": "stream",
     "text": [
      "🚀 Processing Batch 163/174 (100 files)...\n"
     ]
    },
    {
     "name": "stderr",
     "output_type": "stream",
     "text": [
      "Batch 163: 100%|██████████| 100/100 [01:15<00:00,  1.32it/s]\n"
     ]
    },
    {
     "name": "stdout",
     "output_type": "stream",
     "text": [
      "🚀 Processing Batch 164/174 (100 files)...\n"
     ]
    },
    {
     "name": "stderr",
     "output_type": "stream",
     "text": [
      "Batch 164: 100%|██████████| 100/100 [01:15<00:00,  1.33it/s]\n"
     ]
    },
    {
     "name": "stdout",
     "output_type": "stream",
     "text": [
      "🚀 Processing Batch 165/174 (100 files)...\n"
     ]
    },
    {
     "name": "stderr",
     "output_type": "stream",
     "text": [
      "Batch 165: 100%|██████████| 100/100 [01:13<00:00,  1.36it/s]\n"
     ]
    },
    {
     "name": "stdout",
     "output_type": "stream",
     "text": [
      "🚀 Processing Batch 166/174 (100 files)...\n"
     ]
    },
    {
     "name": "stderr",
     "output_type": "stream",
     "text": [
      "Batch 166: 100%|██████████| 100/100 [01:35<00:00,  1.05it/s]\n"
     ]
    },
    {
     "name": "stdout",
     "output_type": "stream",
     "text": [
      "🚀 Processing Batch 167/174 (100 files)...\n"
     ]
    },
    {
     "name": "stderr",
     "output_type": "stream",
     "text": [
      "Batch 167: 100%|██████████| 100/100 [01:13<00:00,  1.35it/s]\n"
     ]
    },
    {
     "name": "stdout",
     "output_type": "stream",
     "text": [
      "🚀 Processing Batch 168/174 (100 files)...\n"
     ]
    },
    {
     "name": "stderr",
     "output_type": "stream",
     "text": [
      "Batch 168: 100%|██████████| 100/100 [01:06<00:00,  1.51it/s]\n"
     ]
    },
    {
     "name": "stdout",
     "output_type": "stream",
     "text": [
      "🚀 Processing Batch 169/174 (100 files)...\n"
     ]
    },
    {
     "name": "stderr",
     "output_type": "stream",
     "text": [
      "Batch 169: 100%|██████████| 100/100 [01:11<00:00,  1.40it/s]\n"
     ]
    },
    {
     "name": "stdout",
     "output_type": "stream",
     "text": [
      "🚀 Processing Batch 170/174 (100 files)...\n"
     ]
    },
    {
     "name": "stderr",
     "output_type": "stream",
     "text": [
      "Batch 170: 100%|██████████| 100/100 [01:17<00:00,  1.29it/s]\n"
     ]
    },
    {
     "name": "stdout",
     "output_type": "stream",
     "text": [
      "🚀 Processing Batch 171/174 (100 files)...\n"
     ]
    },
    {
     "name": "stderr",
     "output_type": "stream",
     "text": [
      "Batch 171: 100%|██████████| 100/100 [01:15<00:00,  1.32it/s]\n"
     ]
    },
    {
     "name": "stdout",
     "output_type": "stream",
     "text": [
      "🚀 Processing Batch 172/174 (100 files)...\n"
     ]
    },
    {
     "name": "stderr",
     "output_type": "stream",
     "text": [
      "Batch 172: 100%|██████████| 100/100 [01:18<00:00,  1.27it/s]\n"
     ]
    },
    {
     "name": "stdout",
     "output_type": "stream",
     "text": [
      "🚀 Processing Batch 173/174 (100 files)...\n"
     ]
    },
    {
     "name": "stderr",
     "output_type": "stream",
     "text": [
      "Batch 173: 100%|██████████| 100/100 [01:12<00:00,  1.37it/s]\n"
     ]
    },
    {
     "name": "stdout",
     "output_type": "stream",
     "text": [
      "✅ Feature extraction completed. Results saved to: C:\\Users\\Kevin Tran\\Documents\\Project Data\\feature extractions\\eeg_features.csv\n",
      "\n"
     ]
    }
   ],
   "source": [
    "#Feature Extraction with Parallel Processing\n",
    "\n",
    "import pandas as pd\n",
    "import numpy as np\n",
    "from scipy.stats import skew, kurtosis\n",
    "from scipy.signal import welch\n",
    "import os\n",
    "from concurrent.futures import ThreadPoolExecutor\n",
    "from tqdm import tqdm\n",
    "\n",
    "# 📌 Directories\n",
    "processed_eegs_dir = r\"C:\\Users\\Kevin Tran\\Documents\\Project Data\\processed_eegs\"\n",
    "output_feature_file = r\"C:\\Users\\Kevin Tran\\Documents\\Project Data\\feature extractions\\eeg_features.csv\"\n",
    "os.makedirs(os.path.dirname(output_feature_file), exist_ok=True)  # Ensure output folder exists\n",
    "\n",
    "processed_files = [os.path.join(processed_eegs_dir, f) for f in os.listdir(processed_eegs_dir) if f.endswith(\".parquet\")]\n",
    "\n",
    "# Sampling frequency (Hz) and window size (in seconds)\n",
    "fs = 200  # Sampling frequency\n",
    "window_size_seconds = 2  # Duration of each window in seconds\n",
    "window_size_samples = fs * window_size_seconds  # Convert window size to samples\n",
    "\n",
    "# Function to split data into windows\n",
    "def split_into_windows(signal, window_size):\n",
    "    num_windows = len(signal) // window_size\n",
    "    return [signal[i * window_size:(i + 1) * window_size] for i in range(num_windows)]\n",
    "\n",
    "# Function to extract time-domain features\n",
    "def extract_time_features(signal):\n",
    "    return {\n",
    "        \"mean\": np.mean(signal),\n",
    "        \"variance\": np.var(signal),\n",
    "        \"skewness\": skew(signal),\n",
    "        \"kurtosis\": kurtosis(signal),\n",
    "        \"rms\": np.sqrt(np.mean(signal**2)),\n",
    "        \"zero_crossing_rate\": np.sum(np.diff(np.sign(signal)) != 0) / len(signal),\n",
    "    }\n",
    "\n",
    "# Function to extract frequency-domain features\n",
    "def extract_frequency_features(signal, fs):\n",
    "    freqs, psd = welch(signal, fs=fs, nperseg=256)\n",
    "    return {\n",
    "        \"delta_power\": np.sum(psd[(freqs >= 0.5) & (freqs < 4)]),\n",
    "        \"theta_power\": np.sum(psd[(freqs >= 4) & (freqs < 8)]),\n",
    "        \"alpha_power\": np.sum(psd[(freqs >= 8) & (freqs < 13)]),\n",
    "        \"beta_power\": np.sum(psd[(freqs >= 13) & (freqs < 30)]),\n",
    "        \"gamma_power\": np.sum(psd[(freqs >= 30) & (freqs < 50)]),\n",
    "        \"spectral_entropy\": -np.sum(psd * np.log(psd + 1e-10)),  # Avoid log(0)\n",
    "    }\n",
    "\n",
    "# Function to extract features from a single EEG file\n",
    "def extract_features_from_file(file_path):\n",
    "    try:\n",
    "        data = pd.read_parquet(file_path)\n",
    "        all_features = []\n",
    "\n",
    "        for channel in data.columns:\n",
    "            signal = data[channel].values\n",
    "            windows = split_into_windows(signal, window_size_samples)\n",
    "\n",
    "            for i, window in enumerate(windows):\n",
    "                time_features = extract_time_features(window)\n",
    "                frequency_features = extract_frequency_features(window, fs)\n",
    "                combined_features = {\n",
    "                    \"file\": os.path.basename(file_path),\n",
    "                    \"channel\": channel,\n",
    "                    \"window\": i,\n",
    "                    **time_features,\n",
    "                    **frequency_features,\n",
    "                }\n",
    "                all_features.append(combined_features)\n",
    "\n",
    "        return pd.DataFrame(all_features)\n",
    "    except Exception as e:\n",
    "        print(f\"❌ Error processing {file_path}: {e}\")\n",
    "        return pd.DataFrame()  # Return an empty DataFrame on failure\n",
    "\n",
    "# Function for threaded batch processing\n",
    "def batch_extract_features(file_list, num_workers=os.cpu_count()//4):\n",
    "    batch_size = 100  # Process files in batches of 100\n",
    "    combined_features = []\n",
    "\n",
    "    for i in range(0, len(file_list), batch_size):\n",
    "        batch = file_list[i:i + batch_size]\n",
    "        print(f\"🚀 Processing Batch {i//batch_size+1}/{len(file_list)//batch_size+1} ({len(batch)} files)...\")\n",
    "        with ThreadPoolExecutor(max_workers=num_workers) as executor:\n",
    "            results = list(tqdm(executor.map(extract_features_from_file, batch), total=len(batch), desc=f\"Batch {i//batch_size+1}\"))\n",
    "\n",
    "        # Combine features from the batch\n",
    "        for df in results:\n",
    "            if not df.empty:\n",
    "                combined_features.append(df)\n",
    "\n",
    "    return pd.concat(combined_features, ignore_index=True)\n",
    "\n",
    "# 📌 Run Feature Extraction\n",
    "if __name__ == \"__main__\":\n",
    "    print(f\"Starting feature extraction for {len(processed_files)} processed EEG files...\\n\")\n",
    "    all_features_df = batch_extract_features(processed_files)\n",
    "    all_features_df.to_csv(output_feature_file, index=False)\n",
    "    print(f\"✅ Feature extraction completed. Results saved to: {output_feature_file}\\n\")\n"
   ]
  },
  {
   "cell_type": "code",
   "execution_count": 7,
   "metadata": {},
   "outputs": [
    {
     "name": "stdout",
     "output_type": "stream",
     "text": [
      "Starting feature extraction for 17300 processed EEG files...\n",
      "\n",
      "🚀 Processing Batch 1/174 (100 files)...\n"
     ]
    },
    {
     "name": "stderr",
     "output_type": "stream",
     "text": [
      "Batch 1: 100%|██████████| 100/100 [01:32<00:00,  1.08it/s]\n"
     ]
    },
    {
     "name": "stdout",
     "output_type": "stream",
     "text": [
      "✔️ Batch Summary: 100 Success, 0 Failed\n",
      "\n",
      "🚀 Processing Batch 2/174 (100 files)...\n"
     ]
    },
    {
     "name": "stderr",
     "output_type": "stream",
     "text": [
      "Batch 2: 100%|██████████| 100/100 [01:22<00:00,  1.21it/s]\n"
     ]
    },
    {
     "name": "stdout",
     "output_type": "stream",
     "text": [
      "✔️ Batch Summary: 100 Success, 0 Failed\n",
      "\n",
      "🚀 Processing Batch 3/174 (100 files)...\n"
     ]
    },
    {
     "name": "stderr",
     "output_type": "stream",
     "text": [
      "Batch 3: 100%|██████████| 100/100 [01:35<00:00,  1.05it/s]\n"
     ]
    },
    {
     "name": "stdout",
     "output_type": "stream",
     "text": [
      "✔️ Batch Summary: 100 Success, 0 Failed\n",
      "\n",
      "🚀 Processing Batch 4/174 (100 files)...\n"
     ]
    },
    {
     "name": "stderr",
     "output_type": "stream",
     "text": [
      "Batch 4: 100%|██████████| 100/100 [01:15<00:00,  1.32it/s]\n"
     ]
    },
    {
     "name": "stdout",
     "output_type": "stream",
     "text": [
      "✔️ Batch Summary: 100 Success, 0 Failed\n",
      "\n",
      "🚀 Processing Batch 5/174 (100 files)...\n"
     ]
    },
    {
     "name": "stderr",
     "output_type": "stream",
     "text": [
      "Batch 5: 100%|██████████| 100/100 [01:17<00:00,  1.29it/s]\n"
     ]
    },
    {
     "name": "stdout",
     "output_type": "stream",
     "text": [
      "✔️ Batch Summary: 100 Success, 0 Failed\n",
      "\n",
      "🚀 Processing Batch 6/174 (100 files)...\n"
     ]
    },
    {
     "name": "stderr",
     "output_type": "stream",
     "text": [
      "Batch 6: 100%|██████████| 100/100 [01:45<00:00,  1.06s/it]\n"
     ]
    },
    {
     "name": "stdout",
     "output_type": "stream",
     "text": [
      "✔️ Batch Summary: 100 Success, 0 Failed\n",
      "\n",
      "🚀 Processing Batch 7/174 (100 files)...\n"
     ]
    },
    {
     "name": "stderr",
     "output_type": "stream",
     "text": [
      "Batch 7: 100%|██████████| 100/100 [01:26<00:00,  1.16it/s]\n"
     ]
    },
    {
     "name": "stdout",
     "output_type": "stream",
     "text": [
      "✔️ Batch Summary: 100 Success, 0 Failed\n",
      "\n",
      "🚀 Processing Batch 8/174 (100 files)...\n"
     ]
    },
    {
     "name": "stderr",
     "output_type": "stream",
     "text": [
      "Batch 8: 100%|██████████| 100/100 [01:18<00:00,  1.27it/s]\n"
     ]
    },
    {
     "name": "stdout",
     "output_type": "stream",
     "text": [
      "✔️ Batch Summary: 100 Success, 0 Failed\n",
      "\n",
      "🚀 Processing Batch 9/174 (100 files)...\n"
     ]
    },
    {
     "name": "stderr",
     "output_type": "stream",
     "text": [
      "Batch 9: 100%|██████████| 100/100 [01:16<00:00,  1.30it/s]\n"
     ]
    },
    {
     "name": "stdout",
     "output_type": "stream",
     "text": [
      "✔️ Batch Summary: 100 Success, 0 Failed\n",
      "\n",
      "🚀 Processing Batch 10/174 (100 files)...\n"
     ]
    },
    {
     "name": "stderr",
     "output_type": "stream",
     "text": [
      "Batch 10: 100%|██████████| 100/100 [01:21<00:00,  1.22it/s]\n"
     ]
    },
    {
     "name": "stdout",
     "output_type": "stream",
     "text": [
      "✔️ Batch Summary: 100 Success, 0 Failed\n",
      "\n",
      "🚀 Processing Batch 11/174 (100 files)...\n"
     ]
    },
    {
     "name": "stderr",
     "output_type": "stream",
     "text": [
      "Batch 11: 100%|██████████| 100/100 [01:19<00:00,  1.26it/s]\n"
     ]
    },
    {
     "name": "stdout",
     "output_type": "stream",
     "text": [
      "✔️ Batch Summary: 100 Success, 0 Failed\n",
      "\n",
      "🚀 Processing Batch 12/174 (100 files)...\n"
     ]
    },
    {
     "name": "stderr",
     "output_type": "stream",
     "text": [
      "Batch 12: 100%|██████████| 100/100 [01:13<00:00,  1.36it/s]\n"
     ]
    },
    {
     "name": "stdout",
     "output_type": "stream",
     "text": [
      "✔️ Batch Summary: 100 Success, 0 Failed\n",
      "\n",
      "🚀 Processing Batch 13/174 (100 files)...\n"
     ]
    },
    {
     "name": "stderr",
     "output_type": "stream",
     "text": [
      "Batch 13: 100%|██████████| 100/100 [01:12<00:00,  1.37it/s]\n"
     ]
    },
    {
     "name": "stdout",
     "output_type": "stream",
     "text": [
      "✔️ Batch Summary: 100 Success, 0 Failed\n",
      "\n",
      "🚀 Processing Batch 14/174 (100 files)...\n"
     ]
    },
    {
     "name": "stderr",
     "output_type": "stream",
     "text": [
      "Batch 14:  76%|███████▌  | 76/100 [01:01<00:19,  1.24it/s]\n"
     ]
    },
    {
     "ename": "KeyboardInterrupt",
     "evalue": "",
     "output_type": "error",
     "traceback": [
      "\u001b[1;31m---------------------------------------------------------------------------\u001b[0m",
      "\u001b[1;31mKeyboardInterrupt\u001b[0m                         Traceback (most recent call last)",
      "Cell \u001b[1;32mIn[7], line 125\u001b[0m\n\u001b[0;32m    123\u001b[0m \u001b[38;5;28;01mif\u001b[39;00m \u001b[38;5;18m__name__\u001b[39m \u001b[38;5;241m==\u001b[39m \u001b[38;5;124m\"\u001b[39m\u001b[38;5;124m__main__\u001b[39m\u001b[38;5;124m\"\u001b[39m:\n\u001b[0;32m    124\u001b[0m     \u001b[38;5;28mprint\u001b[39m(\u001b[38;5;124mf\u001b[39m\u001b[38;5;124m\"\u001b[39m\u001b[38;5;124mStarting feature extraction for \u001b[39m\u001b[38;5;132;01m{\u001b[39;00m\u001b[38;5;28mlen\u001b[39m(processed_files)\u001b[38;5;132;01m}\u001b[39;00m\u001b[38;5;124m processed EEG files...\u001b[39m\u001b[38;5;130;01m\\n\u001b[39;00m\u001b[38;5;124m\"\u001b[39m)\n\u001b[1;32m--> 125\u001b[0m     \u001b[43mbatch_extract_features\u001b[49m\u001b[43m(\u001b[49m\u001b[43mprocessed_files\u001b[49m\u001b[43m)\u001b[49m\n\u001b[0;32m    126\u001b[0m     \u001b[38;5;28mprint\u001b[39m(\u001b[38;5;124mf\u001b[39m\u001b[38;5;124m\"\u001b[39m\u001b[38;5;124m✅ Feature extraction completed. Temporary files saved to: \u001b[39m\u001b[38;5;132;01m{\u001b[39;00moutput_feature_dir\u001b[38;5;132;01m}\u001b[39;00m\u001b[38;5;130;01m\\n\u001b[39;00m\u001b[38;5;124m\"\u001b[39m)\n\u001b[0;32m    128\u001b[0m     \u001b[38;5;66;03m# Merge temporary files and clean up\u001b[39;00m\n",
      "Cell \u001b[1;32mIn[7], line 89\u001b[0m, in \u001b[0;36mbatch_extract_features\u001b[1;34m(file_list, num_workers)\u001b[0m\n\u001b[0;32m     87\u001b[0m \u001b[38;5;28mprint\u001b[39m(\u001b[38;5;124mf\u001b[39m\u001b[38;5;124m\"\u001b[39m\u001b[38;5;124m🚀 Processing Batch \u001b[39m\u001b[38;5;132;01m{\u001b[39;00mi\u001b[38;5;241m/\u001b[39m\u001b[38;5;241m/\u001b[39mbatch_size\u001b[38;5;241m+\u001b[39m\u001b[38;5;241m1\u001b[39m\u001b[38;5;132;01m}\u001b[39;00m\u001b[38;5;124m/\u001b[39m\u001b[38;5;132;01m{\u001b[39;00m\u001b[38;5;28mlen\u001b[39m(file_list)\u001b[38;5;241m/\u001b[39m\u001b[38;5;241m/\u001b[39mbatch_size\u001b[38;5;241m+\u001b[39m\u001b[38;5;241m1\u001b[39m\u001b[38;5;132;01m}\u001b[39;00m\u001b[38;5;124m (\u001b[39m\u001b[38;5;132;01m{\u001b[39;00m\u001b[38;5;28mlen\u001b[39m(batch)\u001b[38;5;132;01m}\u001b[39;00m\u001b[38;5;124m files)...\u001b[39m\u001b[38;5;124m\"\u001b[39m)\n\u001b[0;32m     88\u001b[0m \u001b[38;5;28;01mwith\u001b[39;00m ThreadPoolExecutor(max_workers\u001b[38;5;241m=\u001b[39mnum_workers) \u001b[38;5;28;01mas\u001b[39;00m executor:\n\u001b[1;32m---> 89\u001b[0m     results \u001b[38;5;241m=\u001b[39m \u001b[38;5;28;43mlist\u001b[39;49m\u001b[43m(\u001b[49m\u001b[43mtqdm\u001b[49m\u001b[43m(\u001b[49m\u001b[43mexecutor\u001b[49m\u001b[38;5;241;43m.\u001b[39;49m\u001b[43mmap\u001b[49m\u001b[43m(\u001b[49m\u001b[43mextract_features_from_file\u001b[49m\u001b[43m,\u001b[49m\u001b[43m \u001b[49m\u001b[43mbatch\u001b[49m\u001b[43m)\u001b[49m\u001b[43m,\u001b[49m\u001b[43m \u001b[49m\u001b[43mtotal\u001b[49m\u001b[38;5;241;43m=\u001b[39;49m\u001b[38;5;28;43mlen\u001b[39;49m\u001b[43m(\u001b[49m\u001b[43mbatch\u001b[49m\u001b[43m)\u001b[49m\u001b[43m,\u001b[49m\u001b[43m \u001b[49m\u001b[43mdesc\u001b[49m\u001b[38;5;241;43m=\u001b[39;49m\u001b[38;5;124;43mf\u001b[39;49m\u001b[38;5;124;43m\"\u001b[39;49m\u001b[38;5;124;43mBatch \u001b[39;49m\u001b[38;5;132;43;01m{\u001b[39;49;00m\u001b[43mi\u001b[49m\u001b[38;5;241;43m/\u001b[39;49m\u001b[38;5;241;43m/\u001b[39;49m\u001b[43mbatch_size\u001b[49m\u001b[38;5;241;43m+\u001b[39;49m\u001b[38;5;241;43m1\u001b[39;49m\u001b[38;5;132;43;01m}\u001b[39;49;00m\u001b[38;5;124;43m\"\u001b[39;49m\u001b[43m)\u001b[49m\u001b[43m)\u001b[49m\n\u001b[0;32m     91\u001b[0m \u001b[38;5;66;03m# Print summary of results for the current batch\u001b[39;00m\n\u001b[0;32m     92\u001b[0m success \u001b[38;5;241m=\u001b[39m [res \u001b[38;5;28;01mfor\u001b[39;00m res \u001b[38;5;129;01min\u001b[39;00m results \u001b[38;5;28;01mif\u001b[39;00m res\u001b[38;5;241m.\u001b[39mstartswith(\u001b[38;5;124m\"\u001b[39m\u001b[38;5;124m✅\u001b[39m\u001b[38;5;124m\"\u001b[39m)]\n",
      "File \u001b[1;32mc:\\Users\\Kevin Tran\\AppData\\Local\\Programs\\Python\\Python310\\lib\\site-packages\\tqdm\\std.py:1195\u001b[0m, in \u001b[0;36mtqdm.__iter__\u001b[1;34m(self)\u001b[0m\n\u001b[0;32m   1192\u001b[0m time \u001b[38;5;241m=\u001b[39m \u001b[38;5;28mself\u001b[39m\u001b[38;5;241m.\u001b[39m_time\n\u001b[0;32m   1194\u001b[0m \u001b[38;5;28;01mtry\u001b[39;00m:\n\u001b[1;32m-> 1195\u001b[0m     \u001b[38;5;28;01mfor\u001b[39;00m obj \u001b[38;5;129;01min\u001b[39;00m iterable:\n\u001b[0;32m   1196\u001b[0m         \u001b[38;5;28;01myield\u001b[39;00m obj\n\u001b[0;32m   1197\u001b[0m         \u001b[38;5;66;03m# Update and possibly print the progressbar.\u001b[39;00m\n\u001b[0;32m   1198\u001b[0m         \u001b[38;5;66;03m# Note: does not call self.update(1) for speed optimisation.\u001b[39;00m\n",
      "File \u001b[1;32mc:\\Users\\Kevin Tran\\AppData\\Local\\Programs\\Python\\Python310\\lib\\concurrent\\futures\\_base.py:609\u001b[0m, in \u001b[0;36mExecutor.map.<locals>.result_iterator\u001b[1;34m()\u001b[0m\n\u001b[0;32m    606\u001b[0m \u001b[38;5;28;01mwhile\u001b[39;00m fs:\n\u001b[0;32m    607\u001b[0m     \u001b[38;5;66;03m# Careful not to keep a reference to the popped future\u001b[39;00m\n\u001b[0;32m    608\u001b[0m     \u001b[38;5;28;01mif\u001b[39;00m timeout \u001b[38;5;129;01mis\u001b[39;00m \u001b[38;5;28;01mNone\u001b[39;00m:\n\u001b[1;32m--> 609\u001b[0m         \u001b[38;5;28;01myield\u001b[39;00m \u001b[43mfs\u001b[49m\u001b[38;5;241;43m.\u001b[39;49m\u001b[43mpop\u001b[49m\u001b[43m(\u001b[49m\u001b[43m)\u001b[49m\u001b[38;5;241;43m.\u001b[39;49m\u001b[43mresult\u001b[49m\u001b[43m(\u001b[49m\u001b[43m)\u001b[49m\n\u001b[0;32m    610\u001b[0m     \u001b[38;5;28;01melse\u001b[39;00m:\n\u001b[0;32m    611\u001b[0m         \u001b[38;5;28;01myield\u001b[39;00m fs\u001b[38;5;241m.\u001b[39mpop()\u001b[38;5;241m.\u001b[39mresult(end_time \u001b[38;5;241m-\u001b[39m time\u001b[38;5;241m.\u001b[39mmonotonic())\n",
      "File \u001b[1;32mc:\\Users\\Kevin Tran\\AppData\\Local\\Programs\\Python\\Python310\\lib\\concurrent\\futures\\_base.py:441\u001b[0m, in \u001b[0;36mFuture.result\u001b[1;34m(self, timeout)\u001b[0m\n\u001b[0;32m    438\u001b[0m \u001b[38;5;28;01melif\u001b[39;00m \u001b[38;5;28mself\u001b[39m\u001b[38;5;241m.\u001b[39m_state \u001b[38;5;241m==\u001b[39m FINISHED:\n\u001b[0;32m    439\u001b[0m     \u001b[38;5;28;01mreturn\u001b[39;00m \u001b[38;5;28mself\u001b[39m\u001b[38;5;241m.\u001b[39m__get_result()\n\u001b[1;32m--> 441\u001b[0m \u001b[38;5;28;43mself\u001b[39;49m\u001b[38;5;241;43m.\u001b[39;49m\u001b[43m_condition\u001b[49m\u001b[38;5;241;43m.\u001b[39;49m\u001b[43mwait\u001b[49m\u001b[43m(\u001b[49m\u001b[43mtimeout\u001b[49m\u001b[43m)\u001b[49m\n\u001b[0;32m    443\u001b[0m \u001b[38;5;28;01mif\u001b[39;00m \u001b[38;5;28mself\u001b[39m\u001b[38;5;241m.\u001b[39m_state \u001b[38;5;129;01min\u001b[39;00m [CANCELLED, CANCELLED_AND_NOTIFIED]:\n\u001b[0;32m    444\u001b[0m     \u001b[38;5;28;01mraise\u001b[39;00m CancelledError()\n",
      "File \u001b[1;32mc:\\Users\\Kevin Tran\\AppData\\Local\\Programs\\Python\\Python310\\lib\\threading.py:320\u001b[0m, in \u001b[0;36mCondition.wait\u001b[1;34m(self, timeout)\u001b[0m\n\u001b[0;32m    318\u001b[0m \u001b[38;5;28;01mtry\u001b[39;00m:    \u001b[38;5;66;03m# restore state no matter what (e.g., KeyboardInterrupt)\u001b[39;00m\n\u001b[0;32m    319\u001b[0m     \u001b[38;5;28;01mif\u001b[39;00m timeout \u001b[38;5;129;01mis\u001b[39;00m \u001b[38;5;28;01mNone\u001b[39;00m:\n\u001b[1;32m--> 320\u001b[0m         \u001b[43mwaiter\u001b[49m\u001b[38;5;241;43m.\u001b[39;49m\u001b[43macquire\u001b[49m\u001b[43m(\u001b[49m\u001b[43m)\u001b[49m\n\u001b[0;32m    321\u001b[0m         gotit \u001b[38;5;241m=\u001b[39m \u001b[38;5;28;01mTrue\u001b[39;00m\n\u001b[0;32m    322\u001b[0m     \u001b[38;5;28;01melse\u001b[39;00m:\n",
      "\u001b[1;31mKeyboardInterrupt\u001b[0m: "
     ]
    }
   ],
   "source": [
    "#Feature extraction 2 test\n",
    "\n",
    "import pandas as pd\n",
    "import numpy as np\n",
    "from scipy.stats import skew, kurtosis\n",
    "from scipy.signal import welch\n",
    "import os\n",
    "from concurrent.futures import ThreadPoolExecutor\n",
    "from tqdm import tqdm\n",
    "\n",
    "# 📌 Directories\n",
    "processed_eegs_dir = r\"C:\\Users\\Kevin Tran\\Documents\\Project Data\\processed_eegs\"\n",
    "output_feature_dir = r\"C:\\Users\\Kevin Tran\\Documents\\Project Data\\feature extractions\\temp\"\n",
    "final_output_file = r\"C:\\Users\\Kevin Tran\\Documents\\Project Data\\feature extractions\\eeg_features.csv\"\n",
    "\n",
    "os.makedirs(output_feature_dir, exist_ok=True)  # Ensure temp folder exists\n",
    "os.makedirs(os.path.dirname(final_output_file), exist_ok=True)  # Ensure output folder exists\n",
    "\n",
    "processed_files = [os.path.join(processed_eegs_dir, f) for f in os.listdir(processed_eegs_dir) if f.endswith(\".parquet\")]\n",
    "\n",
    "# Sampling frequency (Hz) and window size (in seconds)\n",
    "fs = 200  # Sampling frequency\n",
    "window_size_seconds = 2  # Duration of each window in seconds\n",
    "window_size_samples = fs * window_size_seconds  # Convert window size to samples\n",
    "\n",
    "# Function to split data into windows\n",
    "def split_into_windows(signal, window_size):\n",
    "    num_windows = len(signal) // window_size\n",
    "    return [signal[i * window_size:(i + 1) * window_size] for i in range(num_windows)]\n",
    "\n",
    "# Function to extract time-domain features\n",
    "def extract_time_features(signal):\n",
    "    return {\n",
    "        \"mean\": np.mean(signal),\n",
    "        \"variance\": np.var(signal),\n",
    "        \"skewness\": skew(signal),\n",
    "        \"kurtosis\": kurtosis(signal),\n",
    "        \"rms\": np.sqrt(np.mean(signal**2)),\n",
    "        \"zero_crossing_rate\": np.sum(np.diff(np.sign(signal)) != 0) / len(signal),\n",
    "    }\n",
    "\n",
    "# Function to extract frequency-domain features\n",
    "def extract_frequency_features(signal, fs):\n",
    "    freqs, psd = welch(signal, fs=fs, nperseg=256)\n",
    "    return {\n",
    "        \"delta_power\": np.sum(psd[(freqs >= 0.5) & (freqs < 4)]),\n",
    "        \"theta_power\": np.sum(psd[(freqs >= 4) & (freqs < 8)]),\n",
    "        \"alpha_power\": np.sum(psd[(freqs >= 8) & (freqs < 13)]),\n",
    "        \"beta_power\": np.sum(psd[(freqs >= 13) & (freqs < 30)]),\n",
    "        \"gamma_power\": np.sum(psd[(freqs >= 30) & (freqs < 50)]),\n",
    "        \"spectral_entropy\": -np.sum(psd * np.log(psd + 1e-10)),  # Avoid log(0)\n",
    "    }\n",
    "\n",
    "# Function to extract features from a single EEG file\n",
    "def extract_features_from_file(file_path):\n",
    "    try:\n",
    "        data = pd.read_parquet(file_path)\n",
    "        all_features = []\n",
    "\n",
    "        for channel in data.columns:\n",
    "            signal = data[channel].values\n",
    "            windows = split_into_windows(signal, window_size_samples)\n",
    "\n",
    "            for i, window in enumerate(windows):\n",
    "                time_features = extract_time_features(window)\n",
    "                frequency_features = extract_frequency_features(window, fs)\n",
    "                combined_features = {\n",
    "                    \"file\": os.path.basename(file_path),\n",
    "                    \"channel\": channel,\n",
    "                    \"window\": i,\n",
    "                    **time_features,\n",
    "                    **frequency_features,\n",
    "                }\n",
    "                all_features.append(combined_features)\n",
    "\n",
    "        output_file = os.path.join(output_feature_dir, os.path.basename(file_path).replace(\".parquet\", \".csv\"))\n",
    "        pd.DataFrame(all_features).to_csv(output_file, index=False)\n",
    "        return f\"✅ Success: {os.path.basename(file_path)}\"\n",
    "    except Exception as e:\n",
    "        return f\"❌ Failed: {os.path.basename(file_path)} | Error: {e}\"\n",
    "\n",
    "# Threaded batch processing\n",
    "def batch_extract_features(file_list, num_workers=os.cpu_count()//4):\n",
    "    batch_size = 100  # Process files in batches of 100\n",
    "    for i in range(0, len(file_list), batch_size):\n",
    "        batch = file_list[i:i + batch_size]\n",
    "        print(f\"🚀 Processing Batch {i//batch_size+1}/{len(file_list)//batch_size+1} ({len(batch)} files)...\")\n",
    "        with ThreadPoolExecutor(max_workers=num_workers) as executor:\n",
    "            results = list(tqdm(executor.map(extract_features_from_file, batch), total=len(batch), desc=f\"Batch {i//batch_size+1}\"))\n",
    "\n",
    "        # Print summary of results for the current batch\n",
    "        success = [res for res in results if res.startswith(\"✅\")]\n",
    "        failed = [res for res in results if res.startswith(\"❌\")]\n",
    "        print(f\"✔️ Batch Summary: {len(success)} Success, {len(failed)} Failed\\n\")\n",
    "        if failed:\n",
    "            print(f\"❌ Failed Files: {'; '.join(failed)}\\n\")\n",
    "\n",
    "# Merge all temporary files into a single CSV and clean up temporary files\n",
    "def merge_temp_files_and_cleanup(output_dir, final_file):\n",
    "    temp_files = [os.path.join(output_dir, f) for f in os.listdir(output_dir) if f.endswith(\".csv\")]\n",
    "    \n",
    "    if not temp_files:\n",
    "        print(\"❌ No temporary files found to merge!\")\n",
    "        return\n",
    "\n",
    "    print(f\"🚀 Merging {len(temp_files)} temporary files into final CSV...\")\n",
    "    combined_df = pd.concat([pd.read_csv(f) for f in temp_files], ignore_index=True)\n",
    "    combined_df.to_csv(final_file, index=False)\n",
    "    print(f\"✅ Merged files into: {final_file}\")\n",
    "\n",
    "    # Clean up temporary files\n",
    "    print(\"🧹 Cleaning up temporary files...\")\n",
    "    for temp_file in temp_files:\n",
    "        try:\n",
    "            os.remove(temp_file)\n",
    "            print(f\"🗑️ Deleted: {temp_file}\")\n",
    "        except Exception as e:\n",
    "            print(f\"❌ Failed to delete {temp_file}: {e}\")\n",
    "\n",
    "    print(\"✅ Cleanup completed!\")\n",
    "\n",
    "# Run Feature Extraction\n",
    "if __name__ == \"__main__\":\n",
    "    print(f\"Starting feature extraction for {len(processed_files)} processed EEG files...\\n\")\n",
    "    batch_extract_features(processed_files)\n",
    "    print(f\"✅ Feature extraction completed. Temporary files saved to: {output_feature_dir}\\n\")\n",
    "\n",
    "    # Merge temporary files and clean up\n",
    "    merge_temp_files_and_cleanup(output_feature_dir, final_output_file)\n",
    "    print(\"✅ Feature extraction process fully completed!\")\n"
   ]
  },
  {
   "cell_type": "code",
   "execution_count": 2,
   "metadata": {},
   "outputs": [
    {
     "name": "stdout",
     "output_type": "stream",
     "text": [
      "Extracting features from: C:\\Users\\Kevin Tran\\Documents\\Project Data\\processed_eegs\\1000913311.parquet\n",
      "Processing file: C:\\Users\\Kevin Tran\\Documents\\Project Data\\processed_eegs\\1000913311.parquet\n",
      "Extracting features from: C:\\Users\\Kevin Tran\\Documents\\Project Data\\processed_eegs\\1001369401.parquet\n",
      "Processing file: C:\\Users\\Kevin Tran\\Documents\\Project Data\\processed_eegs\\1001369401.parquet\n",
      "Extracting features from: C:\\Users\\Kevin Tran\\Documents\\Project Data\\processed_eegs\\1001487592.parquet\n",
      "Processing file: C:\\Users\\Kevin Tran\\Documents\\Project Data\\processed_eegs\\1001487592.parquet\n",
      "Extracting features from: C:\\Users\\Kevin Tran\\Documents\\Project Data\\processed_eegs\\1001717358.parquet\n",
      "Processing file: C:\\Users\\Kevin Tran\\Documents\\Project Data\\processed_eegs\\1001717358.parquet\n",
      "Extracting features from: C:\\Users\\Kevin Tran\\Documents\\Project Data\\processed_eegs\\1002136740.parquet\n",
      "Processing file: C:\\Users\\Kevin Tran\\Documents\\Project Data\\processed_eegs\\1002136740.parquet\n",
      "Extracting features from: C:\\Users\\Kevin Tran\\Documents\\Project Data\\processed_eegs\\1002142157.parquet\n",
      "Processing file: C:\\Users\\Kevin Tran\\Documents\\Project Data\\processed_eegs\\1002142157.parquet\n",
      "Extracting features from: C:\\Users\\Kevin Tran\\Documents\\Project Data\\processed_eegs\\1002197945.parquet\n",
      "Processing file: C:\\Users\\Kevin Tran\\Documents\\Project Data\\processed_eegs\\1002197945.parquet\n",
      "Extracting features from: C:\\Users\\Kevin Tran\\Documents\\Project Data\\processed_eegs\\1002379034.parquet\n",
      "Processing file: C:\\Users\\Kevin Tran\\Documents\\Project Data\\processed_eegs\\1002379034.parquet\n",
      "Extracting features from: C:\\Users\\Kevin Tran\\Documents\\Project Data\\processed_eegs\\1002576868.parquet\n",
      "Processing file: C:\\Users\\Kevin Tran\\Documents\\Project Data\\processed_eegs\\1002576868.parquet\n",
      "Extracting features from: C:\\Users\\Kevin Tran\\Documents\\Project Data\\processed_eegs\\100261680.parquet\n",
      "Processing file: C:\\Users\\Kevin Tran\\Documents\\Project Data\\processed_eegs\\100261680.parquet\n",
      "Extracting features from: C:\\Users\\Kevin Tran\\Documents\\Project Data\\processed_eegs\\1002858110.parquet\n",
      "Processing file: C:\\Users\\Kevin Tran\\Documents\\Project Data\\processed_eegs\\1002858110.parquet\n",
      "Extracting features from: C:\\Users\\Kevin Tran\\Documents\\Project Data\\processed_eegs\\1003011202.parquet\n",
      "Processing file: C:\\Users\\Kevin Tran\\Documents\\Project Data\\processed_eegs\\1003011202.parquet\n",
      "Extracting features from: C:\\Users\\Kevin Tran\\Documents\\Project Data\\processed_eegs\\1003163681.parquet\n",
      "Processing file: C:\\Users\\Kevin Tran\\Documents\\Project Data\\processed_eegs\\1003163681.parquet\n",
      "Extracting features from: C:\\Users\\Kevin Tran\\Documents\\Project Data\\processed_eegs\\1003330515.parquet\n",
      "Processing file: C:\\Users\\Kevin Tran\\Documents\\Project Data\\processed_eegs\\1003330515.parquet\n",
      "Extracting features from: C:\\Users\\Kevin Tran\\Documents\\Project Data\\processed_eegs\\1003353736.parquet\n",
      "Processing file: C:\\Users\\Kevin Tran\\Documents\\Project Data\\processed_eegs\\1003353736.parquet\n",
      "Extracting features from: C:\\Users\\Kevin Tran\\Documents\\Project Data\\processed_eegs\\1003458521.parquet\n",
      "Processing file: C:\\Users\\Kevin Tran\\Documents\\Project Data\\processed_eegs\\1003458521.parquet\n",
      "Extracting features from: C:\\Users\\Kevin Tran\\Documents\\Project Data\\processed_eegs\\1003517587.parquet\n",
      "Processing file: C:\\Users\\Kevin Tran\\Documents\\Project Data\\processed_eegs\\1003517587.parquet\n",
      "Extracting features from: C:\\Users\\Kevin Tran\\Documents\\Project Data\\processed_eegs\\1003529080.parquet\n",
      "Processing file: C:\\Users\\Kevin Tran\\Documents\\Project Data\\processed_eegs\\1003529080.parquet\n",
      "Extracting features from: C:\\Users\\Kevin Tran\\Documents\\Project Data\\processed_eegs\\1003675786.parquet\n",
      "Processing file: C:\\Users\\Kevin Tran\\Documents\\Project Data\\processed_eegs\\1003675786.parquet\n",
      "Extracting features from: C:\\Users\\Kevin Tran\\Documents\\Project Data\\processed_eegs\\1003814407.parquet\n",
      "Processing file: C:\\Users\\Kevin Tran\\Documents\\Project Data\\processed_eegs\\1003814407.parquet\n",
      "Extracting features from: C:\\Users\\Kevin Tran\\Documents\\Project Data\\processed_eegs\\1004019218.parquet\n",
      "Processing file: C:\\Users\\Kevin Tran\\Documents\\Project Data\\processed_eegs\\1004019218.parquet\n",
      "Extracting features from: C:\\Users\\Kevin Tran\\Documents\\Project Data\\processed_eegs\\1004156847.parquet\n",
      "Processing file: C:\\Users\\Kevin Tran\\Documents\\Project Data\\processed_eegs\\1004156847.parquet\n",
      "Extracting features from: C:\\Users\\Kevin Tran\\Documents\\Project Data\\processed_eegs\\1004534549.parquet\n",
      "Processing file: C:\\Users\\Kevin Tran\\Documents\\Project Data\\processed_eegs\\1004534549.parquet\n",
      "Extracting features from: C:\\Users\\Kevin Tran\\Documents\\Project Data\\processed_eegs\\1004626343.parquet\n",
      "Processing file: C:\\Users\\Kevin Tran\\Documents\\Project Data\\processed_eegs\\1004626343.parquet\n",
      "Extracting features from: C:\\Users\\Kevin Tran\\Documents\\Project Data\\processed_eegs\\1005166455.parquet\n",
      "Processing file: C:\\Users\\Kevin Tran\\Documents\\Project Data\\processed_eegs\\1005166455.parquet\n",
      "Extracting features from: C:\\Users\\Kevin Tran\\Documents\\Project Data\\processed_eegs\\1005173045.parquet\n",
      "Processing file: C:\\Users\\Kevin Tran\\Documents\\Project Data\\processed_eegs\\1005173045.parquet\n",
      "Extracting features from: C:\\Users\\Kevin Tran\\Documents\\Project Data\\processed_eegs\\1005200526.parquet\n",
      "Processing file: C:\\Users\\Kevin Tran\\Documents\\Project Data\\processed_eegs\\1005200526.parquet\n",
      "Extracting features from: C:\\Users\\Kevin Tran\\Documents\\Project Data\\processed_eegs\\1005420143.parquet\n",
      "Processing file: C:\\Users\\Kevin Tran\\Documents\\Project Data\\processed_eegs\\1005420143.parquet\n",
      "Extracting features from: C:\\Users\\Kevin Tran\\Documents\\Project Data\\processed_eegs\\1005941287.parquet\n",
      "Processing file: C:\\Users\\Kevin Tran\\Documents\\Project Data\\processed_eegs\\1005941287.parquet\n",
      "\n",
      "Extracted Features:\n",
      "                 file channel  window      mean  variance  skewness  kurtosis  \\\n",
      "0  1000913311.parquet     Fp1       0  0.276313  3.350981 -0.319842 -1.028546   \n",
      "1  1000913311.parquet     Fp1       1  0.127779  1.601149 -0.246889 -0.349994   \n",
      "2  1000913311.parquet     Fp1       2 -0.077821  0.791337  0.297913 -0.256593   \n",
      "3  1000913311.parquet     Fp1       3 -0.015051  0.622526 -0.597908  0.727440   \n",
      "4  1000913311.parquet     Fp1       4  0.037132  0.452399  0.624661  1.443890   \n",
      "\n",
      "        rms  zero_crossing_rate  delta_power  theta_power  alpha_power  \\\n",
      "0  1.851305              0.0225     4.062484     0.075240     0.019779   \n",
      "1  1.271801              0.0400     1.894480     0.034426     0.027388   \n",
      "2  0.892969              0.0800     0.751981     0.138187     0.032058   \n",
      "3  0.789147              0.0625     0.536924     0.080739     0.073041   \n",
      "4  0.673631              0.0975     0.345321     0.040181     0.031404   \n",
      "\n",
      "   beta_power  gamma_power  spectral_entropy  \n",
      "0    0.168143     0.021713         -0.662601  \n",
      "1    0.143715     0.025518          1.909945  \n",
      "2    0.136644     0.026050          2.816733  \n",
      "3    0.157307     0.018933          2.625939  \n",
      "4    0.199347     0.046996          2.446160  \n",
      "Features saved to: C:/Users/Kevin Tran/Documents/Project Data/feature extractions/eeg_features.csv\n"
     ]
    },
    {
     "data": {
      "image/png": "[encoded data removed]",
      "text/plain": [
       "<Figure size 640x480 with 1 Axes>"
      ]
     },
     "metadata": {},
     "output_type": "display_data"
    }
   ],
   "source": [
    "import pandas as pd\n",
    "import numpy as np\n",
    "from scipy.stats import skew, kurtosis\n",
    "from scipy.signal import welch\n",
    "import os\n",
    "import matplotlib.pyplot as plt\n",
    "\n",
    "# CHANGE DIRECTORY TO YOUR PROCESSED EEGS!!!\n",
    "processed_eegs_dir = r\"C:\\Users\\Kevin Tran\\Documents\\Project Data\\processed_eegs\"\n",
    "\n",
    "# List all .parquet files in the specified directory\n",
    "processed_files = [os.path.join(processed_eegs_dir, f) for f in os.listdir(processed_eegs_dir) if f.endswith(\".parquet\")]\n",
    "\n",
    "# Sampling frequency (Hz) and window size (in seconds)\n",
    "fs = 200  # Sampling frequency (200 samples per second)\n",
    "window_size_seconds = 2  # Duration of each window in seconds\n",
    "window_size_samples = fs * window_size_seconds  # Convert window size to samples\n",
    "\n",
    "\n",
    "# Function to split data into fixed-size windows\n",
    "def split_into_windows(signal, window_size):\n",
    "    \"\"\"\n",
    "    Splits the input signal into fixed-size windows.\n",
    "    Args:\n",
    "        signal: The input EEG signal (1D array).\n",
    "        window_size: Number of samples per window.\n",
    "    Returns:\n",
    "        A list of equally-sized signal windows.\n",
    "    \"\"\"\n",
    "    num_windows = len(signal) // window_size  # Calculate the number of complete windows\n",
    "    windows = [signal[i * window_size:(i + 1) * window_size] for i in range(num_windows)]  # Slice the signal\n",
    "    return windows\n",
    "\n",
    "\n",
    "# Function to extract time-domain features\n",
    "def extract_time_features(signal):\n",
    "    \"\"\"\n",
    "    Extracts statistical features from the signal in the time domain.\n",
    "    Args:\n",
    "        signal: The input EEG signal (1D array).\n",
    "    Returns:\n",
    "        A dictionary containing the computed features.\n",
    "    \"\"\"\n",
    "    features = {\n",
    "        \"mean\": np.mean(signal),  # Average value of the signal\n",
    "        \"variance\": np.var(signal),  # Variability in the signal\n",
    "        \"skewness\": skew(signal),  # Asymmetry of the signal\n",
    "        \"kurtosis\": kurtosis(signal),  # \"Peakedness\" of the signal\n",
    "        \"rms\": np.sqrt(np.mean(signal**2)),  # Root Mean Square of the signal\n",
    "        \"zero_crossing_rate\": np.sum(np.diff(np.sign(signal)) != 0) / len(signal)  # Rate of zero crossings\n",
    "    }\n",
    "    return features\n",
    "\n",
    "\n",
    "# Function to extract frequency-domain features\n",
    "def extract_frequency_features(signal, fs):\n",
    "    \"\"\"\n",
    "    Extracts frequency domain features from the signal using Welch's method.\n",
    "    Args:\n",
    "        signal: The input EEG signal (1D array).\n",
    "        fs: Sampling frequency of the signal.\n",
    "    Returns:\n",
    "        A dictionary containing the computed frequency-domain features.\n",
    "    \"\"\"\n",
    "    # Compute Power Spectral Density (PSD) using Welch's method\n",
    "    freqs, psd = welch(signal, fs=fs, nperseg=256)\n",
    "    \n",
    "    # Calculate band powers and spectral entropy\n",
    "    band_powers = {\n",
    "        \"delta_power\": np.sum(psd[(freqs >= 0.5) & (freqs < 4)]),  # Power in delta band (0.5–4 Hz)\n",
    "        \"theta_power\": np.sum(psd[(freqs >= 4) & (freqs < 8)]),  # Power in theta band (4–8 Hz)\n",
    "        \"alpha_power\": np.sum(psd[(freqs >= 8) & (freqs < 13)]),  # Power in alpha band (8–13 Hz)\n",
    "        \"beta_power\": np.sum(psd[(freqs >= 13) & (freqs < 30)]),  # Power in beta band (13–30 Hz)\n",
    "        \"gamma_power\": np.sum(psd[(freqs >= 30) & (freqs < 50)]),  # Power in gamma band (30–50 Hz)\n",
    "        \"spectral_entropy\": -np.sum(psd * np.log(psd + 1e-10))  # Avoid log(0) with small offset\n",
    "    }\n",
    "    return band_powers\n",
    "\n",
    "\n",
    "# Function to extract features from a single EEG file\n",
    "def extract_features_from_file(file_path, fs, window_size_samples):\n",
    "    \"\"\"\n",
    "    Processes an EEG file to extract both time-domain and frequency-domain features.\n",
    "    Args:\n",
    "        file_path: Path to the EEG file.\n",
    "        fs: Sampling frequency of the signal.\n",
    "        window_size_samples: Number of samples in each window.\n",
    "    Returns:\n",
    "        A DataFrame containing features for all channels and windows.\n",
    "    \"\"\"\n",
    "    data = pd.read_parquet(file_path)  # Load EEG data\n",
    "    print(f\"Processing file: {file_path}\")\n",
    "\n",
    "    all_features = []  # List to store features for all windows and channels\n",
    "    \n",
    "    # Process each channel in the EEG data\n",
    "    for channel in data.columns:\n",
    "        signal = data[channel].values  # Get the signal for the current channel\n",
    "        \n",
    "        # Split the signal into windows\n",
    "        windows = split_into_windows(signal, window_size_samples)\n",
    "        \n",
    "        # Extract features from each window\n",
    "        for i, window in enumerate(windows):\n",
    "            # Extract time-domain features\n",
    "            time_features = extract_time_features(window)\n",
    "            \n",
    "            # Extract frequency-domain features\n",
    "            frequency_features = extract_frequency_features(window, fs)\n",
    "            \n",
    "            # Combine features and add metadata\n",
    "            combined_features = {\n",
    "                \"file\": os.path.basename(file_path),  # File name\n",
    "                \"channel\": channel,  # Channel name\n",
    "                \"window\": i,  # Window index\n",
    "                **time_features,  # Add time-domain features\n",
    "                **frequency_features  # Add frequency-domain features\n",
    "            }\n",
    "            \n",
    "            # Append to the list of all features\n",
    "            all_features.append(combined_features)\n",
    "\n",
    "    # Return the features as a DataFrame\n",
    "    return pd.DataFrame(all_features)\n",
    "\n",
    "\n",
    "# Process the first file to retrieve channel names\n",
    "first_file_path = processed_files[0]\n",
    "data = pd.read_parquet(first_file_path)\n",
    "channels = data.columns.tolist()  # Get the list of channel names\n",
    "\n",
    "# Process all files and combine features\n",
    "combined_features = []\n",
    "\n",
    "for file_path in processed_files:\n",
    "    print(f\"Extracting features from: {file_path}\")\n",
    "    file_features = extract_features_from_file(file_path, fs, window_size_samples)\n",
    "    combined_features.append(file_features)\n",
    "\n",
    "# Combine all features into a single DataFrame\n",
    "all_features_df = pd.concat(combined_features, ignore_index=True)\n",
    "\n",
    "# Save extracted features to a CSV file for later use\n",
    "output_feature_file = r\"C:/Users/Kevin Tran/Documents/Project Data/feature extractions/eeg_features.csv\"\n",
    "all_features_df.to_csv(output_feature_file, index=False)\n",
    "\n",
    "# Preview the extracted features\n",
    "print(\"\\nExtracted Features:\")\n",
    "print(all_features_df.head())\n",
    "print(f\"Features saved to: {output_feature_file}\")\n",
    "\n",
    "# Visualize features for the first channel\n",
    "first_channel_name = channels[0]  # Select the first channel\n",
    "first_channel_features = all_features_df[all_features_df['channel'] == first_channel_name]\n",
    "\n",
    "plt.plot(first_channel_features['window'], first_channel_features['delta_power'], label='Delta Power')\n",
    "plt.title(f'Delta Power Across Windows - {first_channel_name}')\n",
    "plt.xlabel('Window Index')\n",
    "plt.ylabel('Delta Power')\n",
    "plt.legend()\n",
    "plt.show()\n"
   ]
  },
  {
   "cell_type": "code",
   "execution_count": 10,
   "metadata": {},
   "outputs": [
    {
     "name": "stdout",
     "output_type": "stream",
     "text": [
      "✅ Detailed anomalies saved to: C:/Users/Kevin Tran/Documents/Project Data/feature extractions/eeg_anomalies_detailed.csv\n",
      "✅ EEG ID classifications saved to: C:/Users/Kevin Tran/Documents/Project Data/feature extractions/eeg_id_classifications.csv\n"
     ]
    },
    {
     "data": {
      "image/png": "[encoded data removed]",
      "text/plain": [
       "<Figure size 800x500 with 1 Axes>"
      ]
     },
     "metadata": {},
     "output_type": "display_data"
    }
   ],
   "source": [
    "import pandas as pd\n",
    "import numpy as np\n",
    "import matplotlib.pyplot as plt\n",
    "from sklearn.ensemble import IsolationForest\n",
    "\n",
    "# 📌 Load the extracted EEG feature dataset\n",
    "features_file = \"C:/Users/Kevin Tran/Documents/Project Data/feature extractions/eeg_features.csv\"\n",
    "df_features = pd.read_csv(features_file)\n",
    "\n",
    "# 📌 Extract EEG ID from the filename\n",
    "df_features[\"eeg_id\"] = df_features[\"file\"].str.extract(r'(\\d+)')  # Extract numeric EEG ID\n",
    "\n",
    "# 📌 Drop Non-Numeric Columns Before Handling NaNs\n",
    "numeric_columns = df_features.select_dtypes(include=[np.number]).columns\n",
    "df_features[numeric_columns] = df_features[numeric_columns].fillna(df_features[numeric_columns].mean())  # Fill NaNs\n",
    "\n",
    "# 📌 Drop non-numeric columns for Isolation Forest\n",
    "X = df_features[numeric_columns].copy()\n",
    "\n",
    "# 📌 Train the Isolation Forest Model\n",
    "iso_forest = IsolationForest(n_estimators=200, contamination=0.01, random_state=42)\n",
    "df_features[\"anomaly\"] = iso_forest.fit_predict(X)  # -1 = Seizure-Like, 1 = Non-Seizure\n",
    "\n",
    "# 📌 Save Detailed Anomalies for Each Channel\n",
    "detailed_anomalies_file = \"C:/Users/Kevin Tran/Documents/Project Data/feature extractions/eeg_anomalies_detailed.csv\"\n",
    "df_features.to_csv(detailed_anomalies_file, index=False)\n",
    "print(f\"✅ Detailed anomalies saved to: {detailed_anomalies_file}\")\n",
    "\n",
    "# 📌 Aggregate Anomalies by EEG ID\n",
    "# If any channel in an EEG ID is classified as an anomaly (-1), the entire EEG ID is classified as Seizure\n",
    "eeg_classifications = df_features.groupby(\"eeg_id\")[\"anomaly\"].apply(lambda x: -1 if (x == -1).any() else 1).reset_index()\n",
    "eeg_classifications[\"classification\"] = eeg_classifications[\"anomaly\"].map({-1: \"Seizure\", 1: \"Non-Seizure\"})\n",
    "\n",
    "# 📌 Save Results with EEG IDs\n",
    "eeg_classifications_file = \"C:/Users/Kevin Tran/Documents/Project Data/feature extractions/eeg_id_classifications.csv\"\n",
    "eeg_classifications.to_csv(eeg_classifications_file, index=False)\n",
    "print(f\"✅ EEG ID classifications saved to: {eeg_classifications_file}\")\n",
    "\n",
    "# 📊 Plot Distribution of EEG IDs (Seizure vs Non-Seizure)\n",
    "plt.figure(figsize=(8, 5))\n",
    "plt.hist(eeg_classifications[\"classification\"], bins=2, edgecolor=\"black\", alpha=0.7)\n",
    "plt.xlabel(\"EEG Classification\")\n",
    "plt.ylabel(\"Count\")\n",
    "plt.title(\"Distribution of Seizure vs Non-Seizure EEG IDs\")\n",
    "plt.show()\n"
   ]
  },
  {
   "cell_type": "code",
   "execution_count": 9,
   "metadata": {},
   "outputs": [
    {
     "name": "stdout",
     "output_type": "stream",
     "text": [
      "✅ EEG ID classifications saved to: C:/Users/Kevin Tran/Documents/Project Data/feature extractions/eeg_id_classifications.csv\n"
     ]
    },
    {
     "data": {
      "image/png": "[encoded data removed]",
      "text/plain": [
       "<Figure size 800x500 with 1 Axes>"
      ]
     },
     "metadata": {},
     "output_type": "display_data"
    }
   ],
   "source": [
    "import pandas as pd\n",
    "import numpy as np\n",
    "import matplotlib.pyplot as plt\n",
    "from sklearn.ensemble import IsolationForest\n",
    "\n",
    "# 📌 Load the extracted EEG feature dataset\n",
    "features_file = \"C:/Users/Kevin Tran/Documents/Project Data/feature extractions/eeg_features.csv\"\n",
    "df_features = pd.read_csv(features_file)\n",
    "\n",
    "# 📌 Extract EEG ID from the filename\n",
    "df_features[\"eeg_id\"] = df_features[\"file\"].str.extract(r'(\\d+)')  # Extract numeric EEG ID\n",
    "\n",
    "# 📌 Drop Non-Numeric Columns Before Handling NaNs\n",
    "numeric_columns = df_features.select_dtypes(include=[np.number]).columns\n",
    "df_features[numeric_columns] = df_features[numeric_columns].fillna(df_features[numeric_columns].mean())  # Fill NaNs\n",
    "\n",
    "# 📌 Drop non-numeric columns for Isolation Forest\n",
    "X = df_features[numeric_columns].copy()\n",
    "\n",
    "# 📌 Train the Isolation Forest Model\n",
    "iso_forest = IsolationForest(n_estimators=200, contamination=0.01, random_state=42)\n",
    "df_features[\"anomaly\"] = iso_forest.fit_predict(X)  # -1 = Seizure-Like, 1 = Non-Seizure\n",
    "\n",
    "# 📌 Aggregate Anomalies by EEG ID\n",
    "# If any channel in an EEG ID is classified as an anomaly (-1), the entire EEG ID is classified as Seizure\n",
    "eeg_classifications = df_features.groupby(\"eeg_id\")[\"anomaly\"].apply(lambda x: -1 if (x == -1).any() else 1).reset_index()\n",
    "eeg_classifications[\"classification\"] = eeg_classifications[\"anomaly\"].map({-1: \"Seizure\", 1: \"Non-Seizure\"})\n",
    "\n",
    "# 📌 Save Results with EEG IDs\n",
    "output_file = \"C:/Users/Kevin Tran/Documents/Project Data/feature extractions/eeg_id_classifications.csv\"\n",
    "eeg_classifications.to_csv(output_file, index=False)\n",
    "print(f\"✅ EEG ID classifications saved to: {output_file}\")\n",
    "\n",
    "# 📊 Plot Distribution of EEG IDs (Seizure vs Non-Seizure)\n",
    "plt.figure(figsize=(8, 5))\n",
    "plt.hist(eeg_classifications[\"classification\"], bins=2, edgecolor=\"black\", alpha=0.7)\n",
    "plt.xlabel(\"EEG Classification\")\n",
    "plt.ylabel(\"Count\")\n",
    "plt.title(\"Distribution of Seizure vs Non-Seizure EEG IDs\")\n",
    "plt.show()\n"
   ]
  },
  {
   "cell_type": "code",
   "execution_count": null,
   "metadata": {},
   "outputs": [],
   "source": []
  }
 ],
 "metadata": {
  "kernelspec": {
   "display_name": "Python 3",
   "language": "python",
   "name": "python3"
  },
  "language_info": {
   "codemirror_mode": {
    "name": "ipython",
    "version": 3
   },
   "file_extension": ".py",
   "mimetype": "text/x-python",
   "name": "python",
   "nbconvert_exporter": "python",
   "pygments_lexer": "ipython3",
   "version": "3.10.4"
  }
 },
 "nbformat": 4,
 "nbformat_minor": 2
}
